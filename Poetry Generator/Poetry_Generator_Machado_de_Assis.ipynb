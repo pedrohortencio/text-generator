{
  "nbformat": 4,
  "nbformat_minor": 0,
  "metadata": {
    "colab": {
      "name": "Poetry Generator Machado de Assis.ipynb",
      "provenance": [],
      "collapsed_sections": [],
      "authorship_tag": "ABX9TyPzOSeHaipwv9B76hs40KHN",
      "include_colab_link": true
    },
    "kernelspec": {
      "name": "python3",
      "display_name": "Python 3"
    },
    "language_info": {
      "name": "python"
    },
    "accelerator": "GPU"
  },
  "cells": [
    {
      "cell_type": "markdown",
      "metadata": {
        "id": "view-in-github",
        "colab_type": "text"
      },
      "source": [
        "<a href=\"https://colab.research.google.com/github/pedrohortencio/text-generator/blob/main/Poetry%20Generator/Poetry_Generator_V2.ipynb\" target=\"_parent\"><img src=\"https://colab.research.google.com/assets/colab-badge.svg\" alt=\"Open In Colab\"/></a>"
      ]
    },
    {
      "cell_type": "code",
      "metadata": {
        "id": "mJw6W49Oi_Mf"
      },
      "source": [
        "!pip install -q kaggle\n",
        "!pip install gensim\n",
        "\n",
        "!mkdir -p ~/.kaggle\n",
        "!cp kaggle.json ~/.kaggle/\n",
        "!ls ~/.kaggle\n",
        "\n",
        "!kaggle datasets download -d luxedo/machado-de-assis\n",
        "\n",
        "!unzip /content/machado-de-assis.zip"
      ],
      "execution_count": null,
      "outputs": []
    },
    {
      "cell_type": "code",
      "metadata": {
        "id": "eZ51OcnS5FFr"
      },
      "source": [
        "import numpy as np\n",
        "import matplotlib.pyplot as plt\n",
        "import pickle\n",
        "import regex as re\n",
        "\n",
        "from gensim.models import KeyedVectors\n",
        "\n",
        "import zipfile\n",
        "import os\n",
        "import urllib.request\n",
        "\n",
        "from tensorflow.keras.preprocessing.sequence import pad_sequences\n",
        "from tensorflow.keras.layers import Embedding, LSTM, Dense, Dropout, Bidirectional\n",
        "from tensorflow.keras.preprocessing.text import Tokenizer\n",
        "from tensorflow.keras.models import Sequential\n",
        "from tensorflow.keras import regularizers\n",
        "import tensorflow.keras.utils as ku \n",
        "from tensorflow.keras.callbacks import EarlyStopping"
      ],
      "execution_count": 2,
      "outputs": []
    },
    {
      "cell_type": "code",
      "metadata": {
        "id": "SQg678Vo1m0l"
      },
      "source": [
        "data = open('/content/raw/txt/poesia/ocidentais.txt').read()\n",
        "corpus1 = data.lower().split(\"\\n\")  # divide as poesias em linhas\n",
        "corpus1 = corpus1[28:]    # Sem o índice\n",
        "\n",
        "data = open('/content/raw/txt/poesia/crisalidas.txt').read()\n",
        "corpus2 = data.lower().split(\"\\n\")\n",
        "corpus2 = corpus2[34:2089]\n",
        "\n",
        "data = open('/content/raw/txt/poesia/almada.txt').read()\n",
        "corpus3 = data.lower().split(\"\\n\")\n",
        "corpus3 = corpus3[100:2518]\n",
        "\n",
        "data = open('/content/raw/txt/poesia/gazeta.txt').read()\n",
        "corpus4 = data.lower().split(\"\\n\")\n",
        "corpus4 = corpus4[4:4455]\n",
        "\n",
        "corpus = corpus1 + corpus4 #+ corpus2 + corpus3     # concatena os corpus referentes a diferentes livros"
      ],
      "execution_count": 17,
      "outputs": []
    },
    {
      "cell_type": "code",
      "metadata": {
        "colab": {
          "base_uri": "https://localhost:8080/"
        },
        "id": "vEi_7C_iBXNM",
        "outputId": "d64d6a54-fc0d-4349-e162-7e8653665c4c"
      },
      "source": [
        "#to_exclude = '\"#$%&()*+,-./:;<=>@[\\\\]^_`{|}~\\t'\n",
        "\n",
        "corpus = [text.replace(\"-\", \"\") for text in corpus] # remove - das palavras: casou-se vira casouse\n",
        "\n",
        "tokenizer = Tokenizer() # cria um tokenizer\n",
        "tokenizer.fit_on_texts(corpus)  # treina o tokenizer no corpus\n",
        "\n",
        "total_words = len(tokenizer.word_index) + 1\n",
        "print(\"Total de palavras: \", len(tokenizer.word_index))"
      ],
      "execution_count": 18,
      "outputs": [
        {
          "output_type": "stream",
          "text": [
            "Total de palavras:  6965\n"
          ],
          "name": "stdout"
        }
      ]
    },
    {
      "cell_type": "code",
      "metadata": {
        "id": "qgReOka053rJ"
      },
      "source": [
        "with open('tokenizer.pickle', 'wb') as handle:\n",
        "    pickle.dump(tokenizer, handle, protocol=pickle.HIGHEST_PROTOCOL)"
      ],
      "execution_count": 19,
      "outputs": []
    },
    {
      "cell_type": "code",
      "metadata": {
        "id": "Y9Wm1-ciGr-k"
      },
      "source": [
        "#### Célula apenas para exemplificar o funcionamento e lógica por trás da criação dos predictors e label\n",
        "\n",
        "\"\"\"print(\"Frase para teste: \", '\"Olá! O meu nome é Pedro\"\\n')\n",
        "ls_test = []\n",
        "for i in range(1, len(tokenizer.texts_to_sequences([\"Olá! O meu nome é Pedro\"])[0])):\n",
        "    n_gram = tokenizer.texts_to_sequences([\"Olá! O meu nome é Pedro\"])[0][:i+1]\n",
        "\n",
        "    ls_test.append(n_gram)\n",
        "    print(f\"{i}º engrama: \\n {n_gram}\")\n",
        "\n",
        "max_sequence_len = max([len(x) for x in ls_test])\n",
        "ls_test = np.array(pad_sequences(ls_test, maxlen=max_sequence_len, padding='pre'))\n",
        "print(\"\\nLista de n-gramas: \\n\", ls_test)\n",
        "\n",
        "predictors, label = ls_test[:,:-1], ls_test[:,-1]\n",
        "print(\"\\nPredictors: \\n\", predictors)\n",
        "print(\"\\nLabels: \\n\", label)\n",
        "\n",
        "label = ku.to_categorical(label, num_classes=total_words)\n",
        "\n",
        "print(\"\\nLabels depois do processo de one-hot-encoding: \\n\", label)\"\"\""
      ],
      "execution_count": null,
      "outputs": []
    },
    {
      "cell_type": "code",
      "metadata": {
        "id": "cD0cXFXm3jGe"
      },
      "source": [
        "# create input sequences using list of tokens\n",
        "input_sequences = []\n",
        "for line in corpus:\n",
        "    # Para cada linha no corpus, é criado uma sequência de inteiros que representa a frase\n",
        "\ttoken_list = tokenizer.texts_to_sequences([line])[0]\n",
        "\n",
        "    # Cria n-grama da frase\n",
        "\tfor i in range(1, len(token_list)):\n",
        "\t\tn_gram_sequence = token_list[:i+1]\n",
        "\t\tinput_sequences.append(n_gram_sequence)\n",
        "\n",
        "# pad sequences \n",
        "max_sequence_len = max([len(x) for x in input_sequences])\n",
        "input_sequences = np.array(pad_sequences(input_sequences, maxlen=max_sequence_len, padding='pre'))\n",
        "\n",
        "# Criar duas variáveis: predictors e label\n",
        "    # Predictors: conjunto de todos os n-gramas, mas sem a última palavra da frase\n",
        "    # Label: ndarray com todas as últimas palavras de cada um dos n-gramas\n",
        "predictors, label = input_sequences[:,:-1],input_sequences[:,-1]\n",
        "\n",
        "# One-hot encoding na variável de labels\n",
        "label = ku.to_categorical(label, num_classes=total_words)"
      ],
      "execution_count": 20,
      "outputs": []
    },
    {
      "cell_type": "markdown",
      "metadata": {
        "id": "9AAbrksdsMrp"
      },
      "source": [
        "[Repositório de Word Embeddings do NILC - USP](http://www.nilc.icmc.usp.br/embeddings)"
      ]
    },
    {
      "cell_type": "code",
      "metadata": {
        "id": "ma7fXFH1pOBN"
      },
      "source": [
        "#embedding_url = \"http://143.107.183.175:22980/download.php?file=embeddings/word2vec/cbow_s300.zip\"\n",
        "#embedding_url = 'http://143.107.183.175:22980/download.php?file=embeddings/word2vec/skip_s300.zip'\n",
        "embedding_url = 'http://143.107.183.175:22980/download.php?file=embeddings/word2vec/cbow_s100.zip'\n",
        "#embedding_url = 'http://143.107.183.175:22980/download.php?file=embeddings/word2vec/skip_s100.zip'"
      ],
      "execution_count": 7,
      "outputs": []
    },
    {
      "cell_type": "code",
      "metadata": {
        "id": "pPjoNf59vfzz"
      },
      "source": [
        "_, _ = urllib.request.urlretrieve(embedding_url, filename=\"/content/word2vec.zip\")\n",
        "\n",
        "with zipfile.ZipFile('/content/word2vec.zip', 'r') as zip_ref:\n",
        "    zip_ref.extractall('/content/word2vec')"
      ],
      "execution_count": 8,
      "outputs": []
    },
    {
      "cell_type": "code",
      "metadata": {
        "id": "xhNmrda0zbx5"
      },
      "source": [
        "model = KeyedVectors.load_word2vec_format('/content/word2vec/cbow_s100.txt')"
      ],
      "execution_count": 21,
      "outputs": []
    },
    {
      "cell_type": "code",
      "metadata": {
        "id": "m_qVeBjm3T5w"
      },
      "source": [
        "embedding_weights = np.zeros((total_words, 100))\n",
        "for word, index in tokenizer.word_index.items():\n",
        "    try:\n",
        "        embedding_weights[index, :] = model[word]\n",
        "    except KeyError:\n",
        "        pass"
      ],
      "execution_count": 22,
      "outputs": []
    },
    {
      "cell_type": "code",
      "metadata": {
        "id": "i-gUDfAb7Et_"
      },
      "source": [
        "with open('embedding-weights.pickle', 'wb') as handle:\n",
        "    pickle.dump(embedding_weights, handle, protocol=pickle.HIGHEST_PROTOCOL)"
      ],
      "execution_count": 23,
      "outputs": []
    },
    {
      "cell_type": "code",
      "metadata": {
        "id": "KR5x3WmQa8ON"
      },
      "source": [
        "from keras.layers import Flatten, LeakyReLU"
      ],
      "execution_count": 59,
      "outputs": []
    },
    {
      "cell_type": "code",
      "metadata": {
        "id": "2o_8PVsZ5O17",
        "colab": {
          "base_uri": "https://localhost:8080/"
        },
        "outputId": "0cd08b55-5d5f-41a0-90f0-172f2774edec"
      },
      "source": [
        "model = Sequential()\n",
        "\n",
        "model.add(Embedding(total_words, 100, weights = [embedding_weights], input_length = max_sequence_len-1, trainable=False))\n",
        "\n",
        "model.add(Bidirectional(LSTM(256, return_sequences = True)))\n",
        "#model.add(Dropout(0.2))\n",
        "\n",
        "model.add(Flatten())\n",
        "model.add(Dense(100))\n",
        "model.add(LeakyReLU(alpha=0.2))\n",
        "\n",
        "model.add(Dense(total_words, activation = 'softmax'))\n",
        "\n",
        "model.compile(loss='categorical_crossentropy', optimizer='adam', metrics=['accuracy'])\n",
        "print(model.summary())"
      ],
      "execution_count": 81,
      "outputs": [
        {
          "output_type": "stream",
          "text": [
            "Model: \"sequential_27\"\n",
            "_________________________________________________________________\n",
            "Layer (type)                 Output Shape              Param #   \n",
            "=================================================================\n",
            "embedding_27 (Embedding)     (None, 11, 100)           696600    \n",
            "_________________________________________________________________\n",
            "bidirectional_27 (Bidirectio (None, 11, 512)           731136    \n",
            "_________________________________________________________________\n",
            "flatten_13 (Flatten)         (None, 5632)              0         \n",
            "_________________________________________________________________\n",
            "dense_39 (Dense)             (None, 100)               563300    \n",
            "_________________________________________________________________\n",
            "leaky_re_lu_11 (LeakyReLU)   (None, 100)               0         \n",
            "_________________________________________________________________\n",
            "dense_40 (Dense)             (None, 6966)              703566    \n",
            "=================================================================\n",
            "Total params: 2,694,602\n",
            "Trainable params: 1,998,002\n",
            "Non-trainable params: 696,600\n",
            "_________________________________________________________________\n",
            "None\n"
          ],
          "name": "stdout"
        }
      ]
    },
    {
      "cell_type": "code",
      "metadata": {
        "colab": {
          "base_uri": "https://localhost:8080/"
        },
        "id": "3m5LEgKI5Ql4",
        "outputId": "553a5891-399a-47b2-a4c1-9ea963d82220"
      },
      "source": [
        "history = model.fit(predictors, label, batch_size=64, epochs=50) "
      ],
      "execution_count": 82,
      "outputs": [
        {
          "output_type": "stream",
          "text": [
            "Epoch 1/50\n",
            "345/345 [==============================] - 10s 18ms/step - loss: 7.7863 - accuracy: 0.0393\n",
            "Epoch 2/50\n",
            "345/345 [==============================] - 6s 17ms/step - loss: 6.8070 - accuracy: 0.0772\n",
            "Epoch 3/50\n",
            "345/345 [==============================] - 6s 17ms/step - loss: 6.2235 - accuracy: 0.0922\n",
            "Epoch 4/50\n",
            "345/345 [==============================] - 6s 17ms/step - loss: 5.6200 - accuracy: 0.1030\n",
            "Epoch 5/50\n",
            "345/345 [==============================] - 6s 17ms/step - loss: 5.0313 - accuracy: 0.1176\n",
            "Epoch 6/50\n",
            "345/345 [==============================] - 6s 17ms/step - loss: 4.4255 - accuracy: 0.1588\n",
            "Epoch 7/50\n",
            "345/345 [==============================] - 6s 17ms/step - loss: 3.8345 - accuracy: 0.2294\n",
            "Epoch 8/50\n",
            "345/345 [==============================] - 6s 17ms/step - loss: 3.3740 - accuracy: 0.3021\n",
            "Epoch 9/50\n",
            "345/345 [==============================] - 6s 17ms/step - loss: 2.9814 - accuracy: 0.3682\n",
            "Epoch 10/50\n",
            "345/345 [==============================] - 6s 17ms/step - loss: 2.7368 - accuracy: 0.4136\n",
            "Epoch 11/50\n",
            "345/345 [==============================] - 6s 17ms/step - loss: 2.5033 - accuracy: 0.4502\n",
            "Epoch 12/50\n",
            "345/345 [==============================] - 6s 17ms/step - loss: 2.3203 - accuracy: 0.4822\n",
            "Epoch 13/50\n",
            "345/345 [==============================] - 6s 17ms/step - loss: 2.1546 - accuracy: 0.5154\n",
            "Epoch 14/50\n",
            "345/345 [==============================] - 6s 17ms/step - loss: 2.0230 - accuracy: 0.5444\n",
            "Epoch 15/50\n",
            "345/345 [==============================] - 6s 17ms/step - loss: 1.8922 - accuracy: 0.5706\n",
            "Epoch 16/50\n",
            "345/345 [==============================] - 6s 17ms/step - loss: 1.7824 - accuracy: 0.5906\n",
            "Epoch 17/50\n",
            "345/345 [==============================] - 6s 17ms/step - loss: 1.7050 - accuracy: 0.6100\n",
            "Epoch 18/50\n",
            "345/345 [==============================] - 6s 17ms/step - loss: 1.6058 - accuracy: 0.6353\n",
            "Epoch 19/50\n",
            "345/345 [==============================] - 6s 17ms/step - loss: 1.5223 - accuracy: 0.6531\n",
            "Epoch 20/50\n",
            "345/345 [==============================] - 6s 17ms/step - loss: 1.4666 - accuracy: 0.6651\n",
            "Epoch 21/50\n",
            "345/345 [==============================] - 6s 17ms/step - loss: 1.4090 - accuracy: 0.6808\n",
            "Epoch 22/50\n",
            "345/345 [==============================] - 6s 17ms/step - loss: 1.3687 - accuracy: 0.6884\n",
            "Epoch 23/50\n",
            "345/345 [==============================] - 6s 17ms/step - loss: 1.3065 - accuracy: 0.7010\n",
            "Epoch 24/50\n",
            "345/345 [==============================] - 6s 17ms/step - loss: 1.2915 - accuracy: 0.7040\n",
            "Epoch 25/50\n",
            "345/345 [==============================] - 6s 17ms/step - loss: 1.2267 - accuracy: 0.7162\n",
            "Epoch 26/50\n",
            "345/345 [==============================] - 6s 17ms/step - loss: 1.2149 - accuracy: 0.7183\n",
            "Epoch 27/50\n",
            "345/345 [==============================] - 6s 17ms/step - loss: 1.1697 - accuracy: 0.7271\n",
            "Epoch 28/50\n",
            "345/345 [==============================] - 6s 17ms/step - loss: 1.1993 - accuracy: 0.7229\n",
            "Epoch 29/50\n",
            "345/345 [==============================] - 6s 17ms/step - loss: 1.1754 - accuracy: 0.7256\n",
            "Epoch 30/50\n",
            "345/345 [==============================] - 6s 17ms/step - loss: 1.1397 - accuracy: 0.7346\n",
            "Epoch 31/50\n",
            "345/345 [==============================] - 6s 17ms/step - loss: 1.1393 - accuracy: 0.7311\n",
            "Epoch 32/50\n",
            "345/345 [==============================] - 6s 17ms/step - loss: 1.0958 - accuracy: 0.7414\n",
            "Epoch 33/50\n",
            "345/345 [==============================] - 6s 17ms/step - loss: 1.0868 - accuracy: 0.7429\n",
            "Epoch 34/50\n",
            "345/345 [==============================] - 6s 17ms/step - loss: 1.0941 - accuracy: 0.7376\n",
            "Epoch 35/50\n",
            "345/345 [==============================] - 6s 17ms/step - loss: 1.0955 - accuracy: 0.7405\n",
            "Epoch 36/50\n",
            "345/345 [==============================] - 6s 17ms/step - loss: 1.0915 - accuracy: 0.7402\n",
            "Epoch 37/50\n",
            "345/345 [==============================] - 6s 17ms/step - loss: 1.0670 - accuracy: 0.7413\n",
            "Epoch 38/50\n",
            "345/345 [==============================] - 6s 17ms/step - loss: 1.0488 - accuracy: 0.7467\n",
            "Epoch 39/50\n",
            "345/345 [==============================] - 6s 17ms/step - loss: 1.0487 - accuracy: 0.7464\n",
            "Epoch 40/50\n",
            "345/345 [==============================] - 6s 18ms/step - loss: 1.0439 - accuracy: 0.7432\n",
            "Epoch 41/50\n",
            "345/345 [==============================] - 6s 17ms/step - loss: 1.0377 - accuracy: 0.7420\n",
            "Epoch 42/50\n",
            "345/345 [==============================] - 6s 17ms/step - loss: 1.0428 - accuracy: 0.7405\n",
            "Epoch 43/50\n",
            "345/345 [==============================] - 6s 17ms/step - loss: 1.0401 - accuracy: 0.7427\n",
            "Epoch 44/50\n",
            "345/345 [==============================] - 6s 17ms/step - loss: 1.0165 - accuracy: 0.7485\n",
            "Epoch 45/50\n",
            "345/345 [==============================] - 6s 18ms/step - loss: 1.0498 - accuracy: 0.7396\n",
            "Epoch 46/50\n",
            "345/345 [==============================] - 6s 17ms/step - loss: 1.0334 - accuracy: 0.7420\n",
            "Epoch 47/50\n",
            "345/345 [==============================] - 6s 17ms/step - loss: 1.0125 - accuracy: 0.7482\n",
            "Epoch 48/50\n",
            "345/345 [==============================] - 6s 17ms/step - loss: 1.0302 - accuracy: 0.7448\n",
            "Epoch 49/50\n",
            "345/345 [==============================] - 6s 17ms/step - loss: 1.0231 - accuracy: 0.7435\n",
            "Epoch 50/50\n",
            "345/345 [==============================] - 6s 17ms/step - loss: 1.0001 - accuracy: 0.7494\n"
          ],
          "name": "stdout"
        }
      ]
    },
    {
      "cell_type": "code",
      "metadata": {
        "colab": {
          "base_uri": "https://localhost:8080/",
          "height": 545
        },
        "id": "Hr-WfS1-5STQ",
        "outputId": "a1f3dffc-2c4c-4fed-910e-753cb1cf1273"
      },
      "source": [
        "acc = history.history['accuracy']\n",
        "loss = history.history['loss']\n",
        "\n",
        "epochs = range(len(acc))\n",
        "\n",
        "plt.plot(epochs, acc, 'b', label='Training accuracy')\n",
        "plt.title('Training accuracy')\n",
        "\n",
        "plt.figure()\n",
        "\n",
        "plt.plot(epochs, loss, 'b', label='Training Loss')\n",
        "plt.title('Training loss')\n",
        "plt.legend()\n",
        "\n",
        "plt.show()"
      ],
      "execution_count": 83,
      "outputs": [
        {
          "output_type": "display_data",
          "data": {
            "image/png": "[encoded data removed]",
            "text/plain": [
              "<Figure size 432x288 with 1 Axes>"
            ]
          },
          "metadata": {
            "tags": [],
            "needs_background": "light"
          }
        },
        {
          "output_type": "display_data",
          "data": {
            "image/png": "[encoded data removed]",
            "text/plain": [
              "<Figure size 432x288 with 1 Axes>"
            ]
          },
          "metadata": {
            "tags": [],
            "needs_background": "light"
          }
        }
      ]
    },
    {
      "cell_type": "code",
      "metadata": {
        "id": "SruG36Wn5-GX",
        "colab": {
          "base_uri": "https://localhost:8080/"
        },
        "outputId": "97349d73-b966-4d7c-daf4-a6ef57be5963"
      },
      "source": [
        "model.save('/content/model')"
      ],
      "execution_count": 85,
      "outputs": [
        {
          "output_type": "stream",
          "text": [
            "WARNING:absl:Found untraced functions such as lstm_cell_92_layer_call_fn, lstm_cell_92_layer_call_and_return_conditional_losses, lstm_cell_93_layer_call_fn, lstm_cell_93_layer_call_and_return_conditional_losses, lstm_cell_92_layer_call_fn while saving (showing 5 of 10). These functions will not be directly callable after loading.\n",
            "WARNING:absl:Found untraced functions such as lstm_cell_92_layer_call_fn, lstm_cell_92_layer_call_and_return_conditional_losses, lstm_cell_93_layer_call_fn, lstm_cell_93_layer_call_and_return_conditional_losses, lstm_cell_92_layer_call_fn while saving (showing 5 of 10). These functions will not be directly callable after loading.\n"
          ],
          "name": "stderr"
        },
        {
          "output_type": "stream",
          "text": [
            "INFO:tensorflow:Assets written to: /content/model/assets\n"
          ],
          "name": "stdout"
        },
        {
          "output_type": "stream",
          "text": [
            "INFO:tensorflow:Assets written to: /content/model/assets\n"
          ],
          "name": "stderr"
        }
      ]
    },
    {
      "cell_type": "code",
      "metadata": {
        "colab": {
          "base_uri": "https://localhost:8080/"
        },
        "id": "NvQh88Jwiky2",
        "outputId": "70be1f99-297f-47ed-9900-a33935116e72"
      },
      "source": [
        "!zip -r /content/model-poetry-generator-ptbrV2.02.25041118.zip /content/model"
      ],
      "execution_count": 86,
      "outputs": [
        {
          "output_type": "stream",
          "text": [
            "updating: content/model/ (stored 0%)\n",
            "updating: content/model/variables/ (stored 0%)\n",
            "updating: content/model/variables/variables.index (deflated 65%)\n",
            "updating: content/model/variables/variables.data-00000-of-00001 (deflated 8%)\n",
            "updating: content/model/saved_model.pb (deflated 89%)\n",
            "updating: content/model/assets/ (stored 0%)\n"
          ],
          "name": "stdout"
        }
      ]
    },
    {
      "cell_type": "code",
      "metadata": {
        "id": "BDB_vUiciU1N"
      },
      "source": [
        "model.save_weights('poetry-generator-ptbrV2.02.25041118.h5')"
      ],
      "execution_count": 87,
      "outputs": []
    },
    {
      "cell_type": "code",
      "metadata": {
        "colab": {
          "base_uri": "https://localhost:8080/"
        },
        "id": "58gEXQ_x5YqI",
        "outputId": "40fdfb76-d33a-44a2-c67c-2d826f9e476f"
      },
      "source": [
        "#seed_text = \"Minha alma\"\n",
        "#seed_text = 'Nenhuma quantidade de liberdade pode limpar'\n",
        "#seed_text = 'Água mole em pedra dura'\n",
        "seed_text = 'Os olhos dela brilhavam como o sol'\n",
        "\n",
        "next_words = 100\n",
        "  \n",
        "for _ in range(next_words):\n",
        "    token_list = tokenizer.texts_to_sequences([seed_text])[0]\n",
        "    token_list = pad_sequences([token_list], maxlen=max_sequence_len-1, padding='pre')\n",
        "    predicted = np.argmax(model.predict(token_list), axis=-1)\n",
        "    #predicted = model.predict_classes(token_list, verbose=0)\n",
        "    output_word = \"\"\n",
        "    for word, index in tokenizer.word_index.items():\n",
        "        if index == predicted:\n",
        "            output_word = word\n",
        "            break\n",
        "    seed_text += \" \" + output_word\n",
        "\n",
        "seed_text = seed_text.replace(\" .\", \".\").replace(\" ,\", \",\").replace(\" !\", \"!\").replace(\" ?\", \"?\").replace(\" :\", \":\")\n",
        "\n",
        "print(seed_text)"
      ],
      "execution_count": 84,
      "outputs": [
        {
          "output_type": "stream",
          "text": [
            "Os olhos dela brilhavam como o sol caída para eterna morte ou mestre amigo o sol que pimenta mil e mesmo de lá não se de amigo e de tal e triste de mistério de folhas que de ela adverso de de um de que de um o de outro ” triste vagalume vivo vagalume mudo canto e tudo — que me dera o inferno ou a rua de ela que de vida que nada de um de ou sem de poltrona e ela se que meninas e o mais que há de de o de a de de outra lady e repente cantiga triste que outro\n"
          ],
          "name": "stdout"
        }
      ]
    },
    {
      "cell_type": "markdown",
      "metadata": {
        "id": "sxpmvpTdzDkD"
      },
      "source": [
        "[Pretrained Word Embeddings](https://www.analyticsvidhya.com/blog/2020/03/pretrained-word-embeddings-nlp/)"
      ]
    }
  ]
}
