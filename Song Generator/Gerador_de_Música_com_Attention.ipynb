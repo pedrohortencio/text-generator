{
  "nbformat": 4,
  "nbformat_minor": 0,
  "metadata": {
    "accelerator": "GPU",
    "colab": {
      "name": "(Attention) Gerador de Música (CELSO).ipynb",
      "provenance": [],
      "collapsed_sections": [],
      "include_colab_link": true
    },
    "kernelspec": {
      "display_name": "Python 3",
      "name": "python3"
    }
  },
  "cells": [
    {
      "cell_type": "markdown",
      "metadata": {
        "id": "view-in-github",
        "colab_type": "text"
      },
      "source": [
        "<a href=\"https://colab.research.google.com/github/pedrohortencio/text-generator/blob/main/Song%20Generator/Gerador_de_M%C3%BAsica_com_Attention.ipynb\" target=\"_parent\"><img src=\"https://colab.research.google.com/assets/colab-badge.svg\" alt=\"Open In Colab\"/></a>"
      ]
    },
    {
      "cell_type": "code",
      "metadata": {
        "colab": {
          "base_uri": "https://localhost:8080/"
        },
        "id": "Gu4voNFimPDl",
        "outputId": "28036a0c-819d-4e54-ba62-350673f8dc8c"
      },
      "source": [
        "!pip uninstall keras -y\n",
        "!pip install -U keras"
      ],
      "execution_count": 1,
      "outputs": [
        {
          "output_type": "stream",
          "text": [
            "Uninstalling Keras-2.4.3:\n",
            "  Successfully uninstalled Keras-2.4.3\n",
            "Collecting keras\n",
            "  Downloading https://files.pythonhosted.org/packages/44/e1/dc0757b20b56c980b5553c1b5c4c32d378c7055ab7bfa92006801ad359ab/Keras-2.4.3-py2.py3-none-any.whl\n",
            "Requirement already satisfied, skipping upgrade: scipy>=0.14 in /usr/local/lib/python3.7/dist-packages (from keras) (1.4.1)\n",
            "Requirement already satisfied, skipping upgrade: numpy>=1.9.1 in /usr/local/lib/python3.7/dist-packages (from keras) (1.19.5)\n",
            "Requirement already satisfied, skipping upgrade: h5py in /usr/local/lib/python3.7/dist-packages (from keras) (3.1.0)\n",
            "Requirement already satisfied, skipping upgrade: pyyaml in /usr/local/lib/python3.7/dist-packages (from keras) (3.13)\n",
            "Requirement already satisfied, skipping upgrade: cached-property; python_version < \"3.8\" in /usr/local/lib/python3.7/dist-packages (from h5py->keras) (1.5.2)\n",
            "Installing collected packages: keras\n",
            "Successfully installed keras-2.4.3\n"
          ],
          "name": "stdout"
        }
      ]
    },
    {
      "cell_type": "markdown",
      "metadata": {
        "id": "66mgOrR-o2Ru"
      },
      "source": [
        "/usr/local/lib/python3.7/dist-packages/keras/initializers/__init__.py "
      ]
    },
    {
      "cell_type": "code",
      "metadata": {
        "colab": {
          "base_uri": "https://localhost:8080/",
          "height": 222
        },
        "id": "5ayVqZ9EpG4O",
        "outputId": "add1d376-785a-4f26-f616-b1578d1f3402"
      },
      "source": [
        "import os\n",
        "from shutil import copyfile\n",
        "\n",
        "path_utils = '/usr/local/lib/python3.7/dist-packages/keras/utils/generic_utils.py'\n",
        "\n",
        "url_utils = 'https://raw.githubusercontent.com/tensorflow/tensorflow/master/tensorflow/python/keras/utils/generic_utils.py'\n",
        "\n",
        "os.remove(path_utils)\n",
        "\n",
        "!wget  $url_utils\n",
        "\n",
        "copyfile('/content/generic_utils.py', path_utils)"
      ],
      "execution_count": 2,
      "outputs": [
        {
          "output_type": "stream",
          "text": [
            "--2021-06-09 20:49:59--  https://raw.githubusercontent.com/tensorflow/tensorflow/master/tensorflow/python/keras/utils/generic_utils.py\n",
            "Resolving raw.githubusercontent.com (raw.githubusercontent.com)... 185.199.108.133, 185.199.109.133, 185.199.110.133, ...\n",
            "Connecting to raw.githubusercontent.com (raw.githubusercontent.com)|185.199.108.133|:443... connected.\n",
            "HTTP request sent, awaiting response... 200 OK\n",
            "Length: 42150 (41K) [text/plain]\n",
            "Saving to: ‘generic_utils.py’\n",
            "\n",
            "generic_utils.py    100%[===================>]  41.16K  --.-KB/s    in 0.005s  \n",
            "\n",
            "2021-06-09 20:49:59 (8.08 MB/s) - ‘generic_utils.py’ saved [42150/42150]\n",
            "\n"
          ],
          "name": "stdout"
        },
        {
          "output_type": "execute_result",
          "data": {
            "application/vnd.google.colaboratory.intrinsic+json": {
              "type": "string"
            },
            "text/plain": [
              "'/usr/local/lib/python3.7/dist-packages/keras/utils/generic_utils.py'"
            ]
          },
          "metadata": {
            "tags": []
          },
          "execution_count": 2
        }
      ]
    },
    {
      "cell_type": "markdown",
      "metadata": {
        "id": "1dBcWloAxxgf"
      },
      "source": [
        "[Keras Self Attention](https://pypi.org/project/keras-self-attention/)\n",
        "\n",
        "[Attention is All You Need - Paper](https://arxiv.org/abs/1706.03762)"
      ]
    },
    {
      "cell_type": "code",
      "metadata": {
        "colab": {
          "base_uri": "https://localhost:8080/"
        },
        "id": "Wr-ZE7DKmNWd",
        "outputId": "478a8831-23e0-4e52-9aab-6f9d4b335332"
      },
      "source": [
        "!pip install keras-self-attention\n",
        "from tensorflow import keras\n",
        "from keras_self_attention import SeqSelfAttention"
      ],
      "execution_count": 3,
      "outputs": [
        {
          "output_type": "stream",
          "text": [
            "Collecting keras-self-attention\n",
            "  Downloading https://files.pythonhosted.org/packages/c3/34/e21dc6adcdab2be03781bde78c6c5d2b2136d35a1dd3e692d7e160ba062a/keras-self-attention-0.49.0.tar.gz\n",
            "Requirement already satisfied: numpy in /usr/local/lib/python3.7/dist-packages (from keras-self-attention) (1.19.5)\n",
            "Requirement already satisfied: Keras in /usr/local/lib/python3.7/dist-packages (from keras-self-attention) (2.4.3)\n",
            "Requirement already satisfied: h5py in /usr/local/lib/python3.7/dist-packages (from Keras->keras-self-attention) (3.1.0)\n",
            "Requirement already satisfied: pyyaml in /usr/local/lib/python3.7/dist-packages (from Keras->keras-self-attention) (3.13)\n",
            "Requirement already satisfied: scipy>=0.14 in /usr/local/lib/python3.7/dist-packages (from Keras->keras-self-attention) (1.4.1)\n",
            "Requirement already satisfied: cached-property; python_version < \"3.8\" in /usr/local/lib/python3.7/dist-packages (from h5py->Keras->keras-self-attention) (1.5.2)\n",
            "Building wheels for collected packages: keras-self-attention\n",
            "  Building wheel for keras-self-attention (setup.py) ... \u001b[?25l\u001b[?25hdone\n",
            "  Created wheel for keras-self-attention: filename=keras_self_attention-0.49.0-cp37-none-any.whl size=19468 sha256=622508b595ccaa67eb9e1edf2efc854f40fed08b0b63d8c3354bb4c31f1f83c2\n",
            "  Stored in directory: /root/.cache/pip/wheels/6f/9d/c5/26693a5092d9313daeae94db04818fc0a2b7a48ea381989f34\n",
            "Successfully built keras-self-attention\n",
            "Installing collected packages: keras-self-attention\n",
            "Successfully installed keras-self-attention-0.49.0\n"
          ],
          "name": "stdout"
        }
      ]
    },
    {
      "cell_type": "code",
      "metadata": {
        "id": "2rj4jdAhx7Xx",
        "colab": {
          "base_uri": "https://localhost:8080/"
        },
        "outputId": "998aebef-16e5-426b-e2e7-00fb76328dd1"
      },
      "source": [
        "url = 'https://raw.githubusercontent.com/thushv89/attention_keras/322a16ee147122026b63305aaa5e899d9e5de883/src/layers/attention.py'\n",
        "!wget $url\n",
        "\n",
        "from attention import AttentionLayer"
      ],
      "execution_count": 4,
      "outputs": [
        {
          "output_type": "stream",
          "text": [
            "--2021-06-09 20:50:04--  https://raw.githubusercontent.com/thushv89/attention_keras/322a16ee147122026b63305aaa5e899d9e5de883/src/layers/attention.py\n",
            "Resolving raw.githubusercontent.com (raw.githubusercontent.com)... 185.199.108.133, 185.199.109.133, 185.199.110.133, ...\n",
            "Connecting to raw.githubusercontent.com (raw.githubusercontent.com)|185.199.108.133|:443... connected.\n",
            "HTTP request sent, awaiting response... 200 OK\n",
            "Length: 4645 (4.5K) [text/plain]\n",
            "Saving to: ‘attention.py’\n",
            "\n",
            "\rattention.py          0%[                    ]       0  --.-KB/s               \rattention.py        100%[===================>]   4.54K  --.-KB/s    in 0s      \n",
            "\n",
            "2021-06-09 20:50:05 (60.3 MB/s) - ‘attention.py’ saved [4645/4645]\n",
            "\n"
          ],
          "name": "stdout"
        }
      ]
    },
    {
      "cell_type": "code",
      "metadata": {
        "id": "FQ3OA1TdJ7xQ"
      },
      "source": [
        "import tensorflow as tf\n",
        "from tensorflow.keras.layers import Embedding, LSTM, Dense, Bidirectional, GRU, Attention, Input, Concatenate, TimeDistributed\n",
        "from tensorflow.keras.models import Sequential\n",
        "from tensorflow.keras.optimizers import Adam\n",
        "from tensorflow.keras.callbacks import ModelCheckpoint\n"
      ],
      "execution_count": 5,
      "outputs": []
    },
    {
      "cell_type": "code",
      "metadata": {
        "id": "3TDYSVEW-_-8"
      },
      "source": [
        "#datasets e suas urls de arquivos no github\n",
        "datasets_url = [('sertanejo','https://github.com/joaopaulopresa/nlp_mix/raw/main/RUBvuGiuSc.zip')\n",
        "                ,('mpb','https://github.com/joaopaulopresa/nlp_mix/raw/main/7w1jnEycYJ.zip')\n",
        "                ,('gospel', 'https://github.com/joaopaulopresa/nlp_mix/raw/main/SUShLtSOHp.zip')\n",
        "]"
      ],
      "execution_count": 6,
      "outputs": []
    },
    {
      "cell_type": "code",
      "metadata": {
        "id": "4HzVB7QL_oSI",
        "colab": {
          "base_uri": "https://localhost:8080/"
        },
        "outputId": "03ac1554-48a0-4242-cfa7-fb5716bffbeb"
      },
      "source": [
        "#baixando os datasets descompactando na pasta datasets\n",
        "from pathlib import Path\n",
        "data_sets_path = '/content/datasets'\n",
        "Path(data_sets_path).mkdir(parents=True, exist_ok=True)\n",
        "for dataset,url in datasets_url:\n",
        "  print('baixado dataset ',dataset)\n",
        "  zipfile = url.split('/')[-1]\n",
        "  !wget $url\n",
        "  !unzip $zipfile -d /content/datasets\n"
      ],
      "execution_count": 7,
      "outputs": [
        {
          "output_type": "stream",
          "text": [
            "baixado dataset  sertanejo\n",
            "--2021-06-09 20:50:05--  https://github.com/joaopaulopresa/nlp_mix/raw/main/RUBvuGiuSc.zip\n",
            "Resolving github.com (github.com)... 192.30.255.113\n",
            "Connecting to github.com (github.com)|192.30.255.113|:443... connected.\n",
            "HTTP request sent, awaiting response... 302 Found\n",
            "Location: https://raw.githubusercontent.com/joaopaulopresa/nlp_mix/main/RUBvuGiuSc.zip [following]\n",
            "--2021-06-09 20:50:05--  https://raw.githubusercontent.com/joaopaulopresa/nlp_mix/main/RUBvuGiuSc.zip\n",
            "Resolving raw.githubusercontent.com (raw.githubusercontent.com)... 185.199.108.133, 185.199.109.133, 185.199.110.133, ...\n",
            "Connecting to raw.githubusercontent.com (raw.githubusercontent.com)|185.199.108.133|:443... connected.\n",
            "HTTP request sent, awaiting response... 200 OK\n",
            "Length: 15581475 (15M) [application/zip]\n",
            "Saving to: ‘RUBvuGiuSc.zip’\n",
            "\n",
            "RUBvuGiuSc.zip      100%[===================>]  14.86M  69.4MB/s    in 0.2s    \n",
            "\n",
            "2021-06-09 20:50:06 (69.4 MB/s) - ‘RUBvuGiuSc.zip’ saved [15581475/15581475]\n",
            "\n",
            "Archive:  RUBvuGiuSc.zip\n",
            "  inflating: /content/datasets/dataset_sertanejo.csv  \n",
            "baixado dataset  mpb\n",
            "--2021-06-09 20:50:06--  https://github.com/joaopaulopresa/nlp_mix/raw/main/7w1jnEycYJ.zip\n",
            "Resolving github.com (github.com)... 192.30.255.112\n",
            "Connecting to github.com (github.com)|192.30.255.112|:443... connected.\n",
            "HTTP request sent, awaiting response... 302 Found\n",
            "Location: https://raw.githubusercontent.com/joaopaulopresa/nlp_mix/main/7w1jnEycYJ.zip [following]\n",
            "--2021-06-09 20:50:07--  https://raw.githubusercontent.com/joaopaulopresa/nlp_mix/main/7w1jnEycYJ.zip\n",
            "Resolving raw.githubusercontent.com (raw.githubusercontent.com)... 185.199.108.133, 185.199.109.133, 185.199.110.133, ...\n",
            "Connecting to raw.githubusercontent.com (raw.githubusercontent.com)|185.199.108.133|:443... connected.\n",
            "HTTP request sent, awaiting response... 200 OK\n",
            "Length: 11230774 (11M) [application/zip]\n",
            "Saving to: ‘7w1jnEycYJ.zip’\n",
            "\n",
            "7w1jnEycYJ.zip      100%[===================>]  10.71M  43.6MB/s    in 0.2s    \n",
            "\n",
            "2021-06-09 20:50:07 (43.6 MB/s) - ‘7w1jnEycYJ.zip’ saved [11230774/11230774]\n",
            "\n",
            "Archive:  7w1jnEycYJ.zip\n",
            "  inflating: /content/datasets/dataset_mpb.csv  \n",
            "baixado dataset  gospel\n",
            "--2021-06-09 20:50:08--  https://github.com/joaopaulopresa/nlp_mix/raw/main/SUShLtSOHp.zip\n",
            "Resolving github.com (github.com)... 192.30.255.113\n",
            "Connecting to github.com (github.com)|192.30.255.113|:443... connected.\n",
            "HTTP request sent, awaiting response... 302 Found\n",
            "Location: https://raw.githubusercontent.com/joaopaulopresa/nlp_mix/main/SUShLtSOHp.zip [following]\n",
            "--2021-06-09 20:50:08--  https://raw.githubusercontent.com/joaopaulopresa/nlp_mix/main/SUShLtSOHp.zip\n",
            "Resolving raw.githubusercontent.com (raw.githubusercontent.com)... 185.199.108.133, 185.199.109.133, 185.199.110.133, ...\n",
            "Connecting to raw.githubusercontent.com (raw.githubusercontent.com)|185.199.108.133|:443... connected.\n",
            "HTTP request sent, awaiting response... 200 OK\n",
            "Length: 9500986 (9.1M) [application/zip]\n",
            "Saving to: ‘SUShLtSOHp.zip’\n",
            "\n",
            "SUShLtSOHp.zip      100%[===================>]   9.06M  52.0MB/s    in 0.2s    \n",
            "\n",
            "2021-06-09 20:50:09 (52.0 MB/s) - ‘SUShLtSOHp.zip’ saved [9500986/9500986]\n",
            "\n",
            "Archive:  SUShLtSOHp.zip\n",
            "  inflating: /content/datasets/dataset_gospel.csv  \n"
          ],
          "name": "stdout"
        }
      ]
    },
    {
      "cell_type": "code",
      "metadata": {
        "id": "T2rkWvCEB3ly"
      },
      "source": [
        "#datasets = {'mpb':'/content/datasets/dataset_mpb.csv',\n",
        "#            'sertanejo':'/content/datasets/dataset_sertanejo.csv',\n",
        "#            'gospel':'/content/datasets/dataset_gospel.csv'}\n",
        "datasets = {'sertanejo':'/content/datasets/dataset_sertanejo.csv'}"
      ],
      "execution_count": 8,
      "outputs": []
    },
    {
      "cell_type": "code",
      "metadata": {
        "id": "8v1e2cuLDz6E"
      },
      "source": [
        "import pandas as pd\n",
        "import numpy as np\n",
        "\n",
        "def get_estrofes_sequences(df,estrofe_formas):\n",
        "  result = []\n",
        "  #filtra pelas formas de estrofes\n",
        "  if len(estrofe_formas) > 0:\n",
        "    df = df.loc[df.estrofes_forma.apply(lambda x: x in estrofe_formas)]\n",
        "  musicas = df['musica'].values\n",
        "  for m in musicas:\n",
        "    #cada estrofe está entre um <p> </p>\n",
        "    #removendo as tags <p>\n",
        "    m = m.replace('<p>','')\n",
        "    m = m.replace('<div>','')\n",
        "    m = m.replace('</div>','')\n",
        "    #pegando array de estrofes da musica\n",
        "    estrofes = m.split('</p>')[:-1] #removendo elemento null do array da ultima estrofe\n",
        "    #ajustar separador de versos usar própria tag <br> adicionado espaço entre ela e as palavras\n",
        "    for e in estrofes:\n",
        "      estrofe = e.replace('<br>', ' <br> ').strip()\n",
        "      result.append(estrofe)\n",
        "  return result\n",
        "\n",
        "def get_artista(df,artista_l):\n",
        "  result = []\n",
        "  #filtra pelo artista\n",
        "  if len(artista_l) > 0:\n",
        "    df = df.loc[df.artista.apply(lambda x: x in artista_l)]\n",
        "  musicas = df['musica'].values\n",
        "  for m in musicas:\n",
        "    #cada estrofe está entre um <p> </p>\n",
        "    #removendo as tags <p>\n",
        "    m = m.replace('<p>','')\n",
        "    m = m.replace('<div>','')\n",
        "    m = m.replace('</div>','')\n",
        "    #pegando array de estrofes da musica\n",
        "    estrofes = m.split('</p>')[:-1] #removendo elemento null do array da ultima estrofe\n",
        "    #ajustar separador de versos usar própria tag <br> adicionado espaço entre ela e as palavras\n",
        "    for e in estrofes:\n",
        "      estrofe = e.replace('<br>', ' <br> ').strip()\n",
        "      result.append(estrofe)\n",
        "  return result\n",
        "\n"
      ],
      "execution_count": 9,
      "outputs": []
    },
    {
      "cell_type": "code",
      "metadata": {
        "id": "VEi8ArgkCXyG",
        "colab": {
          "base_uri": "https://localhost:8080/"
        },
        "outputId": "167882bf-c0d9-4c88-f36d-61ac022c176d"
      },
      "source": [
        "import pandas as pd\n",
        "import numpy as np\n",
        "#possíeis valores mpb, sertanejo ou gospel\n",
        "#dataset = 'gospel'\n",
        "dataset = 'sertanejo'\n",
        "df = pd.read_csv(datasets[dataset])\n",
        "print('colunas :',list(df.columns))\n",
        "print('tamanho: ',len(df.values.tolist()))\n",
        "print('head:\\n')\n",
        "countt = 0\n",
        "for v in df.values.tolist():\n",
        "      if countt < 3:\n",
        "        print (v)\n",
        "      countt += 1\n",
        "print(df.head())"
      ],
      "execution_count": 10,
      "outputs": [
        {
          "output_type": "stream",
          "text": [
            "colunas : ['artista', 'titulo', 'musica', 'autor', 'estrofes', 'estrofes_forma']\n",
            "tamanho:  54906\n",
            "head:\n",
            "\n",
            "['Gusttavo Lima', '10 Anos', ' <p>Fala<br>Seria covardia ir embora sem dizer por quê<br>Existem tantas páginas dessa história pra escrever<br>Não venha inventar um fim</p><p>Fala<br>Depois de tanto tempo juntos, você vai deixar no ar?<br>Será que pensa que agindo assim o amor irá mudar?<br>Há tanto ainda pra viver, tudo é nada sem você</p><p>Nosso amor não acabou, e ainda digo mais<br>Vou te fazer lembrar de tudo que me prometeu há 10 anos atrás<br>Amor e muito mais<br>Tô pagando pra ver se você é capaz de me esquecer</p></div><p>Nosso amor não acabou, e ainda digo mais<br>Vou te fazer lembrar de tudo que me prometeu há 10 anos atrás<br>Amor e muito mais<br>Tô pagando pra ver se você é capaz de me esquecer</p><p>Fala<br>Seria covardia ir embora sem dizer por quê<br>Existem tantas páginas dessa história pra escrever<br>Não venha inventar um fim</p><p>Fala<br>Depois de tanto tempo juntos, você vai deixar no ar?<br>Será que pensa que agindo assim o amor irá mudar?<br>Há tanto ainda pra viver, tudo é nada sem você</p><p>Nosso amor não acabou, e ainda digo mais<br>Vou te fazer lembrar de tudo que me prometeu há 10 anos atrás<br>Amor e muito mais<br>Tô pagando pra ver se você é capaz de me esquecer</p><p>Nosso amor não acabou, e ainda digo mais<br>Vou te fazer lembrar de tudo que me prometeu há 10, há 10<br>Há 10 anos atrás<br>Tô pagando pra ver se você é capaz de me esquecer</p><p>De me esquecer</p> ', 'Composição: Everton Matos / Diego Ferreira', 9, 'quarteto-quarteto-quarteto-quarteto-quarteto-quarteto-quarteto-quarteto-monóstico']\n",
            "['Gusttavo Lima', '100 Maneiras', ' <p>Depois de tanto tempo esse amor ficou<br>Escancarado e comprovado que você deixou<br>Na minha pele marca cheiros<br>Que eu creio não sair jamais<br>Da minha cabeça, tu não sai, não sai<br>Vou sofrer, por te amar demais</p><p>Há momentos infelizes que a solidão<br>Se torna um ato verdadeiro contra o coração<br>Viajei milhas e milhas e você, sumiu na escuridão</p><p>Solidão!<br>É faca de dois gumes, corta devagar<br>Como se fosse uma casa triste de morar<br>E você, mora aqui<br>A Paixão!<br>É brasa no meio peito, queima igual fogueira<br>Por um momento bobo, a gente faz besteira<br>Por amar 100 maneiras, 100 maneiras</p> ', 'Composição: Gusttavo Lima', 3, 'sextilha-terceto-oitava']\n",
            "['Gusttavo Lima', '3 Horas da Manhã (part. Laís)', ' <p>3 horas da manhã<br>E eu ainda te espero<br>O jantar está gelado<br>E eu só quero<br>Ouvir tuas histórias bobas<br>Os teus improvisos<br>Pra me ver sorrir<br>Tô de solidão em alta<br>Esta noite o teu carinho fez falta</p><p>Eu só queria poder<br>Decidir por você, mais não posso<br>Eu não posso<br>Te obrigar a me ligar de madrugada<br>Pra dizer que me ama<br>Te fazer querer viver<br>Esse amor em nossa cama</p><p>Só precisa me escolher<br>Mas já vai amanhecer<br>E com a noite vão os sonhos<br>E com eles você</p> ', 'Enviada por Nathan.', 3, 'nona-septilha-quarteto']\n",
            "         artista  ...                                     estrofes_forma\n",
            "0  Gusttavo Lima  ...  quarteto-quarteto-quarteto-quarteto-quarteto-q...\n",
            "1  Gusttavo Lima  ...                            sextilha-terceto-oitava\n",
            "2  Gusttavo Lima  ...                             nona-septilha-quarteto\n",
            "3  Gusttavo Lima  ...                          quarteto-quarteto-terceto\n",
            "4  Gusttavo Lima  ...  quarteto-quintilha-dístico-quarteto-quarteto-m...\n",
            "\n",
            "[5 rows x 6 columns]\n"
          ],
          "name": "stdout"
        }
      ]
    },
    {
      "cell_type": "code",
      "metadata": {
        "id": "iOCu115MFsfl",
        "colab": {
          "base_uri": "https://localhost:8080/"
        },
        "outputId": "4ae27a7d-c7b9-4e21-9b7b-1c5cb9a40d54"
      },
      "source": [
        "#principais formas de estrofe do dataset\n",
        "l = df['estrofes_forma'].values\n",
        "formas_count = pd.Series(l).value_counts()\n",
        "print(formas_count[:20])\n",
        "#cantores do dataset\n",
        "l = df['artista'].values\n",
        "formas_count = pd.Series(l).value_counts()\n",
        "print(formas_count[:40])"
      ],
      "execution_count": 11,
      "outputs": [
        {
          "output_type": "stream",
          "text": [
            "irregular                                                                                    2656\n",
            "quarteto-quarteto-quarteto-quarteto                                                          1779\n",
            "quarteto-quarteto-quarteto-quarteto-quarteto-quarteto                                        1483\n",
            "quarteto-quarteto-quarteto                                                                   1273\n",
            "quarteto-quarteto-quarteto-quarteto-quarteto                                                 1075\n",
            "quarteto-quarteto-quarteto-quarteto-quarteto-quarteto-quarteto-quarteto                       889\n",
            "oitava-oitava-oitava                                                                          441\n",
            "oitava-oitava-oitava-oitava                                                                   395\n",
            "quarteto-quarteto-quarteto-quarteto-quarteto-quarteto-quarteto                                386\n",
            "quarteto-quarteto-quarteto-quarteto-quarteto-quarteto-quarteto-quarteto-quarteto-quarteto     360\n",
            "oitava-quarteto-oitava                                                                        344\n",
            "irregular-irregular                                                                           301\n",
            "sextilha-sextilha-sextilha-sextilha                                                           268\n",
            "quintilha-quintilha-quintilha-quintilha                                                       260\n",
            "quarteto-quarteto-sextilha                                                                    257\n",
            "oitava-oitava                                                                                 255\n",
            "quarteto-quarteto-quarteto-quarteto-quarteto-quarteto-quarteto-quarteto-quarteto              220\n",
            "quarteto-quarteto                                                                             218\n",
            "quarteto-quarteto-quintilha                                                                   205\n",
            "sextilha-sextilha-sextilha                                                                    205\n",
            "dtype: int64\n",
            "Marco Brasil                 669\n",
            "Pedro e Allison              626\n",
            "Tonico e Tinoco              564\n",
            "Lourenço e Lourival          512\n",
            "Sérgio Reis                  506\n",
            "Rick e Renner                500\n",
            "Chitãozinho & Xororó         490\n",
            "Zezé Di Camargo e Luciano    458\n",
            "Teodoro e Sampaio            450\n",
            "Bruno e Marrone              447\n",
            "Cezar e Paulinho             416\n",
            "Tião Carreiro e Pardinho     403\n",
            "José Fortuna                 397\n",
            "Os Atuais                    376\n",
            "Trio Parada Dura             372\n",
            "Leonardo                     358\n",
            "Eduardo Costa                357\n",
            "Gusttavo Lima                355\n",
            "Daniel                       347\n",
            "Gino e Geno                  344\n",
            "Gilberto e Gilmar            330\n",
            "Milionário e José Rico       329\n",
            "Daniel e Samuel              320\n",
            "Luan Santana                 307\n",
            "João Neto e Frederico        299\n",
            "Roberta Miranda              297\n",
            "César Menotti e Fabiano      294\n",
            "Althair e Alexandre          292\n",
            "Jorge & Mateus               291\n",
            "Matogrosso & Mathias         289\n",
            "Liu e Léu                    286\n",
            "Gian e Giovani               282\n",
            "Zilo e Zalo                  280\n",
            "Fernando e Sorocaba          271\n",
            "Rionegro e Solimões          270\n",
            "Victor e Leo                 264\n",
            "Léo Canhoto e Robertinho     261\n",
            "Guilherme & Santiago         260\n",
            "Silveira e Silveirinha       257\n",
            "Chico Rey e Paraná           256\n",
            "dtype: int64\n"
          ],
          "name": "stdout"
        }
      ]
    },
    {
      "cell_type": "code",
      "metadata": {
        "id": "GknLSD0EGdeE",
        "colab": {
          "base_uri": "https://localhost:8080/"
        },
        "outputId": "ee6b1783-0964-4155-9f90-82a21c9bf8a1"
      },
      "source": [
        "#criando sequencias\n",
        "#definindo filtro de formas (nesse caso o modelo aprenderá a escrever estrofes na forma de quarteto)\n",
        "formas = ['quarteto-quarteto-quarteto-quarteto',\n",
        "          'quarteto-quarteto-quarteto-quarteto-quarteto',\n",
        "          'quarteto-quarteto-quarteto-quarteto-quarteto-quarteto',\n",
        "          'quarteto-quarteto-quarteto']\n",
        "artistas = ['Gusttavo Lima','Luan Santana','Marília Mendonça']\n",
        "#artistas = ['Marília Mendonça']\n",
        "#falta criar a busca por compositores (busca com strig próxima - looks like. Ex: Pedro e buscar todas musicas com Pedro e variações no campo compositor)\n",
        "compositores = [] \n",
        "#sequences_list = get_estrofes_sequences(df=df,estrofe_formas=formas)\n",
        "sequences_list = get_artista(df,artistas)\n",
        "print(len(sequences_list), ' sequencias de estrofes recuperadas')\n",
        "\n"
      ],
      "execution_count": 12,
      "outputs": [
        {
          "output_type": "stream",
          "text": [
            "5367  sequencias de estrofes recuperadas\n"
          ],
          "name": "stdout"
        }
      ]
    },
    {
      "cell_type": "code",
      "metadata": {
        "id": "vGo7vG6XHSe3",
        "colab": {
          "base_uri": "https://localhost:8080/"
        },
        "outputId": "67e9cb19-b09a-42f6-abda-30e266bec92e"
      },
      "source": [
        "#visualizando 5 primeiras sequencias\n",
        "for s in sequences_list[0:5]:\n",
        "  print('sequence string: ',s)\n",
        "  print('estrofe:')\n",
        "  print(s.replace(' <br> ','\\n').strip()+'\\n')"
      ],
      "execution_count": 13,
      "outputs": [
        {
          "output_type": "stream",
          "text": [
            "sequence string:  Fala <br> Seria covardia ir embora sem dizer por quê <br> Existem tantas páginas dessa história pra escrever <br> Não venha inventar um fim\n",
            "estrofe:\n",
            "Fala\n",
            "Seria covardia ir embora sem dizer por quê\n",
            "Existem tantas páginas dessa história pra escrever\n",
            "Não venha inventar um fim\n",
            "\n",
            "sequence string:  Fala <br> Depois de tanto tempo juntos, você vai deixar no ar? <br> Será que pensa que agindo assim o amor irá mudar? <br> Há tanto ainda pra viver, tudo é nada sem você\n",
            "estrofe:\n",
            "Fala\n",
            "Depois de tanto tempo juntos, você vai deixar no ar?\n",
            "Será que pensa que agindo assim o amor irá mudar?\n",
            "Há tanto ainda pra viver, tudo é nada sem você\n",
            "\n",
            "sequence string:  Nosso amor não acabou, e ainda digo mais <br> Vou te fazer lembrar de tudo que me prometeu há 10 anos atrás <br> Amor e muito mais <br> Tô pagando pra ver se você é capaz de me esquecer\n",
            "estrofe:\n",
            "Nosso amor não acabou, e ainda digo mais\n",
            "Vou te fazer lembrar de tudo que me prometeu há 10 anos atrás\n",
            "Amor e muito mais\n",
            "Tô pagando pra ver se você é capaz de me esquecer\n",
            "\n",
            "sequence string:  Nosso amor não acabou, e ainda digo mais <br> Vou te fazer lembrar de tudo que me prometeu há 10 anos atrás <br> Amor e muito mais <br> Tô pagando pra ver se você é capaz de me esquecer\n",
            "estrofe:\n",
            "Nosso amor não acabou, e ainda digo mais\n",
            "Vou te fazer lembrar de tudo que me prometeu há 10 anos atrás\n",
            "Amor e muito mais\n",
            "Tô pagando pra ver se você é capaz de me esquecer\n",
            "\n",
            "sequence string:  Fala <br> Seria covardia ir embora sem dizer por quê <br> Existem tantas páginas dessa história pra escrever <br> Não venha inventar um fim\n",
            "estrofe:\n",
            "Fala\n",
            "Seria covardia ir embora sem dizer por quê\n",
            "Existem tantas páginas dessa história pra escrever\n",
            "Não venha inventar um fim\n",
            "\n"
          ],
          "name": "stdout"
        }
      ]
    },
    {
      "cell_type": "code",
      "metadata": {
        "id": "TW7mkXgrKHCc",
        "colab": {
          "base_uri": "https://localhost:8080/"
        },
        "outputId": "e6ea1728-674e-4444-8951-e2d622bf9c52"
      },
      "source": [
        "#criando o corpus:\n",
        "corpus = [s.lower() for s in sequences_list]\n",
        "print('tamanho corpus: ', len(corpus))\n",
        "#removendo sequencias duplicadas (artistas diferentes cantando mesma música)\n",
        "corpus = list(dict.fromkeys(corpus))\n",
        "print('tamanho corpus, duplicatas removidas: ', len(corpus))"
      ],
      "execution_count": 14,
      "outputs": [
        {
          "output_type": "stream",
          "text": [
            "tamanho corpus:  5367\n",
            "tamanho corpus, duplicatas removidas:  3967\n"
          ],
          "name": "stdout"
        }
      ]
    },
    {
      "cell_type": "code",
      "metadata": {
        "id": "oV7SX9ETRahV",
        "colab": {
          "base_uri": "https://localhost:8080/"
        },
        "outputId": "4ddd664d-9cd9-4500-9e1f-0c4d4181c445"
      },
      "source": [
        "maxi = 100\n",
        "min = 100\n",
        "mean = []\n",
        "for e in corpus:\n",
        "  tam = len(e)\n",
        "  mean.append(tam)\n",
        "  if tam < min:\n",
        "    min = tam\n",
        "  if tam > maxi:\n",
        "    maxi = tam\n",
        "media = sum(mean) / len(mean) \n",
        "print(min)\n",
        "print(maxi)\n",
        "print(media)\n"
      ],
      "execution_count": 15,
      "outputs": [
        {
          "output_type": "stream",
          "text": [
            "1\n",
            "5193\n",
            "165.12578774892867\n"
          ],
          "name": "stdout"
        }
      ]
    },
    {
      "cell_type": "code",
      "metadata": {
        "id": "IqKFQMOZS38l",
        "colab": {
          "base_uri": "https://localhost:8080/",
          "height": 265
        },
        "outputId": "0b50da70-f513-424f-a6f9-bc1df456884f"
      },
      "source": [
        "import matplotlib.pyplot as plt\n",
        "\n",
        "plt.hist(mean, bins=10)\n",
        "plt.show()"
      ],
      "execution_count": 16,
      "outputs": [
        {
          "output_type": "display_data",
          "data": {
            "image/png": "[encoded data removed]",
            "text/plain": [
              "<Figure size 432x288 with 1 Axes>"
            ]
          },
          "metadata": {
            "tags": [],
            "needs_background": "light"
          }
        }
      ]
    },
    {
      "cell_type": "code",
      "metadata": {
        "id": "jxU00OToTJLw",
        "colab": {
          "base_uri": "https://localhost:8080/"
        },
        "outputId": "8ab5c16c-3160-4ef3-fc8d-0c6f816e9708"
      },
      "source": [
        "#removendo algumas sequencias por questão de memória do notebook\n",
        "print('tamanho corpus: ', len(corpus))\n",
        "corpus = [e for e in corpus if len(e) < 900 ]\n",
        "corpus = [e for e in corpus if len(e) > 50 ]\n",
        "print('tamanho corpus, sequencias pequenas e grandes removidas: ', len(corpus))"
      ],
      "execution_count": 17,
      "outputs": [
        {
          "output_type": "stream",
          "text": [
            "tamanho corpus:  3967\n",
            "tamanho corpus, sequencias pequenas e grandes removidas:  3837\n"
          ],
          "name": "stdout"
        }
      ]
    },
    {
      "cell_type": "code",
      "metadata": {
        "id": "EazzZj1WVlZL",
        "colab": {
          "base_uri": "https://localhost:8080/"
        },
        "outputId": "bd97ced8-64a6-4ae4-ee0e-2180a2deacca"
      },
      "source": [
        "#visualizando 5 primeiras sequencias\n",
        "for s in corpus[0:5]:\n",
        "  print('sequence string: ',s)\n",
        "  print('estrofe:')\n",
        "  print(s.replace(' <br> ','\\n').strip()+'\\n')"
      ],
      "execution_count": 18,
      "outputs": [
        {
          "output_type": "stream",
          "text": [
            "sequence string:  fala <br> seria covardia ir embora sem dizer por quê <br> existem tantas páginas dessa história pra escrever <br> não venha inventar um fim\n",
            "estrofe:\n",
            "fala\n",
            "seria covardia ir embora sem dizer por quê\n",
            "existem tantas páginas dessa história pra escrever\n",
            "não venha inventar um fim\n",
            "\n",
            "sequence string:  fala <br> depois de tanto tempo juntos, você vai deixar no ar? <br> será que pensa que agindo assim o amor irá mudar? <br> há tanto ainda pra viver, tudo é nada sem você\n",
            "estrofe:\n",
            "fala\n",
            "depois de tanto tempo juntos, você vai deixar no ar?\n",
            "será que pensa que agindo assim o amor irá mudar?\n",
            "há tanto ainda pra viver, tudo é nada sem você\n",
            "\n",
            "sequence string:  nosso amor não acabou, e ainda digo mais <br> vou te fazer lembrar de tudo que me prometeu há 10 anos atrás <br> amor e muito mais <br> tô pagando pra ver se você é capaz de me esquecer\n",
            "estrofe:\n",
            "nosso amor não acabou, e ainda digo mais\n",
            "vou te fazer lembrar de tudo que me prometeu há 10 anos atrás\n",
            "amor e muito mais\n",
            "tô pagando pra ver se você é capaz de me esquecer\n",
            "\n",
            "sequence string:  nosso amor não acabou, e ainda digo mais <br> vou te fazer lembrar de tudo que me prometeu há 10, há 10 <br> há 10 anos atrás <br> tô pagando pra ver se você é capaz de me esquecer\n",
            "estrofe:\n",
            "nosso amor não acabou, e ainda digo mais\n",
            "vou te fazer lembrar de tudo que me prometeu há 10, há 10\n",
            "há 10 anos atrás\n",
            "tô pagando pra ver se você é capaz de me esquecer\n",
            "\n",
            "sequence string:  depois de tanto tempo esse amor ficou <br> escancarado e comprovado que você deixou <br> na minha pele marca cheiros <br> que eu creio não sair jamais <br> da minha cabeça, tu não sai, não sai <br> vou sofrer, por te amar demais\n",
            "estrofe:\n",
            "depois de tanto tempo esse amor ficou\n",
            "escancarado e comprovado que você deixou\n",
            "na minha pele marca cheiros\n",
            "que eu creio não sair jamais\n",
            "da minha cabeça, tu não sai, não sai\n",
            "vou sofrer, por te amar demais\n",
            "\n"
          ],
          "name": "stdout"
        }
      ]
    },
    {
      "cell_type": "code",
      "metadata": {
        "id": "rHQDibWPIe6E",
        "colab": {
          "base_uri": "https://localhost:8080/"
        },
        "outputId": "0c5a06e9-8282-4be9-bf7d-8579aca80ed9"
      },
      "source": [
        "#criando o tokenizer\n",
        "from tensorflow.keras.preprocessing.text import Tokenizer\n",
        "filters_ = '!\"#$%&()*+,-./:;=?@[\\\\]^_`{|}~\\t'  # removido < > para manter o token <br> que separa os versos nas sequencias de estrofes\n",
        "tokenizer = Tokenizer(filters=filters_)\n",
        "tokenizer.fit_on_texts(corpus)\n",
        "total_words = len(tokenizer.word_index) + 1\n",
        "print('indíces dos tokens:',tokenizer.word_index)\n",
        "print('total tokens:',total_words)\n",
        "\n"
      ],
      "execution_count": 19,
      "outputs": [
        {
          "output_type": "stream",
          "text": [
            "indíces dos tokens: {'<br>': 1, 'que': 2, 'eu': 3, 'não': 4, 'o': 5, 'de': 6, 'e': 7, 'você': 8, 'a': 9, 'me': 10, 'é': 11, 'pra': 12, 'te': 13, 'se': 14, 'amor': 15, 'um': 16, 'meu': 17, 'vou': 18, 'seu': 19, 'vai': 20, 'mais': 21, 'do': 22, 'no': 23, 'em': 24, 'só': 25, 'por': 26, 'com': 27, 'mas': 28, 'na': 29, 'tem': 30, 'tô': 31, 'minha': 32, 'coração': 33, 'uma': 34, 'sem': 35, 'mim': 36, 'tudo': 37, 'já': 38, 'da': 39, 'quero': 40, 'tá': 41, 'quando': 42, 'quem': 43, 'gente': 44, 'ela': 45, 'sei': 46, 'sua': 47, 'foi': 48, 'ser': 49, 'vida': 50, 'agora': 51, 'esse': 52, 'aqui': 53, 'amar': 54, 'ver': 55, 'faz': 56, 'bem': 57, 'sou': 58, 'como': 59, 'dia': 60, 'vem': 61, 'assim': 62, 'nem': 63, 'quer': 64, 'tão': 65, 'tempo': 66, 'os': 67, 'sempre': 68, 'ter': 69, 'hoje': 70, 'fazer': 71, 'saudade': 72, 'até': 73, 'mundo': 74, 'nosso': 75, 'vez': 76, 'ele': 77, 'essa': 78, 'as': 79, 'ficar': 80, 'nada': 81, 'oh': 82, 'sabe': 83, 'aí': 84, 'nunca': 85, 'está': 86, 'nós': 87, 'noite': 88, 'dá': 89, 'para': 90, 'estou': 91, 'cê': 92, 'ainda': 93, 'teu': 94, 'jeito': 95, 'era': 96, 'paixão': 97, 'deixa': 98, 'porque': 99, 'pode': 100, 'ai': 101, 'dizer': 102, 'isso': 103, 'outra': 104, 'demais': 105, 'todo': 106, 'ou': 107, 'pro': 108, 'mesmo': 109, 'ninguém': 110, 'alguém': 111, 'tanto': 112, 'comigo': 113, 'ao': 114, 'depois': 115, 'viver': 116, 'saber': 117, 'fez': 118, 'beijo': 119, 'hora': 120, 'cara': 121, 'onde': 122, 'novo': 123, 'olhar': 124, 'tenho': 125, 'esquecer': 126, 'solidão': 127, 'dois': 128, 'deus': 129, 'outro': 130, 'então': 131, 'deu': 132, 'seus': 133, 'lugar': 134, 'diz': 135, 'la': 136, 'feliz': 137, 'dar': 138, 'casa': 139, 'lado': 140, 'melhor': 141, 'meus': 142, 'preciso': 143, 'fim': 144, 'muito': 145, 'voltar': 146, 'amo': 147, 'volta': 148, 'corpo': 149, 'nos': 150, 'mulher': 151, 'será': 152, 'boca': 153, 'falar': 154, 'sinto': 155, 'posso': 156, 'chorar': 157, 'embora': 158, 'ama': 159, 'medo': 160, 'céu': 161, 'mão': 162, 'lá': 163, 'deixar': 164, 'também': 165, 'olha': 166, 'olhos': 167, 'desse': 168, 'bom': 169, 'fui': 170, 'querer': 171, 'dos': 172, 'louco': 173, 'cama': 174, 'sorriso': 175, 'encontrar': 176, 'vi': 177, 'sofrer': 178, 'vezes': 179, 'feito': 180, 'dentro': 181, 'chega': 182, 'passou': 183, 'mal': 184, 'toda': 185, 'fora': 186, 'fica': 187, 'dessa': 188, 'peito': 189, 'falta': 190, 'nossa': 191, 'cada': 192, 'verdade': 193, 'à': 194, 'sol': 195, 'porta': 196, 'paz': 197, 'num': 198, 'perder': 199, 'vamos': 200, 'perto': 201, 'nessa': 202, 'sozinho': 203, 'for': 204, 'queria': 205, 'vontade': 206, 'certo': 207, 'sonho': 208, 'longe': 209, 'sentir': 210, 'fiz': 211, 'pouco': 212, 'fala': 213, 'desejo': 214, 'querendo': 215, 'uô': 216, 'suas': 217, 'tava': 218, 'ah': 219, 'entender': 220, 'beber': 221, 'faço': 222, 'vejo': 223, 'vê': 224, 'ouvir': 225, 'gosto': 226, 'nesse': 227, 'há': 228, 'são': 229, 'quanto': 230, 'antes': 231, 'sim': 232, 'quiser': 233, 'sai': 234, 'passa': 235, 'coisa': 236, 'fico': 237, 'pois': 238, 'ir': 239, 'frente': 240, 'madrugada': 241, 'homem': 242, 'sair': 243, 'deixou': 244, 'história': 245, 'entre': 246, 'quis': 247, 'ti': 248, 'estar': 249, 'qualquer': 250, 'cabeça': 251, 'coisas': 252, 'luz': 253, 'apaixonado': 254, 'carinho': 255, 'dormir': 256, 'às': 257, 'seja': 258, 'acabou': 259, 'mãos': 260, 'dor': 261, 'favor': 262, 'amando': 263, 'carro': 264, 'vão': 265, 'atrás': 266, 'tu': 267, 'poder': 268, 'sofrendo': 269, 'chora': 270, 'nome': 271, 'valor': 272, 'louca': 273, 'sentimento': 274, 'chegar': 275, 'parece': 276, 'vivo': 277, 'dela': 278, 'destino': 279, 'passar': 280, 'roupa': 281, 'perdeu': 282, 'mudar': 283, 'precisa': 284, 'tinha': 285, 'rua': 286, 'enquanto': 287, 'forte': 288, 'juro': 289, 'culpa': 290, 'lembrar': 291, 'menina': 292, 'consigo': 293, 'disse': 294, 'esperando': 295, 'grande': 296, 'dei': 297, 'amigo': 298, 'procurar': 299, 'deixe': 300, 'errado': 301, 'final': 302, 'tirar': 303, 'lua': 304, 'fosse': 305, 'nas': 306, 'contigo': 307, 'acabar': 308, 'cidade': 309, 'ó': 310, 'pela': 311, 'ficou': 312, 'caminho': 313, 'esqueça': 314, 'chorei': 315, 'braços': 316, 'perdi': 317, 'ia': 318, 'pelo': 319, 'acho': 320, 'voar': 321, 'pedir': 322, 'chão': 323, 'chegou': 324, 'beijar': 325, 'logo': 326, 'numa': 327, 'talvez': 328, 'dou': 329, 'traz': 330, 'chance': 331, 'tarde': 332, 'pensar': 333, 'chorando': 334, 'pensando': 335, 'parar': 336, 'acreditar': 337, 'buscar': 338, 'mel': 339, 'meio': 340, 'razão': 341, 'perdido': 342, 'pensei': 343, 'bar': 344, 'chama': 345, 'prazer': 346, 'mar': 347, 'jogo': 348, 'passado': 349, 'fazendo': 350, 'cheiro': 351, 'ô': 352, 'lindo': 353, 'falando': 354, 'igual': 355, 'balada': 356, 'calor': 357, 'boa': 358, 'mãe': 359, 'inteira': 360, 'sozinha': 361, 'lê': 362, 'linda': 363, 'voz': 364, 'daqui': 365, 'vento': 366, 'menos': 367, 'doce': 368, 'vive': 369, 'viola': 370, 'importa': 371, 'das': 372, 'entregar': 373, 'todos': 374, 'ta': 375, 'pensamento': 376, 'tentei': 377, 'tanta': 378, 'amigos': 379, 'momento': 380, 'manhã': 381, 'ligar': 382, 'leva': 383, 'olhando': 384, 'minhas': 385, 'acordar': 386, 'sobre': 387, 'cima': 388, 'vá': 389, 'virou': 390, 'ar': 391, 'sonhos': 392, 'inteiro': 393, 'fiquei': 394, 'ilusão': 395, 'perdão': 396, 'rolar': 397, 'palavras': 398, 'tentar': 399, 'beija': 400, 'todas': 401, 'contar': 402, 'existe': 403, 'difícil': 404, 'água': 405, 'motivo': 406, 'diferente': 407, 'mil': 408, 'telefone': 409, 'flor': 410, 'uh': 411, 'sério': 412, 'dançar': 413, 'aquele': 414, 'conta': 415, 'somos': 416, 'festa': 417, 'normal': 418, 'alto': 419, 'estrada': 420, 'sorrir': 421, 'aconteceu': 422, 'fogo': 423, 'cair': 424, 'faça': 425, 'esqueceu': 426, 'pessoa': 427, 'amanhã': 428, 'morrer': 429, 'amei': 430, 'aguento': 431, 'pegar': 432, 'esperar': 433, 'levar': 434, 'teus': 435, 'cor': 436, 'perceber': 437, 'primeiro': 438, 'fácil': 439, 'espelho': 440, 'quarto': 441, 'liga': 442, 'dando': 443, 'dinheiro': 444, 'estrela': 445, 'celular': 446, 'deixei': 447, 'pena': 448, 'quê': 449, 'espero': 450, 'primeira': 451, 'dizendo': 452, 'segundo': 453, 'esperança': 454, 'esquece': 455, 'abraço': 456, 'seguir': 457, 'bonita': 458, 'nossos': 459, 'vale': 460, 'viu': 461, 'aquela': 462, 'silêncio': 463, 'indo': 464, 'anjo': 465, 'venha': 466, 'sonhar': 467, 'iria': 468, 'noites': 469, 'estava': 470, 'estamos': 471, 'cabelo': 472, 'enganar': 473, 'aonde': 474, 'triste': 475, 'horas': 476, 'ponto': 477, 'quase': 478, 'teve': 479, 'presente': 480, 'mente': 481, 'vim': 482, 'cerveja': 483, 'bater': 484, 'alguma': 485, 'quantas': 486, 'pé': 487, 'pensa': 488, 'pele': 489, 'perfume': 490, 'trás': 491, 'falei': 492, 'sentido': 493, 'estrelas': 494, 'esconder': 495, 'gostoso': 496, 'tiver': 497, 'fugir': 498, 'fundo': 499, 'lábios': 500, 'ficando': 501, 'chegando': 502, 'encontro': 503, 'diga': 504, 'dias': 505, 'tive': 506, 'tua': 507, 'tal': 508, 'eles': 509, 'nasceu': 510, 'galera': 511, 'tira': 512, 'perfeito': 513, 'lembro': 514, 'povo': 515, 'curtir': 516, 'vivendo': 517, 'frio': 518, 'alma': 519, 'café': 520, 'acontecer': 521, 'apenas': 522, 'saída': 523, 'tomou': 524, 'rio': 525, 'janela': 526, 'tantas': 527, 'saiu': 528, 'vendo': 529, 'flores': 530, 'penso': 531, 'choro': 532, 'tristeza': 533, 'ganhar': 534, 'pedindo': 535, 'sente': 536, 'falou': 537, 'caiu': 538, 'adeus': 539, 'fiel': 540, 'vazio': 541, 'passei': 542, 'canção': 543, 'ex': 544, 'bate': 545, 'tentando': 546, 'desculpa': 547, 'sabor': 548, 'bobo': 549, 'sabia': 550, 'confesso': 551, 'aceitar': 552, 'morrendo': 553, 'explicar': 554, 'emoção': 555, 'alegria': 556, 'conhecer': 557, 'som': 558, 'tchê': 559, 'mesa': 560, 'deixo': 561, 'copo': 562, 'cá': 563, 'terra': 564, 'certeza': 565, 'gosta': 566, 'qual': 567, 'escutar': 568, 'ouvido': 569, 'capaz': 570, 'metade': 571, 'dê': 572, 'abrir': 573, 'ligando': 574, 'chuva': 575, 'vamo': 576, 'tomar': 577, 'junto': 578, 'adianta': 579, 'passo': 580, 'passando': 581, 'pegando': 582, 'vira': 583, 'gritar': 584, 'ano': 585, 'lance': 586, 'y': 587, 'chupa': 588, 'semana': 589, 'levou': 590, 'mudou': 591, 'repente': 592, 'nova': 593, 'paraíso': 594, 'vergonha': 595, 'cantar': 596, 'valer': 597, 'iê': 598, 'virar': 599, 'direito': 600, 'motel': 601, 'cha': 602, 'felicidade': 603, 'manda': 604, 'vista': 605, 'tenha': 606, 'natal': 607, 'acertou': 608, 'anos': 609, 'morar': 610, 'esta': 611, 'força': 612, 'arrepender': 613, 'pego': 614, 'liguei': 615, 'caso': 616, 'outros': 617, 'beijos': 618, 'pega': 619, 'passos': 620, 'acaba': 621, 'loucura': 622, 'casal': 623, 'fique': 624, 'encontrei': 625, 'some': 626, 'volto': 627, 'pediu': 628, 'né': 629, 'chamar': 630, 'conversar': 631, 'pior': 632, 'abraça': 633, 'vazia': 634, 'hum': 635, 'jantar': 636, 'minuto': 637, 'atenção': 638, 'lhe': 639, 'coragem': 640, 'pede': 641, 'sentindo': 642, 'rosto': 643, 'apaixonar': 644, 'muda': 645, 'jogar': 646, 'brasil': 647, 'entrar': 648, 'bandido': 649, 'solteiro': 650, 'ruim': 651, 'resto': 652, 'livre': 653, 'amiga': 654, 'senti': 655, 'além': 656, 'impossível': 657, 'nossas': 658, 'falo': 659, 'traição': 660, 'quente': 661, 'leve': 662, 'ooooh': 663, 'besteira': 664, 'saio': 665, 'duas': 666, 'dói': 667, 'mata': 668, 'orgulho': 669, 'defeitos': 670, 'cuidar': 671, 'espera': 672, 'erro': 673, 'sabendo': 674, 'garrafa': 675, 'correndo': 676, 'universo': 677, 'cansado': 678, 'filho': 679, 'tocar': 680, 'deixando': 681, 'palavra': 682, 'perde': 683, 'briga': 684, 'parte': 685, 'asas': 686, 'perdendo': 687, 'sertanejo': 688, 'juntos': 689, 'separar': 690, 'achar': 691, 'cabelos': 692, 'morro': 693, 'amores': 694, 'prender': 695, 'cai': 696, 'continua': 697, 'causa': 698, 'amante': 699, 'moça': 700, 'aos': 701, 'bola': 702, 'apaixonei': 703, 'procura': 704, 'muita': 705, 'brincadeira': 706, 'mensagem': 707, 'veio': 708, 'sendo': 709, 'graça': 710, 'conto': 711, 'pare': 712, 'instante': 713, 'desistir': 714, 'três': 715, 'futuro': 716, 'pente': 717, 'problema': 718, 'bailando': 719, 'digo': 720, 'mentira': 721, 'achando': 722, 'última': 723, 'deve': 724, 'brincar': 725, 'matar': 726, 'direção': 727, 'levando': 728, 'planos': 729, 'acha': 730, 'doente': 731, 'joga': 732, 'trabalhar': 733, 'perigo': 734, 'dele': 735, 'família': 736, 'entrego': 737, 'conhece': 738, 'superar': 739, 'deserto': 740, 'grito': 741, 'queira': 742, 'trem': 743, 'acordei': 744, 'decidi': 745, 'pecado': 746, 'imagina': 747, 'contatinho': 748, 'jamais': 749, 'contra': 750, 'amanhecer': 751, 'filme': 752, 'estão': 753, 'vir': 754, 'brilho': 755, 'filhos': 756, 'cachaça': 757, 'maior': 758, 'consegue': 759, 'mexe': 760, 'ali': 761, 'bonito': 762, 'feira': 763, 'machucar': 764, 'errei': 765, 'pedaço': 766, 'trabalho': 767, 'percebi': 768, 'chego': 769, 'olho': 770, 'cansei': 771, 'saiba': 772, 'cobertor': 773, 'senhor': 774, 'vinho': 775, 'dividir': 776, 'cheio': 777, 'sorte': 778, 'incapaz': 779, 'uouô': 780, 'parei': 781, 'desce': 782, 'hasta': 783, 'ignore': 784, 'levo': 785, 'verdadeiro': 786, 'mora': 787, 'farra': 788, 'nenhum': 789, 'parou': 790, 'ontem': 791, 'conversa': 792, 'ciúme': 793, 'somente': 794, 'avisei': 795, 'papel': 796, 'implorando': 797, 'sinal': 798, 'beleza': 799, 'raiva': 800, 'bebo': 801, 'mandou': 802, 'doer': 803, 'virando': 804, 'baby': 805, 'erros': 806, 'realidade': 807, 'andar': 808, 'música': 809, 'desespero': 810, 'outras': 811, 'sorrindo': 812, 'resolve': 813, 'tire': 814, 'amada': 815, 'criança': 816, 'ando': 817, 'amizade': 818, 'continuar': 819, 'solto': 820, 'el': 821, 'entrou': 822, 'troco': 823, 'anda': 824, 'lembrança': 825, 'mesma': 826, 'sonhei': 827, 'sofrimento': 828, 'tento': 829, 'esqueci': 830, 'igreja': 831, 'avisar': 832, 'pude': 833, 'papo': 834, 'valeu': 835, 'sentimentos': 836, 'situação': 837, 'nego': 838, 'lembra': 839, 'partir': 840, 'preso': 841, 'gusttavo': 842, 'lima': 843, 'real': 844, 'vagabundo': 845, 'conquistar': 846, 'saí': 847, 'mostrar': 848, 'areia': 849, 'sincero': 850, 'parado': 851, 'segunda': 852, 'apagar': 853, 'bora': 854, 'ei': 855, 'lágrimas': 856, 'recaída': 857, 'sofre': 858, 'nega': 859, 'pudesse': 860, 'aquilo': 861, 'prefiro': 862, 'mês': 863, 'tipo': 864, 'bateu': 865, 'conheço': 866, 'rumo': 867, 'pros': 868, 'duvido': 869, 'peço': 870, 'possa': 871, 'distante': 872, 'bebe': 873, 'própria': 874, 'pancadão': 875, 'elas': 876, 'quatro': 877, 'sigo': 878, 'colo': 879, 'naquela': 880, 'azul': 881, 'novinha': 882, 'têm': 883, 'tremendo': 884, 'rá': 885, 'largo': 886, 'corações': 887, 'jardim': 888, 'alô': 889, 'doendo': 890, 'desde': 891, 'inverno': 892, 'entreguei': 893, 'plano': 894, 'disso': 895, 'segredo': 896, 'fechado': 897, 'amava': 898, 'nenhuma': 899, 'dono': 900, 'pôr': 901, 'saia': 902, 'imaginar': 903, 'perfeita': 904, 'dó': 905, 'fale': 906, 'entra': 907, 'demora': 908, 'traga': 909, 'faria': 910, 'põe': 911, 'pense': 912, 'fila': 913, 'foto': 914, 'lembranças': 915, 'menino': 916, 'correr': 917, 'gostar': 918, 'ligou': 919, 'fé': 920, 'trazer': 921, 'aceito': 922, 'namorado': 923, 'foda': 924, 'sufoco': 925, 'remédio': 926, 'humano': 927, 'chore': 928, 'trouxe': 929, 'rapaz': 930, 'sinais': 931, 'cantando': 932, 'prédio': 933, 'decidir': 934, 'acordo': 935, 'começou': 936, 'daquele': 937, 'prova': 938, 'afastar': 939, 'conseguir': 940, 'cheguei': 941, 'cortar': 942, 'invade': 943, 'basta': 944, 'procure': 945, 'verão': 946, 'castigo': 947, 'memória': 948, 'poderia': 949, 'casar': 950, 'mulherada': 951, 'mala': 952, 'culpado': 953, 'bicho': 954, 'engana': 955, 'bota': 956, 'paga': 957, 'toma': 958, 'começo': 959, 'levanta': 960, 'pula': 961, 'contando': 962, 'banho': 963, 'deitar': 964, 'cedo': 965, 'romance': 966, 'compromisso': 967, 'questão': 968, 'pelos': 969, 'dança': 970, 'pagar': 971, 'tenta': 972, 'algum': 973, 'jura': 974, 'certa': 975, 'ajuda': 976, 'pais': 977, 'sentiu': 978, 'procurando': 979, 'mexer': 980, 'única': 981, 'bebi': 982, 'saudades': 983, 'milu': 984, 'fazem': 985, 'aii': 986, 'colchão': 987, 'levantar': 988, 'i': 989, 'troca': 990, 'cadê': 991, 'dorme': 992, 'baixinho': 993, 'dúvida': 994, 'digitais': 995, 'uva': 996, 'laiá': 997, 'covardia': 998, 'brasa': 999, 'dividido': 1000, 'abre': 1001, 'mudo': 1002, 'usa': 1003, 'casamento': 1004, 'tantos': 1005, 'assunto': 1006, 'apaga': 1007, 'vermelho': 1008, 'brigar': 1009, 'bebida': 1010, 'cura': 1011, 'bebendo': 1012, 'pau': 1013, 'mentiras': 1014, 'durmo': 1015, 'este': 1016, 'claro': 1017, 'achei': 1018, 'perdida': 1019, 'abraçar': 1020, 'brinde': 1021, 'viro': 1022, 'cem': 1023, 'dedo': 1024, 'magia': 1025, 'aberta': 1026, 'perguntar': 1027, 'dormindo': 1028, 'começar': 1029, 'intenso': 1030, 'curar': 1031, 'sofri': 1032, 'desejos': 1033, 'mudei': 1034, 'travesseiro': 1035, 'meia': 1036, 'poucos': 1037, 'aprender': 1038, 'ouvi': 1039, 'brilhar': 1040, 'respeita': 1041, 'batom': 1042, 'provar': 1043, 'doido': 1044, 'mandar': 1045, 'caindo': 1046, 'fria': 1047, 'amou': 1048, 'carona': 1049, 'jogou': 1050, 'morreu': 1051, 'pelas': 1052, 'relação': 1053, 'ha': 1054, 'discussões': 1055, 'cachorro': 1056, 'sentar': 1057, 'quantos': 1058, 'sola': 1059, 'ôô': 1060, 'momentos': 1061, 'beijando': 1062, 'aumenta': 1063, 'voltava': 1064, 'dava': 1065, 'enche': 1066, 'terminar': 1067, 'portão': 1068, 'incendeia': 1069, 'distância': 1070, 'tendo': 1071, 'sono': 1072, 'entrei': 1073, 'escolhi': 1074, 'surpresa': 1075, 'achou': 1076, 'complicado': 1077, 'tivesse': 1078, 'forma': 1079, 'arrasta': 1080, 'pura': 1081, 'minas': 1082, 'namorar': 1083, 'palhaço': 1084, 'roubar': 1085, 'bicicletinha': 1086, 'calcinha': 1087, 'maldade': 1088, 'escondido': 1089, 'mande': 1090, 'soube': 1091, 'trocar': 1092, 'juntar': 1093, 'quebrar': 1094, 'mau': 1095, 'segue': 1096, 'mentir': 1097, 'adoro': 1098, 'chuveiro': 1099, 'descobri': 1100, 'lembrando': 1101, 'aguenta': 1102, 'segura': 1103, 'preferida': 1104, 'calma': 1105, 'apartamento': 1106, 'gole': 1107, 'ruas': 1108, 'nuvem': 1109, 'clima': 1110, 'perco': 1111, 'entrega': 1112, 'dizem': 1113, 'vidas': 1114, 'aguentar': 1115, 'morena': 1116, 'prometo': 1117, 'aparecer': 1118, 'fecho': 1119, 'recado': 1120, 'esperto': 1121, 'violão': 1122, 'tv': 1123, 'endereço': 1124, 'resolver': 1125, 'esquina': 1126, 'lágrima': 1127, 'chamam': 1128, 'en': 1129, 'legal': 1130, 'infinito': 1131, 'sentia': 1132, 'dane': 1133, 'detalhes': 1134, 'bye': 1135, 'inveja': 1136, 'b': 1137, 'balanga': 1138, 'ie': 1139, 'busão': 1140, 'irá': 1141, 'minutos': 1142, 'motivos': 1143, 'verde': 1144, 'pedido': 1145, 'tempestade': 1146, 'rouba': 1147, 'toa': 1148, 'pés': 1149, 'algo': 1150, 'simples': 1151, 'aliança': 1152, 'alegrar': 1153, 'ensina': 1154, 'branco': 1155, 'finge': 1156, 'lençóis': 1157, 'curtição': 1158, 'tirando': 1159, 'resposta': 1160, 'abandono': 1161, 'conselho': 1162, 'relacionamento': 1163, 'pensamentos': 1164, 'acreditei': 1165, 'balançar': 1166, 'tesouro': 1167, 'cintura': 1168, 'podia': 1169, 'preto': 1170, 'sonhando': 1171, 'time': 1172, 'lobo': 1173, 'troquei': 1174, 'loucuras': 1175, 'esses': 1176, 'entendo': 1177, 'precisar': 1178, 'pronto': 1179, 'ligo': 1180, 'machuca': 1181, 'passarinho': 1182, 'oi': 1183, 'trair': 1184, 'chorou': 1185, 'diante': 1186, 'canto': 1187, 'inferno': 1188, 'lutar': 1189, 'agradar': 1190, 'caio': 1191, 'desculpe': 1192, 'tocando': 1193, 'aprendi': 1194, 'promessas': 1195, 'ligue': 1196, 'velha': 1197, 'escrito': 1198, 'interessa': 1199, 'ouço': 1200, 'gusttavinho': 1201, 'brigas': 1202, 'escapar': 1203, 'jogue': 1204, 'realmente': 1205, 'onda': 1206, 'bobeira': 1207, 'ajudar': 1208, 'sofreu': 1209, 'problemas': 1210, 'segurei': 1211, 'janeiro': 1212, 'opção': 1213, 'sede': 1214, 'responder': 1215, 'entende': 1216, 'busca': 1217, 'viajando': 1218, 'sangue': 1219, 'voa': 1220, 'ninho': 1221, 'lençol': 1222, 'marido': 1223, 'errar': 1224, 'guardar': 1225, 'calado': 1226, 'cheia': 1227, 'esperei': 1228, 'cuido': 1229, 'jogando': 1230, 'amargo': 1231, 'sete': 1232, 'super': 1233, 'simplesmente': 1234, 'estragar': 1235, 'sertão': 1236, 'velho': 1237, 'houver': 1238, 'zero': 1239, 'certos': 1240, 'seria': 1241, '10': 1242, 'marca': 1243, 'devagar': 1244, 'escolher': 1245, 'segundos': 1246, 'pergunto': 1247, 'corro': 1248, 'existia': 1249, 'atender': 1250, 'apesar': 1251, 'cuida': 1252, 'moda': 1253, 'manter': 1254, 'explica': 1255, 'nasci': 1256, 'imaginando': 1257, 'bolso': 1258, 'abrace': 1259, 'primavera': 1260, 'rola': 1261, 'estranho': 1262, 'insiste': 1263, 'chame': 1264, 'temos': 1265, 'venceu': 1266, 'muitos': 1267, 'enganou': 1268, 'serei': 1269, 'mostra': 1270, 'energia': 1271, 'tapa': 1272, 'arrepio': 1273, 'pedra': 1274, 'riqueza': 1275, 'pobre': 1276, 'olhou': 1277, 'si': 1278, 'ciúmes': 1279, 'acontece': 1280, 'fingiu': 1281, 'caquinho': 1282, 'batendo': 1283, 'show': 1284, 'mudado': 1285, 'apaixonada': 1286, 'branca': 1287, 'cubro': 1288, 'possível': 1289, 'veneno': 1290, 'plena': 1291, 'cena': 1292, 'pessoas': 1293, 'pensou': 1294, 'olhe': 1295, 'ouro': 1296, 'tentou': 1297, 'ligado': 1298, 'escuta': 1299, 'fechou': 1300, 'cresce': 1301, 'desta': 1302, 'fantasia': 1303, 'procuro': 1304, 'encontra': 1305, 'voltei': 1306, 'merecer': 1307, 'sumir': 1308, 'assuma': 1309, 'doida': 1310, 'vício': 1311, 'crer': 1312, 'faltando': 1313, 'devo': 1314, 'engano': 1315, 'quebra': 1316, 'cês': 1317, 'arrancar': 1318, 'base': 1319, 'carnaval': 1320, 'pai': 1321, 'carente': 1322, 'abraços': 1323, 'parceiro': 1324, 'merece': 1325, 'cuidado': 1326, 'interior': 1327, 'galopeira': 1328, 'sala': 1329, 'mandando': 1330, 'largar': 1331, 'devia': 1332, 'consegui': 1333, 'acorda': 1334, 'prende': 1335, 'cumprir': 1336, 'estranha': 1337, 'chapéu': 1338, 'número': 1339, 'tomando': 1340, 'avião': 1341, 'curte': 1342, 'razões': 1343, 'importante': 1344, 'debaixo': 1345, 'foram': 1346, 'dom': 1347, 'assumo': 1348, 'perdoa': 1349, 'encontre': 1350, 'acender': 1351, 'sofá': 1352, 'acertar': 1353, 'pouquinho': 1354, 'jesus': 1355, 'vitória': 1356, 'mi': 1357, 'más': 1358, 'fotos': 1359, 'essas': 1360, 'senta': 1361, 'cupido': 1362, 'jeitinho': 1363, 'conheci': 1364, 'tum': 1365, 'bebaça': 1366, 'cinco': 1367, 'campeão': 1368, 'entregou': 1369, 'mereça': 1370, 'fechar': 1371, 'viciado': 1372, 'atrasado': 1373, 'ya': 1374, 'puedo': 1375, 'esteja': 1376, 'shallow': 1377, 'ficaria': 1378, 'su': 1379, 'aa': 1380, 'pagando': 1381, 'sumiu': 1382, 'escuridão': 1383, 'queima': 1384, '3': 1385, 'conchinha': 1386, 'resta': 1387, 'depressa': 1388, 'explicação': 1389, 'voltando': 1390, 'chamando': 1391, 'combinado': 1392, 'último': 1393, 'tempos': 1394, 'fantasias': 1395, 'ligação': 1396, 'aceita': 1397, 'resolvi': 1398, 'guardei': 1399, 'solta': 1400, 'sombra': 1401, 'eterno': 1402, 'termina': 1403, 'parabéns': 1404, 'brinca': 1405, 'cansou': 1406, 'trocando': 1407, 'corpos': 1408, 'perdoar': 1409, 'multidão': 1410, 'bandida': 1411, 'precisando': 1412, 'merecia': 1413, 'enlouquecer': 1414, 'insegurança': 1415, 'pó': 1416, 'canta': 1417, 'resistir': 1418, 'negar': 1419, 'parada': 1420, 'sorri': 1421, 'viajar': 1422, 'vêm': 1423, 'costume': 1424, 'enganei': 1425, 'especial': 1426, 'topo': 1427, 'casado': 1428, 'domingo': 1429, 'cobrar': 1430, 'nascer': 1431, 'dizia': 1432, 'respirar': 1433, 'sinceramente': 1434, 'alimenta': 1435, 'absurdo': 1436, 'calada': 1437, 'decisão': 1438, 'braço': 1439, 'cantador': 1440, 'envolvente': 1441, 'gota': 1442, 'dj': 1443, 'oceano': 1444, 'seis': 1445, 'exatamente': 1446, 'arruma': 1447, 'convencer': 1448, 'dez': 1449, 'desculpas': 1450, 'descobrir': 1451, 'jurei': 1452, 'voando': 1453, 'química': 1454, 'pão': 1455, 'multiplica': 1456, 'timidez': 1457, 'pras': 1458, 'espaço': 1459, 'dependente': 1460, 'adora': 1461, 'espalhando': 1462, 'mágoa': 1463, 'frases': 1464, 'abrindo': 1465, 'der': 1466, 'guarda': 1467, 'impedir': 1468, 'andando': 1469, 'vela': 1470, 'sexta': 1471, 'preocupar': 1472, 'acredito': 1473, 'puder': 1474, 'pequeno': 1475, 'noção': 1476, 'pequena': 1477, 'detalhe': 1478, 'assumir': 1479, 'segredos': 1480, 'uso': 1481, 'prepare': 1482, 'pedi': 1483, 'olhei': 1484, 'ganhou': 1485, 'acabei': 1486, 'acostumar': 1487, 'calçada': 1488, 'atende': 1489, 'amado': 1490, 'pronta': 1491, 'vencer': 1492, 'bons': 1493, 'existo': 1494, 'solução': 1495, 'tirou': 1496, 'pirando': 1497, 'praia': 1498, 'iludindo': 1499, 'rir': 1500, 'sonhou': 1501, 'querida': 1502, 'toque': 1503, 'caminhos': 1504, 'lindos': 1505, 'comprar': 1506, 'cavalo': 1507, 'mando': 1508, 'love': 1509, 'planeta': 1510, 'fazia': 1511, 'chamei': 1512, 'dobrado': 1513, 'campo': 1514, 'mistura': 1515, 'imenso': 1516, 'aberto': 1517, 'segurar': 1518, 'doença': 1519, 'ausência': 1520, 'amigas': 1521, 'amarrado': 1522, 'sobreviver': 1523, 'novamente': 1524, 'deito': 1525, 'ame': 1526, 'esperarei': 1527, 'sul': 1528, 'promete': 1529, 'to': 1530, 'vô': 1531, 'és': 1532, 'dose': 1533, 'desligar': 1534, 'coloca': 1535, 'banco': 1536, 'supera': 1537, 'teto': 1538, 'socorre': 1539, 'confia': 1540, 'preparou': 1541, 'misturou': 1542, 'raio': 1543, 'devolva': 1544, 'ficha': 1545, 'luan': 1546, 'direitinho': 1547, 'xingar': 1548, 'enviou': 1549, 'quedó': 1550, 'prometeu': 1551, 'viajei': 1552, '100': 1553, 'cinema': 1554, 'totalmente': 1555, 'veja': 1556, 'menti': 1557, 'andei': 1558, 'joia': 1559, 'espere': 1560, 'morada': 1561, 'neste': 1562, 'vivemos': 1563, 'perigoso': 1564, 'cabe': 1565, 'bagunçar': 1566, 'molhar': 1567, 'descendo': 1568, 'ressaca': 1569, 'goiás': 1570, 'paulo': 1571, 'tchererê': 1572, 'fecha': 1573, 'tiro': 1574, 'falam': 1575, 'guidão': 1576, 'geral': 1577, 'rara': 1578, 'esconde': 1579, 'costas': 1580, 'feitiço': 1581, 'entrada': 1582, 'pista': 1583, 'ouvindo': 1584, 'encanto': 1585, 'juízo': 1586, 'maneira': 1587, 'acordado': 1588, 'controlar': 1589, 'melodia': 1590, 'novela': 1591, 'pegador': 1592, 'abro': 1593, 'esqueço': 1594, 'tamo': 1595, 'quebrado': 1596, 'muié': 1597, 'finjo': 1598, 'feita': 1599, 'nu': 1600, 'divertir': 1601, 'próprio': 1602, 'tomara': 1603, 'tatuar': 1604, 'marcas': 1605, 'envolvi': 1606, 'quebrando': 1607, 'enxergar': 1608, 'incerteza': 1609, 'confiança': 1610, 'arma': 1611, 'país': 1612, 'anjos': 1613, 'gritando': 1614, 'envolver': 1615, 'recomeçar': 1616, 'mensagens': 1617, 'preço': 1618, 'demorou': 1619, 'início': 1620, 'pesadelo': 1621, 'ação': 1622, 'girar': 1623, 'baixo': 1624, 'imagem': 1625, 'esquecido': 1626, 'daria': 1627, 'serve': 1628, 'percebe': 1629, 'vacilou': 1630, 'enganando': 1631, 'luar': 1632, 'confusão': 1633, 'grita': 1634, 'serenata': 1635, 'assume': 1636, 'evitar': 1637, 'despertar': 1638, 'doeu': 1639, 'salvador': 1640, 'lembrei': 1641, 'daquela': 1642, 'papai': 1643, 'terminou': 1644, 'paro': 1645, 'morte': 1646, 'profundo': 1647, 'vivi': 1648, 'paraguai': 1649, 'diria': 1650, 'pressa': 1651, 'duvidar': 1652, 'compartilhar': 1653, 'sofro': 1654, 'siga': 1655, 'suportar': 1656, 'atendeu': 1657, 'estiver': 1658, 'dessas': 1659, 'mamãe': 1660, 'iguais': 1661, 'caí': 1662, 'andado': 1663, 'colado': 1664, 'paixões': 1665, 'imaginei': 1666, 'soubesse': 1667, 'tamanho': 1668, 'acordou': 1669, 'aluguel': 1670, 'imaginava': 1671, 'morre': 1672, 'namorada': 1673, 'acreditou': 1674, 'seduzir': 1675, 'faltou': 1676, 'usar': 1677, 'porre': 1678, 'cantos': 1679, 'respondeu': 1680, 'cigarro': 1681, 'encontrou': 1682, 'girando': 1683, 'nó': 1684, 'encarar': 1685, 'inconsequente': 1686, 'pegou': 1687, 'nuvens': 1688, 'rede': 1689, 'nesta': 1690, 'gira': 1691, 'vencedor': 1692, 'yo': 1693, 'poço': 1694, 'ignorar': 1695, 'cola': 1696, 'santa': 1697, 'entro': 1698, 'guiar': 1699, 'dedos': 1700, 'terrível': 1701, 'esculacho': 1702, 'fruta': 1703, 'feia': 1704, 'receber': 1705, 'morando': 1706, 'desejar': 1707, 'opinião': 1708, 'in': 1709, 'marília': 1710, 'iludir': 1711, 'pancada': 1712, 'soprou': 1713, 'lixo': 1714, 'cantou': 1715, 'naquele': 1716, 'patrão': 1717, 'galho': 1718, 'vinte': 1719, 'rolê': 1720, 'alegre': 1721, 'paredes': 1722, 'tome': 1723, 'mereço': 1724, 'moleque': 1725, 'rastro': 1726, 'vestido': 1727, 'vaidade': 1728, 'notei': 1729, 'dancei': 1730, 'estivesse': 1731, 'caminhando': 1732, 'torno': 1733, 'con': 1734, 'cabou': 1735, 'uoh': 1736, 'plim': 1737, 'garotas': 1738, 'texto': 1739, 'alcançar': 1740, 'ôôôô': 1741, 'umderererê': 1742, 'entreguem': 1743, 'inventar': 1744, 'torna': 1745, 'alta': 1746, 'fascina': 1747, 'enlouquece': 1748, 'cruel': 1749, 'criou': 1750, 'através': 1751, 'ilude': 1752, 'folhas': 1753, 'fato': 1754, 'judiar': 1755, 'preste': 1756, 'sábado': 1757, 'tomei': 1758, 'carta': 1759, 'bobagem': 1760, 'mato': 1761, 'consciência': 1762, 'destrói': 1763, 'natural': 1764, 'eternamente': 1765, 'machucou': 1766, 'implora': 1767, 'desvendar': 1768, 'deles': 1769, 'consertar': 1770, 'viveu': 1771, 'fingir': 1772, 'escolhido': 1773, 'bebê': 1774, 'temporal': 1775, 'quebrou': 1776, 'senão': 1777, 'pira': 1778, 'fraco': 1779, 'curtindo': 1780, 'sensação': 1781, 'gerais': 1782, 'caldas': 1783, 'explosão': 1784, 'disfarçar': 1785, 'liberar': 1786, 'amanheceu': 1787, 'golpe': 1788, 'passatempo': 1789, 'peixe': 1790, 'saciar': 1791, 'gelo': 1792, 'boteco': 1793, 'rebolar': 1794, 'larga': 1795, 'percebeu': 1796, 'maravilhosa': 1797, 'gostosa': 1798, 'escrevi': 1799, 'álcool': 1800, 'leite': 1801, 'mamadeira': 1802, 'carrinho': 1803, 'sirvo': 1804, 'entregue': 1805, 'escondeu': 1806, 'aposto': 1807, 'patos': 1808, 'alisando': 1809, 'espumas': 1810, 'queimou': 1811, 'viva': 1812, 'águas': 1813, 'meiga': 1814, 'pergunta': 1815, 'barzinho': 1816, 'acontecendo': 1817, 'acordada': 1818, 'namoro': 1819, 'sujeito': 1820, 'vocês': 1821, 'acabando': 1822, 'pegue': 1823, 'aumentando': 1824, 'separados': 1825, 'libera': 1826, 'restou': 1827, 'sob': 1828, 'arriscar': 1829, 'pedaços': 1830, 'deixaria': 1831, 'religião': 1832, 'falava': 1833, 'precisamos': 1834, 'cansada': 1835, '1': 1836, 'reviver': 1837, 'depende': 1838, 'flutuar': 1839, 'aparências': 1840, 'estranhos': 1841, 'declarar': 1842, 'errou': 1843, 'aprendeu': 1844, 'viajo': 1845, 'luto': 1846, 'morder': 1847, 'machucando': 1848, 'brilha': 1849, 'presentes': 1850, 'dona': 1851, 'rasgando': 1852, 'convenceu': 1853, 'escolhe': 1854, 'confiar': 1855, 'agradecer': 1856, 'passageira': 1857, 'vier': 1858, 'sequer': 1859, 'vindo': 1860, 'regras': 1861, 'companhia': 1862, 'escolheu': 1863, 'cometa': 1864, 'livrar': 1865, 'surpreender': 1866, 'goiânia': 1867, 'agarrar': 1868, 'seguindo': 1869, 'coloquei': 1870, 'subir': 1871, 'sara': 1872, 'tequila': 1873, 'acertando': 1874, 'dominar': 1875, 'tremer': 1876, 'cachaceiro': 1877, 'infiel': 1878, 'voei': 1879, 'embriagado': 1880, 'tchau': 1881, 'arrependido': 1882, 'modão': 1883, 'largado': 1884, 'cantinho': 1885, 'conte': 1886, 'luua': 1887, 'cresci': 1888, 'puro': 1889, 'desfaz': 1890, 'desses': 1891, 'perguntou': 1892, 'venho': 1893, 'serra': 1894, 'inocente': 1895, 'mole': 1896, 'pássaro': 1897, 'regar': 1898, 'rosa': 1899, 'brilhando': 1900, 'despedindo': 1901, 'indiferença': 1902, 'moro': 1903, 'delicadeza': 1904, 'estraga': 1905, 'agenda': 1906, 'reconquistar': 1907, 'prazo': 1908, 'validade': 1909, 'impressão': 1910, 'sapatinho': 1911, 'disser': 1912, 'pedro': 1913, 'mexeu': 1914, 'marcou': 1915, 'guerra': 1916, 'passe': 1917, 'marcar': 1918, 'fizer': 1919, 'caro': 1920, 'noutro': 1921, 'tesão': 1922, 'camisa': 1923, 'refúgio': 1924, 'proteger': 1925, 'sobrar': 1926, 'viajou': 1927, 'aguardente': 1928, 'colorido': 1929, 'comentando': 1930, 'sentada': 1931, 'vrau': 1932, 'rei': 1933, 'fruto': 1934, 'mexendo': 1935, 'queimando': 1936, 'presta': 1937, 'meteoro': 1938, 'cores': 1939, 'cantava': 1940, 'insistir': 1941, 'duvidei': 1942, 'you': 1943, 'afim': 1944, 'tela': 1945, 'jogado': 1946, 'vacilei': 1947, 'largou': 1948, 'fada': 1949, 'elevador': 1950, 'bela': 1951, 'bahia': 1952, 'aprontou': 1953, 'whisky': 1954, 'consciente': 1955, 'preocupa': 1956, 'prejuízo': 1957, 'barco': 1958, 'filha': 1959, 'covarde': 1960, 'hein': 1961, 'orvalho': 1962, 'trinta': 1963, 'risco': 1964, 'pausa': 1965, 'ocupado': 1966, 'toca': 1967, 'tente': 1968, 'passageiro': 1969, 'roda': 1970, 'fomos': 1971, 'ler': 1972, 'blusa': 1973, 'brancos': 1974, 'prá': 1975, 'mordendo': 1976, 'sobrenatural': 1977, 'noitada': 1978, 'dispor': 1979, 'lugares': 1980, 'algumas': 1981, 'vicia': 1982, 'noche': 1983, 'loca': 1984, 'cobrir': 1985, 'enlouqueça': 1986, 'acredite': 1987, 'herói': 1988, 'respeitar': 1989, 'sussurrando': 1990, 'cantor': 1991, 'leia': 1992, 'estaca': 1993, 'limite': 1994, 'raios': 1995, 'rota': 1996, 'rodo': 1997, 'poema': 1998, 'le': 1999, 'bad': 2000, 'aha': 2001, 'aba': 2002, 'puxa': 2003, 'calejado': 2004, 'escrever': 2005, 'fogueira': 2006, 'maneiras': 2007, 'contrário': 2008, 'ilumina': 2009, 'intenção': 2010, 'provocar': 2011, 'ilusões': 2012, 'imaginação': 2013, 'eternizar': 2014, 'satisfazer': 2015, 'paciência': 2016, 'delícia': 2017, 'comecei': 2018, 'desapareça': 2019, 'morto': 2020, 'farol': 2021, 'clarear': 2022, 'aperta': 2023, 'mude': 2024, 'rímel': 2025, 'coloque': 2026, 'abandonado': 2027, 'machuquei': 2028, 'chamava': 2029, 'carne': 2030, 'unha': 2031, 'carinhosa': 2032, 'desaparece': 2033, 'mina': 2034, 'esquenta': 2035, 'lembrava': 2036, 'pensam': 2037, 'deprê': 2038, 'novas': 2039, 'pular': 2040, 'crime': 2041, 'virei': 2042, 'atrapalhando': 2043, 'brilhou': 2044, 'quanta': 2045, 'acredita': 2046, 'forró': 2047, 'virada': 2048, 'couro': 2049, 'divertimento': 2050, 'mergulhar': 2051, 'sonha': 2052, 'gastar': 2053, 'sensual': 2054, 'briguei': 2055, 'costumes': 2056, 'emoções': 2057, 'encontrando': 2058, 'usou': 2059, 'juntando': 2060, 'solo': 2061, 'ouve': 2062, 'caseiro': 2063, 'portas': 2064, 'atitudes': 2065, 'nóis': 2066, 'gatinha': 2067, 'asa': 2068, 'confessar': 2069, 'crescendo': 2070, 'fenamilho': 2071, 'confundiu': 2072, 'parecem': 2073, 'embaixo': 2074, 'shampoo': 2075, 'deita': 2076, 'valendo': 2077, 'dormiu': 2078, 'feio': 2079, 'infelizmente': 2080, 'merecem': 2081, 'comprei': 2082, 'aventura': 2083, 'rosas': 2084, 'planta': 2085, 'garganta': 2086, 'pedacinho': 2087, 'língua': 2088, 'feridas': 2089, 'iluminou': 2090, 'revelação': 2091, 'escuto': 2092, 'liberdade': 2093, 'escutando': 2094, 'maldito': 2095, 'perguntando': 2096, 'ficasse': 2097, 'fugindo': 2098, 'peça': 2099, 'querido': 2100, '7': 2101, 'paguei': 2102, 'acesa': 2103, 'perdoe': 2104, 'reacender': 2105, 'verbo': 2106, 'monte': 2107, 'pirou': 2108, 'acaso': 2109, 'sonhador': 2110, 'arrepia': 2111, 'reclamando': 2112, 'decida': 2113, 'deusa': 2114, 'envolve': 2115, 'prisioneiro': 2116, 'pisar': 2117, 'frias': 2118, 'marcado': 2119, 'ouvidos': 2120, 'mudando': 2121, 'mistério': 2122, 'desabar': 2123, 'existir': 2124, 'passam': 2125, 'tratar': 2126, 'fernando': 2127, 'amazonas': 2128, 'cinza': 2129, 'favela': 2130, 'completamente': 2131, 'domina': 2132, 'expectativa': 2133, 'presto': 2134, 'lindas': 2135, 'secando': 2136, 'move': 2137, 'longa': 2138, 'perguntas': 2139, 'respondo': 2140, 'brincou': 2141, 'comum': 2142, 'reação': 2143, 'agir': 2144, 'plural': 2145, 'doei': 2146, 'abrigo': 2147, 'paredão': 2148, 'bailar': 2149, 'voltarei': 2150, 'linha': 2151, 'completar': 2152, 'milhão': 2153, 'tirei': 2154, 'acreditaria': 2155, 'tocou': 2156, 'ri': 2157, 'parecendo': 2158, 'barra': 2159, 'entregando': 2160, 'consequências': 2161, 'dores': 2162, 'proibido': 2163, 'errada': 2164, 'partido': 2165, 'divididos': 2166, 'arrastar': 2167, 'chifre': 2168, 'ôooo': 2169, 'joelhos': 2170, 'pirraça': 2171, 'rabo': 2172, 'sucesso': 2173, 'expressar': 2174, 'arranjo': 2175, 'ombro': 2176, 'moral': 2177, 'senhorita': 2178, 'suando': 2179, 'umas': 2180, 'açúcar': 2181, 'dura': 2182, 'abandonada': 2183, 'escuro': 2184, 'responde': 2185, 'h': 2186, 'gamei': 2187, 'combina': 2188, 'entendendo': 2189, 'coça': 2190, 'fonte': 2191, 'veias': 2192, 'unhas': 2193, 'arrependo': 2194, 'madrugadas': 2195, 'cd': 2196, 'começa': 2197, 'sonhava': 2198, 'corre': 2199, 'estarei': 2200, 'rodando': 2201, 'beco': 2202, 'jornal': 2203, 'desesperado': 2204, 'placa': 2205, 'interessante': 2206, 'pulsar': 2207, 'roubou': 2208, 'entenda': 2209, 'página': 2210, 'amp': 2211, 'allison': 2212, 'hey': 2213, 'lalá': 2214, 'palma': 2215, 'balanço': 2216, 'rindo': 2217, 'crescer': 2218, 'escreveu': 2219, 'fadas': 2220, 'espinhos': 2221, 'presa': 2222, 'sinta': 2223, 'entendi': 2224, 'sorrisos': 2225, 'imploro': 2226, 'absoluto': 2227, 'polícia': 2228, 'beijou': 2229, 'esnobar': 2230, 'santinha': 2231, 'arroz': 2232, 'bastava': 2233, 'estação': 2234, 'jurou': 2235, 'ingratidão': 2236, 'preparando': 2237, 'latada': 2238, 'carrega': 2239, 'garota': 2240, 'refém': 2241, 'declarações': 2242, 'maaaais': 2243, 'esconderijo': 2244, 'cela': 2245, 'destruir': 2246, 'madalena': 2247, 'enlouquecendo': 2248, 'quadrado': 2249, 'entendido': 2250, 'machucado': 2251, 'voltou': 2252, 'mares': 2253, 'invento': 2254, 'lava': 2255, 'medos': 2256, 'toalha': 2257, 'suporto': 2258, 'sapato': 2259, 'ouviu': 2260, 'tentação': 2261, 'tomo': 2262, 'peguei': 2263, 'gigante': 2264, 'escape': 2265, 'torcendo': 2266, 'estrago': 2267, 'cristal': 2268, 'loucos': 2269, 'enxugar': 2270, 'durar': 2271, 'veia': 2272, 'rádio': 2273, 'muitas': 2274, 'escola': 2275, 'faltava': 2276, 'discou': 2277, 'dúvidas': 2278, 'pegava': 2279, 'ni': 2280, 'dodge': 2281, 'ram': 2282, 'focker': 2283, 'duzentos': 2284, 'oitenta': 2285, 'arrebenta': 2286, 'faixa': 2287, 'sofra': 2288, 'acreditando': 2289, 'my': 2290, 'the': 2291, 'estaria': 2292, 'aceitou': 2293, 'trocou': 2294, 'ferido': 2295, 'ficava': 2296, 'repete': 2297, 'mendonça': 2298, 'vendi': 2299, 'fumaça': 2300, 'subindo': 2301, 'importar': 2302, 'pesado': 2303, 'alguns': 2304, 'levanto': 2305, 'caminheiro': 2306, 'latiu': 2307, 'nela': 2308, 'respeito': 2309, 'barato': 2310, 'maluca': 2311, 'violeiro': 2312, 'molha': 2313, 'sobra': 2314, 'girou': 2315, 'palhaçada': 2316, 'único': 2317, 'enxerga': 2318, 'elogios': 2319, 'torcida': 2320, 'comer': 2321, 'vaga': 2322, 'pijama': 2323, 'terceiro': 2324, 'idiota': 2325, 'perdidos': 2326, 'adrenalina': 2327, 'massa': 2328, 'compreender': 2329, 'trazem': 2330, 'pareço': 2331, 'tens': 2332, 'experimenta': 2333, 'abençoar': 2334, 'envelheceu': 2335, 'movimentos': 2336, 'atravessar': 2337, 'recompensa': 2338, 'ajeita': 2339, 'procurei': 2340, 'brinquedo': 2341, 'embriagada': 2342, 'preguiça': 2343, 'uns': 2344, 'usando': 2345, 'sensível': 2346, 'bússola': 2347, 'apagou': 2348, 'resenha': 2349, 'belo': 2350, 'molinha': 2351, 'flutuando': 2352, 'grana': 2353, 'assustar': 2354, 'padece': 2355, 'bastante': 2356, 'caipira': 2357, 'inquilina': 2358, 'brasileiro': 2359, 'casou': 2360, 'natureza': 2361, 'manhãs': 2362, 'desenhando': 2363, 'una': 2364, 'limites': 2365, 'boate': 2366, 'dançou': 2367, 'contrato': 2368, 'colorida': 2369, 'disposta': 2370, 'chuvas': 2371, 'samba': 2372, 'convidou': 2373, 'freio': 2374, 'morou': 2375, 'apostar': 2376, 'sintomas': 2377, 'aleluia': 2378, 'cartas': 2379, 'fantasma': 2380, 'apareceu': 2381, 'cativeiro': 2382, 'km': 2383, '70': 2384, 'lepo': 2385, 'tornei': 2386, 'carinha': 2387, 'achava': 2388, 'adiantaria': 2389, 'convidado': 2390, 'intruso': 2391, 'sozinhos': 2392, 'acalma': 2393, 'muelle': 2394, 'gaúcho': 2395, 'trovoadas': 2396, 'raridade': 2397, 'dererê': 2398, 'sogrão': 2399, 'várias': 2400, 'psicológico': 2401, 'preparar': 2402, 'milhas': 2403, 'corta': 2404, 'gelado': 2405, 'tuas': 2406, 'bobas': 2407, 'pintei': 2408, 'aqueles': 2409, 'mistérios': 2410, 'encontros': 2411, 'separou': 2412, 'querem': 2413, 'vidro': 2414, 'brinque': 2415, 'semeia': 2416, 'condição': 2417, 'busco': 2418, 'inventei': 2419, 'carregado': 2420, 'saem': 2421, 'pudor': 2422, 'ameniza': 2423, 'soluços': 2424, 'contemplando': 2425, 'permaneço': 2426, 'use': 2427, 'corte': 2428, 'arte': 2429, 'celebrar': 2430, 'daqueles': 2431, 'conformado': 2432, 'enfim': 2433, 'outono': 2434, 'falso': 2435, 'farsa': 2436, 'toquei': 2437, 'arrumando': 2438, 'batalha': 2439, 'refletindo': 2440, 'área': 2441, 'ligava': 2442, 'fingindo': 2443, 'apagada': 2444, 'condenado': 2445, 'cão': 2446, 'adorar': 2447, 'gata': 2448, 'raiar': 2449, 'maltratou': 2450, 'prisão': 2451, 'sentença': 2452, 'pedalando': 2453, 'periquito': 2454, 'tampar': 2455, 'falsa': 2456, 'doces': 2457, 'truques': 2458, 'brava': 2459, 'descer': 2460, 'fatal': 2461, 'peba': 2462, 'bilauzinho': 2463, 'conter': 2464, 'escravo': 2465, 'ternura': 2466, 'aproveitar': 2467, 'uísque': 2468, 'sereia': 2469, 'caminhar': 2470, 'notas': 2471, 'letra': 2472, 'ioiô': 2473, 'antigamente': 2474, 'abandonou': 2475, 'pilha': 2476, 'fidelidade': 2477, 'sobrenome': 2478, 'minto': 2479, 'lista': 2480, 'caixa': 2481, 'enfrento': 2482, 'vendaval': 2483, 'provaram': 2484, 'perna': 2485, 'safado': 2486, 'trazendo': 2487, 'amarrar': 2488, 'mergulho': 2489, 'molhado': 2490, 'atiçado': 2491, 'usava': 2492, 'arrependeu': 2493, 'mereceu': 2494, 'ditado': 2495, 'faltar': 2496, 'completa': 2497, 'traí': 2498, 'implorar': 2499, 'aprende': 2500, 'roça': 2501, 'sufocando': 2502, 'serpente': 2503, 'satisfaz': 2504, 'aconteça': 2505, 'afastando': 2506, 'animada': 2507, 'estremeceu': 2508, 'brinco': 2509, 'garrafas': 2510, 'deitada': 2511, 'piada': 2512, 'missão': 2513, 'ferrar': 2514, 'tolo': 2515, 'esnobou': 2516, 'poderosa': 2517, 'acompanhar': 2518, 'tranquilo': 2519, 'matando': 2520, 'atadas': 2521, 'metendo': 2522, 'diferença': 2523, 'confie': 2524, 'tampouco': 2525, 'atração': 2526, 'estás': 2527, 'desabafar': 2528, 'varanda': 2529, 'arrepiar': 2530, 'resisti': 2531, 'luzes': 2532, 'dormi': 2533, 'queimava': 2534, 'parecia': 2535, 'semente': 2536, 'amarela': 2537, 'dna': 2538, 'gostando': 2539, 'gaiola': 2540, 'postura': 2541, 'obsessão': 2542, 'pegada': 2543, 'funciona': 2544, 'esquema': 2545, 'devagarinho': 2546, 'separa': 2547, 'acabam': 2548, 'incomoda': 2549, 'maluco': 2550, 'lavada': 2551, 'bobeou': 2552, 'buscando': 2553, 'aquecer': 2554, 'companheira': 2555, 'ferro': 2556, 'bilhete': 2557, 'cicatriz': 2558, 'encostar': 2559, 'aposta': 2560, 'guia': 2561, 'sintonizar': 2562, 'pinga': 2563, 'doze': 2564, 'descontrolado': 2565, 'misturado': 2566, 'ficam': 2567, 'risca': 2568, 'champanhe': 2569, 'direto': 2570, 'confere': 2571, 'apareça': 2572, 'roube': 2573, 'andou': 2574, 'bati': 2575, 'confuso': 2576, 'indecisão': 2577, 'adjetivo': 2578, 'singular': 2579, 'guardado': 2580, 'mostrei': 2581, 'pressão': 2582, 'baile': 2583, 'capital': 2584, 'desejando': 2585, 'visse': 2586, 'ilha': 2587, 'pus': 2588, 'malas': 2589, 'medida': 2590, 'apaixonou': 2591, 'desprezo': 2592, 'insensata': 2593, 'besta': 2594, 'abra': 2595, 'dominado': 2596, 'sufocado': 2597, 'visitar': 2598, 'eh': 2599, 'brilham': 2600, 'eram': 2601, 'fingimento': 2602, 'fã': 2603, 'daquelas': 2604, 'santo': 2605, 'urra': 2606, 'apaixono': 2607, 'convido': 2608, 'hotel': 2609, 'observando': 2610, 'sopra': 2611, 'sina': 2612, 'teria': 2613, 'escute': 2614, 'esperou': 2615, 'causou': 2616, 'consolar': 2617, 'pureza': 2618, 'aniversário': 2619, 'presença': 2620, 'solitário': 2621, 'brincando': 2622, 'traiu': 2623, 'apertar': 2624, 'gado': 2625, 'condomínio': 2626, 'rotina': 2627, 'calendário': 2628, 'laço': 2629, 'cortina': 2630, 'transa': 2631, 'carência': 2632, 'grandes': 2633, 'raiz': 2634, 'solteira': 2635, 'viagem': 2636, 'litro': 2637, 'esgotou': 2638, 'piedade': 2639, 'notícias': 2640, 'preocupado': 2641, 'desliguei': 2642, 'inverter': 2643, 'perdoando': 2644, 'beijá': 2645, 'divórcio': 2646, 'decepção': 2647, 'conclusão': 2648, 'rodeio': 2649, 'apaixone': 2650, 'ensinar': 2651, 'inglês': 2652, 'pago': 2653, 'perrengue': 2654, 'parasse': 2655, 'cumprindo': 2656, 'penitência': 2657, 'devolvo': 2658, 'perguntam': 2659, 'escolha': 2660, 'véu': 2661, 'apaixonando': 2662, 'descuido': 2663, 'volume': 2664, 'garçom': 2665, 'perca': 2666, 'mandado': 2667, 'nasce': 2668, 'enviando': 2669, 'encantado': 2670, 'defeito': 2671, 'pavor': 2672, 'farrapo': 2673, 'coitado': 2674, 'arrumar': 2675, 'independente': 2676, 'bairro': 2677, 'amarra': 2678, 'sortero': 2679, 'derrubar': 2680, 'tratando': 2681, 'regra': 2682, 'arrasa': 2683, 'existisse': 2684, 'respiro': 2685, 'vocêêêêê': 2686, 'telefonei': 2687, 'york': 2688, 'lamento': 2689, 'pesadelos': 2690, 'lenda': 2691, 'fera': 2692, 'via': 2693, 'entrando': 2694, 'avisa': 2695, 'verá': 2696, 'quiero': 2697, 'corazón': 2698, 'los': 2699, 'compensa': 2700, 'justo': 2701, 'alturas': 2702, 'precisava': 2703, 'curado': 2704, 'houve': 2705, 'tapete': 2706, 'delicado': 2707, 'safadinho': 2708, 'provou': 2709, 'antigo': 2710, 'exata': 2711, 'acende': 2712, 'vulcão': 2713, 'molhada': 2714, 'salto': 2715, 'repara': 2716, 'olhares': 2717, 'resgatar': 2718, '220': 2719, 'moendo': 2720, 'tornado': 2721, 'cachoeira': 2722, 'taça': 2723, 'ficarei': 2724, 'esperava': 2725, 'ache': 2726, 'conserto': 2727, 'ponta': 2728, 'lar': 2729, 'chamo': 2730, 'haja': 2731, 'poeira': 2732, 'disfarça': 2733, 'vizinho': 2734, 'altos': 2735, 'fizesse': 2736, 'aguente': 2737, 'encaixar': 2738, 'so': 2739, 'but': 2740, 'it': 2741, 'ensaiando': 2742, 'demorar': 2743, 'data': 2744, 'demorado': 2745, 'preocupada': 2746, 'bagunça': 2747, 'parede': 2748, 'processar': 2749, 'agência': 2750, '51': 2751, 'justiça': 2752, 'barraco': 2753, 'preocupação': 2754, 'anel': 2755, 'desculpar': 2756, 'gostei': 2757, 'madri': 2758, 'ui': 2759, 'apaixonadinha': 2760, 'apaixonadinho': 2761, 'neném': 2762, 'deveria': 2763, 'devolve': 2764, 'culpada': 2765, 'desconta': 2766, 'beijava': 2767, 'bonde': 2768, 'sorria': 2769, 'entardecer': 2770, 'partiu': 2771, 'junta': 2772, 'ganho': 2773, 'velhinha': 2774, 'ladrão': 2775, 'bala': 2776, 'comendo': 2777, 'ciumeira': 2778, 'morde': 2779, 'conveniência': 2780, 'traindo': 2781, 'garanto': 2782, 'testar': 2783, 'colocar': 2784, 'finja': 2785, 'brisa': 2786, 'respira': 2787, 'quinta': 2788, 'ausente': 2789, 'raro': 2790, 'iam': 2791, 'notar': 2792, 'carinhos': 2793, 'namorados': 2794, 'arranha': 2795, 'desconheci': 2796, 'caras': 2797, 'derruba': 2798, 'prepara': 2799, 'chave': 2800, 'vermelhos': 2801, 'lei': 2802, 'folgado': 2803, 'maldita': 2804, 'calou': 2805, 'tom': 2806, 'curva': 2807, 'contramão': 2808, 'subconsciente': 2809, 'abraçada': 2810, 'dobro': 2811, 'matriz': 2812, 'senha': 2813, 'melhorar': 2814, 'delirar': 2815, 'banheiro': 2816, 'vegetando': 2817, 'pintando': 2818, 'amarei': 2819, 'consiga': 2820, 'desperdiçar': 2821, 'souber': 2822, 'acostumei': 2823, 'escorre': 2824, 'turma': 2825, 'levantou': 2826, 'gritos': 2827, 'servir': 2828, 'ate': 2829, 'maquiagem': 2830, 'alugar': 2831, 'virado': 2832, 'negaria': 2833, 'inocência': 2834, 'sabiá': 2835, 'espalhada': 2836, 'ideia': 2837, 'assistindo': 2838, 'procurou': 2839, 'tona': 2840, 'salvar': 2841, 'brega': 2842, 'velas': 2843, 'levei': 2844, 'invejar': 2845, 'tínhamos': 2846, 'perfeitos': 2847, 'pontinha': 2848, 'charminho': 2849, 'enxergo': 2850, 'ferve': 2851, 'invés': 2852, 'pisa': 2853, 'respiração': 2854, 'relembrar': 2855, 'desgruda': 2856, 'joão': 2857, 'neto': 2858, 'frederico': 2859, 'embalo': 2860, 'liberta': 2861, '2050': 2862, 'véia': 2863, 'torce': 2864, 'maio': 2865, 'quentes': 2866, 'frios': 2867, 'oração': 2868, 'nariz': 2869, 'síndico': 2870, 'sufoquei': 2871, 'vacilar': 2872, 'princípio': 2873, 'aliviar': 2874, 'beijinho': 2875, 'boiadeiro': 2876, 'rapado': 2877, 'acalmar': 2878, 'fome': 2879, 'moreninha': 2880, 'loira': 2881, 'levarei': 2882, 'morasse': 2883, 'jorrasse': 2884, 'besar': 2885, 'redor': 2886, 'vermelha': 2887, 'orelha': 2888, 'boba': 2889, 'transformar': 2890, 'edredom': 2891, 'gostava': 2892, 'negro': 2893, 'encho': 2894, 'tentativa': 2895, 'navegar': 2896, 'ludmilla': 2897, 'santana': 2898, 'cleo': 2899, 'luísa': 2900, 'voo': 2901, 'parentes': 2902, 'verso': 2903, 'casando': 2904, 'cure': 2905, 'tornou': 2906, 'bravo': 2907, 'almoço': 2908, 'pescoço': 2909, 'umbigo': 2910, 'prefere': 2911, 'mundos': 2912, 'mentindo': 2913, 'ônibus': 2914, 'blá': 2915, 'escalar': 2916, 'montanhas': 2917, 'grite': 2918, 'provoca': 2919, 'encanta': 2920, 'garotos': 2921, 'trocaria': 2922, 'pátria': 2923, 'deste': 2924, 'rodar': 2925, 'li': 2926, 'imagine': 2927, 'londres': 2928, 'caladinha': 2929, 'baladeiro': 2930, 'mc': 2931, 'prestando': 2932, 'morador': 2933, 'mendigando': 2934, 'reflexo': 2935, 'livro': 2936, 'beijei': 2937, 'adormece': 2938, 'enobrece': 2939, 'acostuma': 2940, 'gelada': 2941, 'casas': 2942, 'vêem': 2943, '20': 2944, 'apossou': 2945, 'riso': 2946, 'porto': 2947, 'san': 2948, 'blas': 2949, 'descobrimos': 2950, 'consola': 2951, 'display': 2952, 'lenço': 2953, 'giro': 2954, 'querência': 2955, 'juiz': 2956, 'vindos': 2957, 'aquece': 2958, 'salta': 2959, 'exista': 2960, 'sofazinho': 2961, 'constelação': 2962, 'conversam': 2963, 'adoram': 2964, 'bla': 2965, 'furam': 2966, 'angustiado': 2967, 'compõe': 2968, 'exclusivamente': 2969, 'uow': 2970, 'reflita': 2971, 'vírgulas': 2972, 'colorir': 2973, 'misturando': 2974, 'existem': 2975, 'ato': 2976, 'faca': 2977, 'histórias': 2978, 'obrigar': 2979, '50': 2980, 'viram': 2981, 'verdades': 2982, 'escondidas': 2983, 'mito': 2984, 'irão': 2985, 'promessa': 2986, 'cansando': 2987, 'canteiro': 2988, 'ponho': 2989, 'ausentar': 2990, 'abatido': 2991, 'seduzido': 2992, 'tocam': 2993, 'veem': 2994, 'essência': 2995, 'estado': 2996, 'choque': 2997, 'eternidade': 2998, 'noiva': 2999, 'sobrou': 3000, 'roupas': 3001, 'comida': 3002, 'beije': 3003, 'distrai': 3004, 'indeciso': 3005, 'vencido': 3006, 'confiei': 3007, 'obrigado': 3008, 'estive': 3009, 'acreditava': 3010, 'duvidou': 3011, 'dados': 3012, 'nus': 3013, 'dengosa': 3014, 'cavalinho': 3015, 'posto': 3016, 'plantou': 3017, 'colhe': 3018, 'aço': 3019, 'matei': 3020, 'assino': 3021, 'julgamento': 3022, 'encontrado': 3023, 'total': 3024, 'cheirando': 3025, 'lugarzinho': 3026, 'derreter': 3027, 'country': 3028, 'preparado': 3029, 'tchereretchê': 3030, 'pelado': 3031, 'drama': 3032, 'embriagar': 3033, 'resgate': 3034, 'oferecer': 3035, 'ciumenta': 3036, 'pimenta': 3037, 'ameaçando': 3038, 'bilau': 3039, 'límpido': 3040, 'aquário': 3041, 'enfeitar': 3042, 'necessita': 3043, 'simbora': 3044, 'comprometido': 3045, 'ligeiro': 3046, 'limão': 3047, 'espantar': 3048, 'enchendo': 3049, 'mágica': 3050, 'ás': 3051, 'bagunçado': 3052, 'calafrio': 3053, 'acabado': 3054, 'princesa': 3055, 'camila': 3056, 'canções': 3057, 'particular': 3058, 'rima': 3059, 'apanhar': 3060, 'carreira': 3061, 'repertório': 3062, 'latinha': 3063, 'exemplo': 3064, 'pequenos': 3065, 'descobre': 3066, 'prato': 3067, 'chicote': 3068, 'grudada': 3069, 'prometi': 3070, 'pergunte': 3071, 'mostrou': 3072, 'leveza': 3073, 'novidade': 3074, 'paraná': 3075, 'bonitas': 3076, 'brasília': 3077, 'foco': 3078, 'arrependida': 3079, 'chovendo': 3080, 'pingos': 3081, 'provando': 3082, 'botar': 3083, 'barulho': 3084, 'chupando': 3085, 'chova': 3086, 'qualidades': 3087, 'encher': 3088, 'embaça': 3089, 'daí': 3090, 'madruga': 3091, 'pensamos': 3092, 'estando': 3093, 'notícia': 3094, 'divertido': 3095, 'cala': 3096, 'enganação': 3097, 'infeliz': 3098, 'mergulhei': 3099, 'escura': 3100, 'arrancava': 3101, 'galo': 3102, 'desatino': 3103, 'mandei': 3104, 'partida': 3105, 'brinquei': 3106, 'japão': 3107, 'digitar': 3108, 'enviar': 3109, 'arranco': 3110, 'cancela': 3111, 'bagunçando': 3112, 'contador': 3113, 'reencontros': 3114, 'nele': 3115, 'jurar': 3116, 'cordão': 3117, 'iluminando': 3118, 'carrão': 3119, 'gatas': 3120, 'diamante': 3121, 'camarote': 3122, 'hospital': 3123, 'horário': 3124, 'raspar': 3125, 'despistei': 3126, 'buquê': 3127, 'proposta': 3128, 'contas': 3129, 'desisti': 3130, 'poxa': 3131, 'acontecem': 3132, 'trancado': 3133, 'evitando': 3134, 'mudam': 3135, 'transformação': 3136, 'utopia': 3137, 'iluminar': 3138, 'neurônios': 3139, 'humana': 3140, 'células': 3141, 'membrana': 3142, 'genética': 3143, 'refaz': 3144, 'moeda': 3145, 'peso': 3146, 'humilhar': 3147, 'cadeira': 3148, 'arregaça': 3149, 'elegante': 3150, 'resolveu': 3151, 'negando': 3152, 'escondendo': 3153, 'mulherengo': 3154, 'puxar': 3155, 'pescocinho': 3156, 'acertos': 3157, 'maltrata': 3158, 'conviver': 3159, 'devora': 3160, 'jogadas': 3161, 'enganada': 3162, 'pirada': 3163, 'trouxa': 3164, 'indiferente': 3165, 'palcos': 3166, 'platéia': 3167, 'aumente': 3168, 'franca': 3169, 'principalmente': 3170, 'entrevista': 3171, 'anotar': 3172, 'mania': 3173, 'sofrido': 3174, 'ardente': 3175, 'tatuado': 3176, 'aviso': 3177, 'muros': 3178, 'magoei': 3179, 'instintos': 3180, 'tomado': 3181, 'vazias': 3182, 'caber': 3183, 'sós': 3184, 'morrido': 3185, 'venham': 3186, 'dominando': 3187, 'pareça': 3188, 'explodir': 3189, 'explode': 3190, 'imperfeito': 3191, 'quizer': 3192, 'aê': 3193, 'jorge': 3194, 'mateus': 3195, 'surtei': 3196, 'botei': 3197, 'noronha': 3198, \"'té\": 3199, 'pipa': 3200, 'gps': 3201, 'disfarçando': 3202, 'combinou': 3203, 'tempão': 3204, 'carteira': 3205, '2': 3206, 'misturamos': 3207, 'batidão': 3208, 'balançando': 3209, 'besteirinha': 3210, 'falem': 3211, 'mulheres': 3212, 'bebedeira': 3213, 'f': 3214, 'd': 3215, 's': 3216, 'pipocar': 3217, 'lotado': 3218, 'desço': 3219, 'corto': 3220, 'queimar': 3221, 'respostas': 3222, 'tática': 3223, 'recuperar': 3224, 'oculto': 3225, 'furacão': 3226, 'assunción': 3227, 'paraguaias': 3228, 'sorridentes': 3229, 'guitarras': 3230, 'guapos': 3231, 'esquecerei': 3232, 'urgente': 3233, 'facinho': 3234, 'dedinho': 3235, 'acabe': 3236, 'sorveteria': 3237, 'pecar': 3238, 'porrada': 3239, 'serviu': 3240, 'expulsando': 3241, 'ondas': 3242, 'acompanha': 3243, '60': 3244, 'sentado': 3245, 'nível': 3246, 'muro': 3247, 'controle': 3248, 'atormentado': 3249, 'inventor': 3250, 'jejum': 3251, 'evito': 3252, 'subiu': 3253, 'piorar': 3254, 'afogando': 3255, 'gasolina': 3256, 'frágil': 3257, 'semi': 3258, 'receba': 3259, 'inventa': 3260, 'passamos': 3261, 'locutor': 3262, 'rezei': 3263, 'ambição': 3264, 'conjugo': 3265, 'disco': 3266, 'marte': 3267, 'nora': 3268, 'mentia': 3269, 'maré': 3270, 'indecente': 3271, 'provoco': 3272, 'aguentei': 3273, 'ferver': 3274, 'movimento': 3275, 'pensava': 3276, 'horizonte': 3277, 'pegadas': 3278, 'araguaia': 3279, 'águia': 3280, 'secas': 3281, 'cantarei': 3282, 'escutará': 3283, 'decido': 3284, 'repare': 3285, 'reclama': 3286, 'descobriu': 3287, 'ofereceu': 3288, 'respondi': 3289, 'respeitou': 3290, 'abusou': 3291, 'erguida': 3292, 'desaba': 3293, 'miragem': 3294, 'vender': 3295, 'gel': 3296, 'descanso': 3297, 'compreensão': 3298, 'esfria': 3299, 'tortura': 3300, 'dilacera': 3301, 'chamada': 3302, 'socorro': 3303, 'band': 3304, 'aid': 3305, 'machucada': 3306, 'ambiente': 3307, 'modelo': 3308, 'disposto': 3309, 'bis': 3310, 'ficaram': 3311, 'abandonei': 3312, 'encaixou': 3313, 'garoto': 3314, 'criticar': 3315, 'envolvendo': 3316, 'incerto': 3317, 'lutarei': 3318, 'regressar': 3319, 'teia': 3320, 'esquisito': 3321, 'dedicado': 3322, 'permissão': 3323, 'quintal': 3324, 'noel': 3325, 'rico': 3326, 'sofrida': 3327, 'algodão': 3328, 'rasgar': 3329, 'online': 3330, 'zoa': 3331, 'ensino': 3332, 'balangandá': 3333, 'molhou': 3334, 'português': 3335, 'ignorância': 3336, 'chuchu': 3337, 'lembrou': 3338, 'esquecendo': 3339, 'enganos': 3340, 'repensar': 3341, 'reconciliação': 3342, 'terminei': 3343, 'entenderia': 3344, 'pecados': 3345, 'trancou': 3346, 'ouça': 3347, 'apelos': 3348, 'g': 3349, 'aqueça': 3350, 'deixava': 3351, 'declarei': 3352, 'contado': 3353, 'admito': 3354, 'deslize': 3355, 'redimir': 3356, 'desapareceu': 3357, 'aperte': 3358, 'encoste': 3359, 'perdia': 3360, 'grudado': 3361, 'produto': 3362, 'vitrine': 3363, 'rasgue': 3364, 'etiqueta': 3365, 'pisou': 3366, 'bocas': 3367, 'ceder': 3368, 'admitir': 3369, 'rastros': 3370, 'príncipe': 3371, 'mancha': 3372, 'naqueles': 3373, 'malandro': 3374, 'conversas': 3375, 'rancor': 3376, 'matado': 3377, 'crise': 3378, 'juras': 3379, 'bagunçada': 3380, 'fachada': 3381, 'desceu': 3382, 'tamanha': 3383, 'zombar': 3384, 'maria': 3385, 'estalar': 3386, 'praga': 3387, 'trago': 3388, 'ham': 3389, 'juntinho': 3390, 'colar': 3391, 'ligados': 3392, 'mostrando': 3393, 'acabandooo': 3394, 'passavam': 3395, 'meras': 3396, 'satisfação': 3397, 'compartilhando': 3398, 'superou': 3399, 'consideração': 3400, 'pertence': 3401, 'arde': 3402, 'cidades': 3403, 'aves': 3404, 'padre': 3405, 'rezar': 3406, 'capela': 3407, 'coloridas': 3408, 'versos': 3409, 'vinhos': 3410, 'campinas': 3411, 'pneus': 3412, 'itumbiara': 3413, 'nascendo': 3414, 'correria': 3415, 'provas': 3416, 'cinzas': 3417, 'ajudou': 3418, 'apostei': 3419, 'recusa': 3420, 'diário': 3421, 'pasado': 3422, 'tiempo': 3423, 'aún': 3424, 'un': 3425, 'morei': 3426, 'penei': 3427, 'reinventei': 3428, 'desgosto': 3429, 'leu': 3430, 'cuidei': 3431, 'reconhecer': 3432, 'definir': 3433, 'isto': 3434, 'perderemos': 3435, 'destrua': 3436, 'esforço': 3437, 'reviro': 3438, 'encontrá': 3439, 'extremo': 3440, 'sereno': 3441, 'astral': 3442, 'estiloso': 3443, 'playboy': 3444, 'doidinhos': 3445, 'invejam': 3446, 'perdidamente': 3447, 'sinistro': 3448, 'avassalador': 3449, 'ficante': 3450, 'putaria': 3451, 'conseguem': 3452, 'carlos': 3453, 'jader': 3454, 'sequência': 3455, 'sentidos': 3456, 'necessidade': 3457, 'fracasso': 3458, 'difíceis': 3459, 'telhado': 3460, 'trovejar': 3461, 'ajeitar': 3462, 'realçar': 3463, 'carma': 3464, 'consumir': 3465, 'possuir': 3466, 'chiclete': 3467, 'gritei': 3468, 'academia': 3469, 'importado': 3470, 'filé': 3471, 'cego': 3472, 'tsunami': 3473, 'aguentando': 3474, 'encaixa': 3475, 'revolta': 3476, 'afinal': 3477, 'arranhão': 3478, 'deslizes': 3479, 'perdedor': 3480, 'ocupe': 3481, 'desfez': 3482, 'degrau': 3483, 'escada': 3484, 'absurdos': 3485, 'beira': 3486, 'reconhecemos': 3487, 'abelha': 3488, 'transparente': 3489, '27': 3490, 'novembro': 3491, 'maravilha': 3492, 'desencontros': 3493, 'decide': 3494, 'avisando': 3495, 'dengo': 3496, 'ansiedade': 3497, 'banzo': 3498, 'telefonar': 3499, 'escondida': 3500, 'acabo': 3501, 'revelar': 3502, 'mergulhado': 3503, 'andava': 3504, 'gripe': 3505, 'olhavam': 3506, 'israel': 3507, 'novaes': 3508, 'desliga': 3509, 'cidadão': 3510, 'desista': 3511, 'impeça': 3512, 'raça': 3513, 'houvesse': 3514, 'duvide': 3515, 'forças': 3516, 'praquele': 3517, 'always': 3518, \"let's\": 3519, 'far': 3520, 'from': 3521, 'and': 3522, 'figure': 3523, 'on': 3524, 'mind': 3525, 'not': 3526, 'this': 3527, 'because': 3528, 'we': 3529, 'all': 3530, 'chances': 3531, 'own': 3532, 'right': 3533, 'enfrentar': 3534, 'what': 3535, 'good': 3536, 'know': 3537, 'feel': 3538, 'fumar': 3539, 'inspiração': 3540, 'zé': 3541, 'relógio': 3542, 'mesmos': 3543, 'assustando': 3544, 'sorriu': 3545, 'brigamos': 3546, 'dividida': 3547, 'rolou': 3548, 'abaixa': 3549, 'direitos': 3550, 'insisti': 3551, 'saldo': 3552, 'zerado': 3553, 'negativado': 3554, 'ágio': 3555, 'pensão': 3556, 'atrasada': 3557, 'oficial': 3558, 'saindo': 3559, 'educação': 3560, 'vaza': 3561, 'porteiro': 3562, 'atrapalhar': 3563, 'emprestado': 3564, 'desafios': 3565, 'distancia': 3566, 'salão': 3567, 'começado': 3568, 'imensidão': 3569, 'besteiras': 3570, 'conduz': 3571, 'graças': 3572, 'doses': 3573, 'juros': 3574, 'arranhadinho': 3575, 'desatento': 3576, 'marcando': 3577, 'juramento': 3578, 'tornando': 3579, 'conformei': 3580, 'rodada': 3581, 'maiara': 3582, 'corda': 3583, 'desandou': 3584, 'atendi': 3585, 'ouvia': 3586, 'formado': 3587, 'solteiros': 3588, 'meninas': 3589, 'henrique': 3590, 'juliano': 3591, 'dado': 3592, 'enganado': 3593, 'trocado': 3594, 'temporária': 3595, 'lentamente': 3596, 'lembrarmos': 3597, 'canarinho': 3598, 'levaram': 3599, 'tardezinha': 3600, 'anunciando': 3601, 'floresta': 3602, 'alegrando': 3603, 'coroa': 3604, 'joana': 3605, 'susto': 3606, 'cruzeiro': 3607, 'evita': 3608, 'burro': 3609, 'seca': 3610, 'pingo': 3611, 'aprevenir': 3612, 'laivém': 3613, 'atrevido': 3614, 'faceiro': 3615, 'acidente': 3616, 'plantei': 3617, 'corrida': 3618, 'futebol': 3619, 'bato': 3620, 'transformo': 3621, 'doutor': 3622, 'endireita': 3623, 'obedecem': 3624, 'mocidade': 3625, 'marginais': 3626, 'bando': 3627, 'mocinhos': 3628, 'mocinhas': 3629, 'mestre': 3630, 'mostro': 3631, 'aceitei': 3632, 'ôôô': 3633, 'conspirando': 3634, 'reprise': 3635, 'virote': 3636, 'diversão': 3637, 'forçar': 3638, 'soltou': 3639, 'cedeu': 3640, 'confortável': 3641, 'ingênuo': 3642, 'negocio': 3643, 'caia': 3644, 'deram': 3645, 'delirando': 3646, 'enrolação': 3647, 'negócio': 3648, 'adiantou': 3649, 'conversando': 3650, 'contou': 3651, 'avesso': 3652, 'reparar': 3653, 'cuidando': 3654, 'despedida': 3655, 'encosta': 3656, 'selinho': 3657, 'preliminar': 3658, 'falado': 3659, 'vizinhos': 3660, 'grave': 3661, 'atestado': 3662, 'traumático': 3663, 'teimoso': 3664, 'desligou': 3665, 'desisto': 3666, 'atrai': 3667, 'boto': 3668, 'esforçando': 3669, 'igualdade': 3670, 'vivido': 3671, 'acompanhada': 3672, 'enxugue': 3673, 'lumes': 3674, 'fiada': 3675, 'retiro': 3676, 'sonham': 3677, 'bodas': 3678, 'velhice': 3679, 'revoltar': 3680, 'revoltou': 3681, 'cozinhar': 3682, 'livrou': 3683, 'vieram': 3684, 'patroas': 3685, 'voou': 3686, 'tremia': 3687, 'inchados': 3688, 'intacta': 3689, 'obrigada': 3690, 'foge': 3691, 'conhecemos': 3692, 'dormimos': 3693, 'distantes': 3694, 'rolando': 3695, 'ajeito': 3696, 'cerca': 3697, 'impasse': 3698, 'apago': 3699, 'iêêê': 3700, 'passear': 3701, 'suíte': 3702, 'vixe': 3703, 'fetiche': 3704, 'relaxa': 3705, 'explana': 3706, 'exagera': 3707, 'enjoar': 3708, 'rolo': 3709, 'pouca': 3710, 'remember': 3711, 'acostumado': 3712, 'usado': 3713, 'prometendo': 3714, 'encantos': 3715, 'mercedita': 3716, 'passados': 3717, 'gari': 3718, 'tratou': 3719, 'herança': 3720, 'renovar': 3721, 'refiz': 3722, 'buscava': 3723, 'chutar': 3724, 'enviado': 3725, 'léo': 3726, 'pertinho': 3727, 'namorou': 3728, 'escureceu': 3729, 'abraçou': 3730, 'professor': 3731, 'desconfia': 3732, 'ganhei': 3733, 'arrumei': 3734, 'saúde': 3735, 'guti': 3736, 'prometer': 3737, 'tratado': 3738, 'ferir': 3739, 'valente': 3740, 'ataque': 3741, 'lo': 3742, 'cansaço': 3743, 'perda': 3744, 'inventando': 3745, 'sobrevivendo': 3746, 'quiz': 3747, 'participar': 3748, 'dicas': 3749, 'dica': 3750, 'porquê': 3751, 'intriga': 3752, 'bata': 3753, 'mudaram': 3754, 'arranque': 3755, 'centro': 3756, 'oeste': 3757, 'goiano': 3758, 'adorei': 3759, 'recebi': 3760, 'aeroporto': 3761, 'embarque': 3762, 'eita': 3763, 'transborda': 3764, 'controlo': 3765, 'rodou': 3766, '15': 3767, 'bloquear': 3768, 'borra': 3769, 'terno': 3770, 'mudaria': 3771, 'nadinha': 3772, 'infalível': 3773, 'perguntassem': 3774, 'afirmaria': 3775, 'falsas': 3776, 'amizades': 3777, 'delicada': 3778, 'enrolei': 3779, 'bebia': 3780, 'fingida': 3781, 'batido': 3782, 'durou': 3783, 'demorando': 3784, \"'cê\": 3785, 'honra': 3786, 'casais': 3787, 'esfriei': 3788, 'sal': 3789, 'segure': 3790, 'exagero': 3791, 'admirando': 3792, 'falcão': 3793, 'momozin': 3794, 'momozão': 3795, 'bancar': 3796, 'aponta': 3797, 'norte': 3798, 'abraçado': 3799, 'porção': 3800, 'grão': 3801, 'grãos': 3802, 'vinha': 3803, 'livros': 3804, 'boy': 3805, 'refrigerante': 3806, 'apena': 3807, 'abri': 3808, 'ignorante': 3809, 'transplante': 3810, 'preconceito': 3811, 'vende': 3812, 'congelei': 3813, \"d'água\": 3814, 'lendo': 3815, 'grau': 3816, 'seguem': 3817, 'traçado': 3818, 'desacelerados': 3819, 'alcance': 3820, 'correta': 3821, 'salva': 3822, 'sexto': 3823, 'ofendeu': 3824, 'argumentar': 3825, 'estourar': 3826, 'piseiro': 3827, 'faísca': 3828, 'defunto': 3829, 'ressuscitar': 3830, 'zonzeira': 3831, 'sertanejeira': 3832, 'laços': 3833, 'entendeu': 3834, 'terá': 3835, 'verás': 3836, 'fiquem': 3837, 'fama': 3838, 'encantou': 3839, 'eterna': 3840, 'taxista': 3841, 'rugas': 3842, 'moço': 3843, 'suponha': 3844, 'perigos': 3845, 'pirar': 3846, 'novelas': 3847, 'refletir': 3848, 'perfeição': 3849, 'disparado': 3850, 'vidrado': 3851, 'acelera': 3852, 'coincidência': 3853, 'dará': 3854, 'nasceram': 3855, 'guarde': 3856, 'face': 3857, 'ganhando': 3858, 'glória': 3859, 'diferentes': 3860, 'pousar': 3861, 'trajes': 3862, 'lavrador': 3863, 'botão': 3864, 'mocinha': 3865, 'gesto': 3866, 'indelicado': 3867, 'mendigo': 3868, 'nobre': 3869, 'educado': 3870, 'caprichoso': 3871, 'granfina': 3872, 'roceiro': 3873, 'representa': 3874, 'troféu': 3875, 'boiadeiros': 3876, 'atrasou': 3877, 'cumpra': 3878, 'dever': 3879, 'dividindo': 3880, 'esperanças': 3881, 'cento': 3882, 'escreve': 3883, 'poesia': 3884, 'últimos': 3885, 'apaixonados': 3886, 'destruiu': 3887, 'loura': 3888, 'cometidos': 3889, 'sustentaram': 3890, 'vividas': 3891, 'rebuscando': 3892, 'independentemente': 3893, 'miras': 3894, 'cio': 3895, 'física': 3896, 'también': 3897, 'anatomía': 3898, 'cerveza': 3899, 'mía': 3900, 'filosofia': 3901, 'vivir': 3902, 'tener': 3903, 'ay': 3904, 'tremenda': 3905, 'es': 3906, 'psiu': 3907, 'vencia': 3908, 'cantei': 3909, 'virarem': 3910, 'possibilidades': 3911, 'desertos': 3912, 'noturna': 3913, 'zona': 3914, 'carrossel': 3915, 'idade': 3916, 'butterfly': 3917, 'mínima': 3918, 'ergue': 3919, 'darei': 3920, 'djavan': 3921, 'azar': 3922, 'sofria': 3923, 'cartório': 3924, 'adormecer': 3925, 'grandeza': 3926, 'felizes': 3927, 'agosto': 3928, 'topa': 3929, 'apague': 3930, 'criemos': 3931, 'check': 3932, 'confeti': 3933, 'brilhante': 3934, 'aviões': 3935, 'cajuzinho': 3936, 'moranguinho': 3937, 'revirei': 3938, 'doidinho': 3939, 'coladinho': 3940, 'luta': 3941, 'pulando': 3942, 'sonza': 3943, 'segui': 3944, 'feche': 3945, 'constrói': 3946, 'vencendo': 3947, 'escalando': 3948, 'fortalezas': 3949, 'conquistando': 3950, 'imbatível': 3951, 'pique': 3952, 'conflito': 3953, 'mapa': 3954, 'terceira': 3955, 'chá': 3956, 'magoada': 3957, 'provei': 3958, 'feitos': 3959, 'podemos': 3960, 'algema': 3961, 'punhos': 3962, 'envolta': 3963, 'cresceu': 3964, 'aconchegar': 3965, 'apronta': 3966, 'atravessado': 3967, 'vaidoso': 3968, 'passava': 3969, 'peraí': 3970, 'finalmente': 3971, 'beijinhos': 3972, 'chicletinho': 3973, 'rondando': 3974, 'apagando': 3975, 'baralho': 3976, 'ajude': 3977, 'salve': 3978, 'pintar': 3979, 'amarelo': 3980, 'milhões': 3981, 'reais': 3982, 'gastei': 3983, 'burrice': 3984, 'movo': 3985, 'propostas': 3986, 'apavoram': 3987, 'ôuô': 3988, 'tédio': 3989, 'ignora': 3990, 'desdenha': 3991, 'traçar': 3992, 'sejam': 3993, 'percebam': 3994, 'feiticeiro': 3995, 'floricultura': 3996, 'confeitaria': 3997, 'sobremesa': 3998, 'chamou': 3999, 'ideias': 4000, 'pudim': 4001, 'assistiremos': 4002, 'acabaria': 4003, 'envelhece': 4004, 'urgentemente': 4005, 'decote': 4006, 'preencher': 4007, 'inocentes': 4008, 'aah': 4009, 'seio': 4010, 'deitado': 4011, 'estrelado': 4012, 'louro': 4013, 'requebra': 4014, 'rebola': 4015, 'desenhar': 4016, 'incondicional': 4017, 'caminhou': 4018, 'chique': 4019, 'joguei': 4020, 'now': 4021, 'negra': 4022, 'sequestro': 4023, 'aperto': 4024, '2x': 4025, 'maravilhoso': 4026, 'preferir': 4027, 'precipitadas': 4028, 'machista': 4029, 'disponível': 4030, 'conquistador': 4031, 'aposentou': 4032, 'farras': 4033, 'anunciar': 4034, 'encostada': 4035, 'encontraram': 4036, 'acorde': 4037, 'veloz': 4038, 'estávamos': 4039, 'abertos': 4040, 'sóbria': 4041, 'refrão': 4042, 'sarjeta': 4043, 'bandeira': 4044, 'traído': 4045, 'brincadeiras': 4046, 'procures': 4047, 'adaptar': 4048, 'mudá': 4049, 'las': 4050, 'falada': 4051, 'votos': 4052, 'belém': 4053, 'eis': 4054, 'comemorar': 4055, 'tatuagem': 4056, 'tião': 4057, 'plantação': 4058, 'canavial': 4059, 'fazei': 4060, 'mudasse': 4061, 'nevar': 4062, 'pára': 4063, 'tocá': 4064, 'queimo': 4065, 'del': 4066, 'espírito': 4067, 'decían': 4068, 'ahí': 4069, 'precipitar': 4070, 'banhar': 4071, 'vozinha': 4072, 'espuma': 4073, 'amasse': 4074, 'arrepiasse': 4075, 'desilude': 4076, 'irreal': 4077, 'puxando': 4078, 'pedestre': 4079, 'anil': 4080, 'vambora': 4081, 'xonado': 4082, 'cristalina': 4083, 'guardada': 4084, 'canoa': 4085, 'rios': 4086, 'navios': 4087, 'queijo': 4088, 'vendem': 4089, 'timão': 4090, 'rg': 4091, 'mané': 4092, 'chace': 4093, 'escondem': 4094, 'mansinho': 4095, 'ganha': 4096, 'serviço': 4097, 'demorei': 4098, 'sabem': 4099, 'falasse': 4100, 'assistir': 4101, 'derê': 4102, 'iôiô': 4103, 'iô': 4104, 'marinheiro': 4105, 'desafiei': 4106, 'gravidade': 4107, 'radar': 4108, 'conspirou': 4109, 'postar': 4110, 'nbsp': 4111, 'amam': 4112, 'perceberam': 4113, 'alcançamos': 4114, 'moto': 4115, 'manhas': 4116, 'massas': 4117, 'maçãs': 4118, 'florir': 4119, 'zela': 4120, 'vasto': 4121, 'fortaleceu': 4122, 'situações': 4123, 'prestes': 4124, 'naie': 4125, 'abrigado': 4126, 'aproveitarem': 4127, 'irradia': 4128, 'escala': 4129, 'páginas': 4130, 'agindo': 4131, 'escancarado': 4132, 'comprovado': 4133, 'cheiros': 4134, 'creio': 4135, 'infelizes': 4136, 'gumes': 4137, 'improvisos': 4138, 'terror': 4139, 'desmantelado': 4140, '59': 4141, 'imensa': 4142, 'vestígio': 4143, 'marcamos': 4144, 'acreditam': 4145, 'desconhecia': 4146, 'impedido': 4147, 'cumprirem': 4148, 'atendendo': 4149, 'esperta': 4150, 'nascem': 4151, 'secam': 4152, 'relendo': 4153, 'odeio': 4154, 'caço': 4155, 'virtude': 4156, 'retoque': 4157, 'pinte': 4158, 'modelos': 4159, 'anéis': 4160, 'pulseiras': 4161, 'brincos': 4162, 'caráter': 4163, 'essencial': 4164, 'artificial': 4165, 'fa': 4166, 'acidentes': 4167, 'fatais': 4168, 'fatalidade': 4169, 'viveria': 4170, 'altar': 4171, 'destroços': 4172, 'ocupou': 4173, 'resistente': 4174, 'infinita': 4175, 'poeta': 4176, 'confessa': 4177, 'dão': 4178, 'humilhando': 4179, 'floresce': 4180, 'vence': 4181, 'demonstrar': 4182, 'rata': 4183, 'colecionar': 4184, 'coincidentemente': 4185, 'uniu': 4186, 'desconhecidos': 4187, 'conhecendo': 4188, 'término': 4189, 'recente': 4190, 'revirou': 4191, 'pendente': 4192, 'apelido': 4193, 'carinhoso': 4194, 'executar': 4195, 'enlouqueci': 4196, 'esnobava': 4197, 'rodinha': 4198, 'baldinho': 4199, 'apavorando': 4200, 'vip': 4201, 'reservada': 4202, 'suave': 4203, 'nave': 4204, 'rolé': 4205, 'point': 4206, 'praça': 4207, 'vivia': 4208, 'odiava': 4209, 'migalhas': 4210, 'grades': 4211, 'x': 4212, 'tirem': 4213, 'certamente': 4214, 'desgramada': 4215, 'manguaça': 4216, 'positiva': 4217, 'região': 4218, 'distrito': 4219, 'federal': 4220, 'comparecer': 4221, 'lavei': 4222, 'regulei': 4223, 'reggae': 4224, 'deprimido': 4225, 'recuso': 4226, 'assaltar': 4227, 'sequestrar': 4228, 'algemado': 4229, 'prenda': 4230, 'solte': 4231, 'enfraquece': 4232, 'estudar': 4233, 'truque': 4234, 'bijuteria': 4235, 'aas': 4236, 'bacana': 4237, 'dançando': 4238, 'branquinha': 4239, 'goela': 4240, 'tiveras': 4241, 'dera': 4242, 'borbulhas': 4243, 'encantar': 4244, 'corais': 4245, 'silhuetas': 4246, 'enchas': 4247, 'amargura': 4248, 'unirmos': 4249, 'especialmente': 4250, 'zangada': 4251, 'calmante': 4252, 'bancando': 4253, 'fungando': 4254, 'sanfoneiro': 4255, 'arranjar': 4256, 'tonto': 4257, 'desejava': 4258, 'aproximando': 4259, 'renascer': 4260, 'parecida': 4261, 'servem': 4262, 'rendeu': 4263, 'desilusão': 4264, 'endoidou': 4265, 'caneta': 4266, 'folha': 4267, 'tututu': 4268, 'chefe': 4269, 'matilha': 4270, 'máquina': 4271, 'compensando': 4272, 'participação': 4273, 'diminuí': 4274, 'rodas': 4275, 'supermercado': 4276, 'bandeja': 4277, 'consumado': 4278, 'intensa': 4279, 'zói': 4280, 'ingatinhado': 4281, 'grossa': 4282, 'inrolado': 4283, 'chute': 4284, 'balde': 4285, 'dançá': 4286, 'pescaria': 4287, 'deixamo': 4288, 'levamo': 4289, 'dinovo': 4290, 'gatinhas': 4291, 'levá': 4292, 'chumbo': 4293, 'quieto': 4294, 'voltá': 4295, 'desconfiada': 4296, 'revira': 4297, 'carbono': 4298, 'grosso': 4299, 'deixará': 4300, 'separação': 4301, 'desviou': 4302, 'vestígios': 4303, 'contentar': 4304, 'rasteira': 4305, 'queimado': 4306, 'passadas': 4307, 'cicatrizes': 4308, 'definem': 4309, 'discordar': 4310, 'caneco': 4311, 'admite': 4312, 'transformado': 4313, 'arrogância': 4314, 'recaídas': 4315, 'ferida': 4316, 'verdes': 4317, 'influenciada': 4318, 'lingerie': 4319, 'ingrata': 4320, 'bonzinho': 4321, 'ferrei': 4322, 'aconselhavam': 4323, 'machuque': 4324, 'demonstrou': 4325, 'hei': 4326, 'aceitarei': 4327, 'visão': 4328, 'sincera': 4329, 'entregava': 4330, 'encheria': 4331, 'começando': 4332, 'altura': 4333, 'esposa': 4334, 'adubo': 4335, 'despertador': 4336, 'fotografia': 4337, 'paletó': 4338, 'domei': 4339, 'leão': 4340, 'neve': 4341, 'china': 4342, 'breve': 4343, 'comparação': 4344, 'formato': 4345, 'pingando': 4346, 'ralo': 4347, 'atual': 4348, 'desbriga': 4349, 'libere': 4350, 'reconheceu': 4351, 'tunado': 4352, 'impressionam': 4353, 'bmw': 4354, 'forrado': 4355, 'esquerdo': 4356, 'cinquenta': 4357, 'inglaterra': 4358, 'chandon': 4359, 'compram': 4360, 'visita': 4361, 'curto': 4362, 'corredor': 4363, 'distrair': 4364, 'reparando': 4365, 'armado': 4366, 'cuidou': 4367, 'pivete': 4368, 'planejei': 4369, 'criei': 4370, 'álibi': 4371, 'adiantar': 4372, 'desabasse': 4373, 'sobreviverei': 4374, 'renascerei': 4375, 'remediar': 4376, 'aguarda': 4377, 'trocamos': 4378, 'ofenças': 4379, 'chegaram': 4380, 'delírios': 4381, 'dispara': 4382, 'enxergando': 4383, 'falsidade': 4384, 'argumento': 4385, 'clareando': 4386, 'faróis': 4387, 'velocidade': 4388, 'esquinas': 4389, 'lucidez': 4390, 'esteve': 4391, 'recomeço': 4392, 'conserta': 4393, 'desejei': 4394, 'chorava': 4395, 'divina': 4396, 'gerar': 4397, 'biotecnologia': 4398, 'soberano': 4399, 'agita': 4400, 'cria': 4401, 'componentes': 4402, 'transforma': 4403, 'deixá': 4404, 'aquecida': 4405, 'lagarta': 4406, 'casulo': 4407, 'transformando': 4408, 'borboleta': 4409, 'matéria': 4410, 'orgânica': 4411, 'feto': 4412, 'embrião': 4413, 'define': 4414, 'agredir': 4415, 'calar': 4416, 'caridade': 4417, \"'quebrei\": 4418, \"cara'\": 4419, 'provocando': 4420, 'colocando': 4421, 'insinuando': 4422, 'doidaça': 4423, 'escapa': 4424, 'folga': 4425, 'desperdiçando': 4426, 'mascarando': 4427, 'voltada': 4428, 'momentânea': 4429, 'droga': 4430, 'distraído': 4431, 'culpo': 4432, 'desencana': 4433, 'devorando': 4434, 'apaixona': 4435, 'ligada': 4436, 'acerta': 4437, 'resumem': 4438, 'separam': 4439, 'despertando': 4440, 'feiticeira': 4441, 'embriaga': 4442, 'mandaria': 4443, 'burrada': 4444, 'enfrentando': 4445, 'ordena': 4446, 'podem': 4447, 'cruzados': 4448, 'aplaudir': 4449, 'balas': 4450, 'perdidas': 4451, 'vãos': 4452, 'poltronas': 4453, 'arrependimento': 4454, 'abandona': 4455, 'arranca': 4456, 'petisco': 4457, 'vaia': 4458, 'decorar': 4459, 'hortelã': 4460, 'bombom': 4461, 'dure': 4462, 'cartão': 4463, 'postal': 4464, 'batidas': 4465, 'desmoronou': 4466, 'guerrear': 4467, 'longas': 4468, 'realizar': 4469, 'adormeceu': 4470, 'xinga': 4471, 'impor': 4472, 'incrível': 4473, 'encara': 4474, 'apavora': 4475, 'queres': 4476, 'vitrola': 4477, 'azucrina': 4478, 'tcherere': 4479, 'humberto': 4480, 'ronaldo': 4481, 'chamas': 4482, 'barretos': 4483, 'dendelzinho': 4484, 'hungria': 4485, 'desistindo': 4486, 'invadiu': 4487, 'alucina': 4488, 'afasto': 4489, 'defendo': 4490, 'evidências': 4491, 'tatuei': 4492, 'apegando': 4493, '367': 4494, 'machucam': 4495, 'zaqueu': 4496, 'estrutura': 4497, 'santidade': 4498, 'milagre': 4499, 'toco': 4500, 'swing': 4501, 'swingado': 4502, 'neymarzinho': 4503, 'detesto': 4504, 'moderno': 4505, 'abusam': 4506, 'farrear': 4507, 'desorientado': 4508, 'arrocha': 4509, 'molhando': 4510, 'enxugando': 4511, 'esbarrar': 4512, 'fraca': 4513, 'resumi': 4514, 'enfeitiçado': 4515, 'elaborar': 4516, 'ocasião': 4517, 'reencontrar': 4518, 'resumir': 4519, 'vasculhei': 4520, 'doídas': 4521, 'marcantes': 4522, 'remoendo': 4523, 'percebendo': 4524, 'revirar': 4525, 'fortalece': 4526, 'acordava': 4527, 'pagava': 4528, 'demonstraram': 4529, 'despedir': 4530, 'agiu': 4531, 'explodiu': 4532, 'detonou': 4533, 'adote': 4534, 'envolvo': 4535, 'quebro': 4536, 'piriguete': 4537, 'usam': 4538, 'jogam': 4539, 'pet': 4540, 'assanhada': 4541, 'fritar': 4542, 'acessa': 4543, 'avise': 4544, 'nãos': 4545, 'desabou': 4546, 'maioria': 4547, 'vibrar': 4548, 'ibiza': 4549, 'comentários': 4550, 'bobos': 4551, 'gostou': 4552, 'disputa': 4553, 'prêmio': 4554, 'competição': 4555, 'traidor': 4556, 'longos': 4557, 'visualiza': 4558, 'baixei': 4559, 'interfone': 4560, 'aproximo': 4561, 'necessito': 4562, 'sozinhas': 4563, 'princesinha': 4564, 'ensinando': 4565, 'soma': 4566, 'enganados': 4567, 'aconselham': 4568, 'paciente': 4569, 'denuncia': 4570, 'torturada': 4571, 'asfalto': 4572, 'fechando': 4573, 'querosene': 4574, 'abraçando': 4575, 'traças': 4576, 'arrependa': 4577, 'maltratar': 4578, 'gandaia': 4579, 'visitas': 4580, 'destranca': 4581, 'criatura': 4582, 'programa': 4583, 'precisei': 4584, 'orienta': 4585, 'voador': 4586, 'infarte': 4587, 'medicina': 4588, 'fuja': 4589, 'atravesse': 4590, 'lembram': 4591, 'dividi': 4592, 'alucinam': 4593, 'malícia': 4594, 'teimar': 4595, 'acelerando': 4596, 'reto': 4597, 'convence': 4598, 'suspense': 4599, 'palhoça': 4600, 'belisca': 4601, 'declaro': 4602, 'mamão': 4603, 'lavar': 4604, 'suja': 4605, 'burra': 4606, 'surra': 4607, 'curta': 4608, 'saquei': 4609, 'suportei': 4610, 'arrepiando': 4611, 'apaixonante': 4612, 'galopar': 4613, 'leito': 4614, 'anúncios': 4615, 'amanhece': 4616, 'derrama': 4617, 'volte': 4618, 'seguro': 4619, 'décima': 4620, 'sentisse': 4621, 'triângulo': 4622, 'mineiro': 4623, 'carvão': 4624, 'mineirinha': 4625, 'domou': 4626, 'poderá': 4627, 'socorrer': 4628, 'demoro': 4629, 'luxosa': 4630, 'amorosa': 4631, 'perdição': 4632, 'murmura': 4633, \"minh'alma\": 4634, 'insensível': 4635, 'agarrou': 4636, 'suplicou': 4637, 'ofender': 4638, 'representava': 4639, 'cheque': 4640, 'estremecer': 4641, 'gemido': 4642, 'aproximei': 4643, 'apavorei': 4644, 'tênis': 4645, 'botina': 4646, 'peão': 4647, 'vaqueiro': 4648, 'ultimamente': 4649, 'exclui': 4650, 'contatos': 4651, 'apaguei': 4652, 'médico': 4653, 'continuasse': 4654, 'teste': 4655, 'amarelinho': 4656, 'antibiótico': 4657, 'escondo': 4658, 'estampado': 4659, 'aparece': 4660, 'vazios': 4661, 'engraçado': 4662, 'cobre': 4663, 'explicações': 4664, 'exibir': 4665, 'apossa': 4666, 'cerimônia': 4667, 'atendo': 4668, 'frustradas': 4669, 'prateleira': 4670, 'sertaneja': 4671, 'paris': 4672, 'estonteante': 4673, 'barrar': 4674, 'esquento': 4675, 'custe': 4676, 'custar': 4677, 'chamego': 4678, 'nota': 4679, 'estremeci': 4680, 'aguentava': 4681, 'displicente': 4682, 'errando': 4683, 'dosagem': 4684, 'seguiria': 4685, 'errados': 4686, 'inúmeras': 4687, 'falhei': 4688, 'prendeu': 4689, 'escolhida': 4690, 'indicando': 4691, 'queda': 4692, 'aspas': 4693, 'completo': 4694, 'velhinho': 4695, 'árvore': 4696, 'justamente': 4697, 'desenganos': 4698, 'profunda': 4699, \"'tô\": 4700, 'pensado': 4701, 'terminando': 4702, 'poucas': 4703, 'aula': 4704, 'tolerância': 4705, 'fundir': 4706, 'cuca': 4707, 'jacaré': 4708, 'íngua': 4709, 'merci': 4710, 'beaucoup': 4711, 'francês': 4712, 'enorme': 4713, 'juramos': 4714, 'casados': 4715, 'abençoado': 4716, 'imaginou': 4717, 'julgado': 4718, 'lembre': 4719, 'tecla': 4720, 'ouvisse': 4721, 'pediria': 4722, 'morreria': 4723, 'suportaria': 4724, 'resolvida': 4725, 'cabana': 4726, 'geólogo': 4727, 'ponha': 4728, 'afeto': 4729, 'alfabeto': 4730, 'z': 4731, 'título': 4732, 'tornar': 4733, 'precisou': 4734, 'correspondeu': 4735, 'docemente': 4736, 'estendeu': 4737, 'cheios': 4738, 'amantes': 4739, 'adormeceram': 4740, 'calaram': 4741, 'perderam': 4742, 'amaram': 4743, 'acabem': 4744, 'caixas': 4745, 'planejando': 4746, 'doía': 4747, 'amanheça': 4748, 'suor': 4749, 'calçadas': 4750, 'horizontes': 4751, 'montes': 4752, 'clareia': 4753, 'importou': 4754, 'previsões': 4755, 'seguia': 4756, 'arriscado': 4757, 'pia': 4758, 'tropeça': 4759, 'ronca': 4760, 'camisas': 4761, 'propaganda': 4762, 'falas': 4763, 'viras': 4764, 'espalhas': 4765, 'sentes': 4766, 'deixaste': 4767, 'crucificado': 4768, 'tratares': 4769, 'lamenta': 4770, 'surge': 4771, 'imprescindível': 4772, 'ida': 4773, 'calo': 4774, 'meto': 4775, 'trilho': 4776, 'capim': 4777, 'mentirosa': 4778, 'miserenta': 4779, 'baladeira': 4780, 'calcanhar': 4781, 'benzedeira': 4782, 'interesseira': 4783, 'bombar': 4784, 'custa': 4785, 'ansioso': 4786, 'benzinho': 4787, 'simplicidade': 4788, 'voam': 4789, 'alcança': 4790, 'estremeço': 4791, 'favo': 4792, 'pretos': 4793, 'vítima': 4794, 'queixa': 4795, 'delegacia': 4796, 'acusados': 4797, 'adultério': 4798, 'condenados': 4799, 'advogado': 4800, 'regime': 4801, 'bagunçados': 4802, 'reféns': 4803, 'preliminares': 4804, 'visualizei': 4805, 'atenda': 4806, 'ardendo': 4807, 'iluminei': 4808, 'finda': 4809, 'chegaremos': 4810, 'fantasmas': 4811, 'ruínas': 4812, 'rapina': 4813, 'cantina': 4814, 'acertei': 4815, 'armar': 4816, 'solitários': 4817, 'viajantes': 4818, 'verdejante': 4819, 'estaremos': 4820, 'prece': 4821, 'antiga': 4822, 'fazenda': 4823, 'botas': 4824, 'aprisionados': 4825, 'trovão': 4826, 'condena': 4827, 'deliro': 4828, 'mira': 4829, 'erra': 4830, 'poderemos': 4831, 'mortos': 4832, 'noutra': 4833, 'dançaremos': 4834, 'fujo': 4835, 'submetendo': 4836, 'vinil': 4837, 'badalação': 4838, 'cancelo': 4839, 'reunião': 4840, 'rugindo': 4841, 'anhanguera': 4842, 'ribeirão': 4843, 'iluminada': 4844, 'azulada': 4845, 'uberaba': 4846, 'uberlândia': 4847, 'decolo': 4848, 'reluzentes': 4849, 'rotação': 4850, 'asteroide': 4851, 'motor': 4852, 'rodovia': 4853, 'amargas': 4854, 'clama': 4855, 'protege': 4856, 'defende': 4857, 'fortes': 4858, 'prometido': 4859, 'exaltar': 4860, 'sabiam': 4861, 'bênção': 4862, 'plateia': 4863, 'palco': 4864, 'arrancada': 4865, 'siempre': 4866, 'viviste': 4867, 'mis': 4868, 'sueños': 4869, 'fuiste': 4870, 'secreto': 4871, 'ayer': 4872, 'cuenta': 4873, 'miente': 4874, 'piensa': 4875, 'tan': 4876, 'vacía': 4877, 'nuestra': 4878, 'primera': 4879, 'grabó': 4880, 'piel': 4881, 'sea': 4882, 'recuerdo': 4883, 'oigo': 4884, 'llama': 4885, 'sueño': 4886, 'lloro': 4887, 'siento': 4888, 'esperanza': 4889, 'extraño': 4890, 'debo': 4891, 'afogar': 4892, 'coca': 4893, 'discutir': 4894, 'gravada': 4895, 'pertenço': 4896, 'monstros': 4897, 'criação': 4898, 'serão': 4899, 'inteiras': 4900, 'ficaremos': 4901, 'acordados': 4902, 'egoísmo': 4903, 'roubo': 4904, 'tudim': 4905, 'risquei': 4906, 'dicionário': 4907, 'mudança': 4908, 'naveguei': 4909, 'revê': 4910, 'jovem': 4911, 'declamo': 4912, 'traem': 4913, 'discam': 4914, 'convenhamos': 4915, 'preparamos': 4916, 'choramos': 4917, 'faiscante': 4918, 'dengoso': 4919, 'bebemos': 4920, 'malandra': 4921, 'assanhadinha': 4922, 'doidinha': 4923, 'sentando': 4924, 'ritmo': 4925, 'descolado': 4926, 'namorador': 4927, 'perito': 4928, 'tocarem': 4929, 'flechará': 4930, 'significa': 4931, 'sexo': 4932, 'alcanço': 4933, 'cativa': 4934, 'excita': 4935, 'canso': 4936, 'brilhavam': 4937, 'impede': 4938, 'falaria': 4939, 'maçã': 4940, 'proibida': 4941, 'gravado': 4942, 'repetir': 4943, 'completava': 4944, 'dependo': 4945, 'policio': 4946, 'iceberg': 4947, 'tornam': 4948, 'castelo': 4949, 'olham': 4950, 'lados': 4951, 'sais': 4952, 'aguça': 4953, 'talismã': 4954, 'divã': 4955, 'logoo': 4956, 'minh’alma': 4957, 'extravaza': 4958, 'transbordar': 4959, 'derramei': 4960, 'apossar': 4961, 'grudei': 4962, 'grudou': 4963, 'milhares': 4964, 'descrever': 4965, 'marcante': 4966, 'soluçar': 4967, 'mergulhada': 4968, 'aventurar': 4969, 'cineminha': 4970, 'torpençe': 4971, 'night': 4972, 'corpinho': 4973, 'sarado': 4974, 'comentado': 4975, 'choveu': 4976, 'litoral': 4977, 'sobrando': 4978, 'bombando': 4979, 'terreno': 4980, 'sujou': 4981, 'rica': 4982, 'lamentando': 4983, 'castanho': 4984, 'existiu': 4985, 'quebre': 4986, 'derrame': 4987, 'guardarei': 4988, 'povoam': 4989, 'amargamente': 4990, 'ingênua': 4991, 'evento': 4992, 'gritão': 4993, 'guardo': 4994, 'aconchego': 4995, 'aquietava': 4996, 'ajuntava': 4997, 'alpendre': 4998, 'tinham': 4999, 'trabalhavam': 5000, 'sagrado': 5001, 'afagava': 5002, 'perguntava': 5003, 'fizera': 5004, 'estrepolia': 5005, 'defendia': 5006, 'ajeitava': 5007, 'punha': 5008, 'trazia': 5009, 'pedia': 5010, 'desafinado': 5011, 'rouco': 5012, 'toadas': 5013, 'poente': 5014, 'correu': 5015, 'desquite': 5016, 'consórcio': 5017, 'palácio': 5018, 'gostariam': 5019, 'amassem': 5020, 'viria': 5021, 'vacilão': 5022, 'enrolando': 5023, 'brando': 5024, 'gato': 5025, 'importava': 5026, 'desistiu': 5027, 'velejar': 5028, 'primo': 5029, 'sobrava': 5030, 'osso': 5031, 'comia': 5032, 'nublado': 5033, 'amargurado': 5034, 'baixos': 5035, 'intensamente': 5036, 'desconfie': 5037, 'enfrente': 5038, 'precisasse': 5039, 'tentasse': 5040, 'julgando': 5041, 'discussão': 5042, 'confio': 5043, 'culpando': 5044, 'atriz': 5045, 'rasgo': 5046, 'cometeu': 5047, 'people': 5048, 'say': 5049, 'that': 5050, 'life': 5051, 'has': 5052, 'limit': 5053, 'if': 5054, \"everything's\": 5055, 'marked': 5056, 'with': 5057, 'run': 5058, 'away': 5059, 'hate': 5060, 'pain': 5061, \"what's\": 5062, 'will': 5063, 'give': 5064, 'try': 5065, 'fall': 5066, 'pequenas': 5067, \"don't\": 5068, 'dare': 5069, 'turn': 5070, 'around': 5071, 'please': 5072, 'trust': 5073, 'your': 5074, 'feet': 5075, 'leave': 5076, 'trace': 5077, 'behind': 5078, 'go': 5079, 'until': 5080, 'get': 5081, 'vo': 5082, 'whats': 5083, 'have': 5084, 'need': 5085, \"it's\": 5086, 'really': 5087, 'feels': 5088, 'be': 5089, 'skin': 5090, \"i'm\": 5091, 'glad': 5092, 'brought': 5093, 'wished': 5094, 'knew': 5095, 'fly': 5096, 'glide': 5097, 'across': 5098, 'sky': 5099, 'smile': 5100, 'tonight': 5101, \"i'll\": 5102, 'copinho': 5103, 'uai': 5104, 'ê': 5105, 'marvada': 5106, 'montão': 5107, 'shanadu': 5108, 'boiolão': 5109, 'rapaiz': 5110, 'old': 5111, 'parr': 5112, 'empurrãozinho': 5113, 'salvou': 5114, 'benzim': 5115, 'setembro': 5116, 'ocupar': 5117, 'quinze': 5118, 'sumida': 5119, 'ok': 5120, 'varrer': 5121, 'desmontou': 5122, 'ímã': 5123, 'reconhece': 5124, 'perguntei': 5125, 'sumo': 5126, 'esfriar': 5127, 'melhorando': 5128, 'bebidas': 5129, 'piorando': 5130, 'corno': 5131, 'animado': 5132, 'notando': 5133, 'depressão': 5134, 'fritei': 5135, 'cumpre': 5136, 'apelar': 5137, 'pisei': 5138, 'busquei': 5139, 'cuiabano': 5140, 'chifrou': 5141, 'zerou': 5142, 'vendeu': 5143, 'quadrilha': 5144, 'perturbação': 5145, 'evoluí': 5146, 'vacinada': 5147, 'prontinha': 5148, 'contadas': 5149, 'baixaria': 5150, 'portaria': 5151, 'táxi': 5152, 'arrumou': 5153, 'sorridente': 5154, 'odiar': 5155, 'meti': 5156, 'responsabilidade': 5157, 'terça': 5158, 'chopp': 5159, 'falamos': 5160, 'traste': 5161, 'apresentei': 5162, 'sumido': 5163, 'desfilando': 5164, 'aproximação': 5165, 'dispenso': 5166, 'alcoolizados': 5167, 'poderiam': 5168, 'levem': 5169, 'iorque': 5170, 'minaçu': 5171, 'ceará': 5172, 'jaraguá': 5173, 'bh': 5174, 'vênus': 5175, 'plutão': 5176, 'argentina': 5177, 'alemanha': 5178, 'nigéria': 5179, 'canadá': 5180, 'continente': 5181, 'estradas': 5182, 'trilham': 5183, 'pressinto': 5184, 'dadas': 5185, 'causador': 5186, 'pretinho': 5187, 'atraso': 5188, 'raiando': 5189, 'sentei': 5190, 'aproximou': 5191, 'arranjei': 5192, 'egoísta': 5193, 'sentiria': 5194, 'decoraria': 5195, 'lamentar': 5196, 'acostume': 5197, 'iludido': 5198, 'entendedor': 5199, 'seguidas': 5200, 'bambeou': 5201, 'refrescar': 5202, 'derrubou': 5203, 'variar': 5204, 'largada': 5205, 'impregnado': 5206, 'forca': 5207, 'deslizando': 5208, 'venero': 5209, 'carinhar': 5210, 'valorizou': 5211, 'apresento': 5212, 'recuperação': 5213, 'reunido': 5214, 'pegação': 5215, 'liberado': 5216, 'endoidando': 5217, 'soltinhas': 5218, 'parceiros': 5219, 'reforço': 5220, 'valem': 5221, 'fred': 5222, 'gustavo': 5223, 'top': 5224, 'galáxia': 5225, 'sugestão': 5226, 'experiente': 5227, 'balcão': 5228, 'cardápio': 5229, 'jogados': 5230, 'brindando': 5231, 'relacionamentos': 5232, 'memorizei': 5233, 'doa': 5234, 'desordem': 5235, 'esfriando': 5236, 'esquecemos': 5237, 'esperamos': 5238, 'desfrutemos': 5239, 'cercando': 5240, 'terreiro': 5241, 'pruma': 5242, 'fizeram': 5243, 'trocaram': 5244, 'porão': 5245, 'morava': 5246, 'insultavam': 5247, 'arrombasse': 5248, 'comoveu': 5249, 'abriu': 5250, 'grade': 5251, 'altas': 5252, 'romper': 5253, 'alvorada': 5254, 'sobrevoando': 5255, 'voltado': 5256, 'inédito': 5257, 'enrolava': 5258, 'vibe': 5259, 'enlouquecia': 5260, 'escorregou': 5261, 'pulou': 5262, 'tirolesa': 5263, 'fraqueza': 5264, 'tropecei': 5265, 'piadinha': 5266, 'pote': 5267, 'investi': 5268, 'mobiliada': 5269, 'financia': 5270, 'duzentas': 5271, 'parcelas': 5272, 'cofrinho': 5273, 'garante': 5274, 'férias': 5275, 'chutando': 5276, 'boneca': 5277, 'aô': 5278, 'namorá': 5279, 'casada': 5280, 'oiada': 5281, 'namora': 5282, 'pulo': 5283, 'corgo': 5284, 'sorteiro': 5285, 'truco': 5286, 'zap': 5287, 'copa': 5288, 'inimigo': 5289, 'escanteio': 5290, 'cabecear': 5291, 'gol': 5292, 'prega': 5293, 'misturo': 5294, 'arrasto': 5295, 'desobediente': 5296, 'colégio': 5297, 'privilégio': 5298, 'cobra': 5299, 'apedrejo': 5300, 'dragão': 5301, 'cabeças': 5302, 'alejo': 5303, 'vaca': 5304, 'brejo': 5305, 'entendia': 5306, 'aceitando': 5307, 'mutante': 5308, 'sólido': 5309, 'parceria': 5310, 'aleija': 5311, 'conselheira': 5312, 'tempero': 5313, 'conspira': 5314, 'progredindo': 5315, 'acostumou': 5316, 'credo': 5317, 'janelas': 5318, 'nisso': 5319, 'sacada': 5320, 'bipolar': 5321, 'cervejada': 5322, 'engando': 5323, 'anule': 5324, 'transforme': 5325, 'derreta': 5326, 'criar': 5327, 'durão': 5328, 'amarar': 5329, 'paradeiro': 5330, 'pesar': 5331, 'assombrado': 5332, 'enjoada': 5333, 'revoltada': 5334, 'desocupada': 5335, 'trancar': 5336, 'vontades': 5337, 'desprevenido': 5338, 'suspeitaria': 5339, 'desabando': 5340, 'vitima': 5341, 'reconstruir': 5342, 'desconfiado': 5343, 'triz': 5344, 'aparenta': 5345, 'detrás': 5346, 'negros': 5347, 'confusa': 5348, 'exagerado': 5349, 'sobrevivo': 5350, 'carros': 5351, 'máximo': 5352, 'condicionado': 5353, 'recarrega': 5354, 'bateria': 5355, 'á': 5356, 'frescura': 5357, 'estragando': 5358, 'evitado': 5359, 'feriado': 5360, 'comércio': 5361, 'saído': 5362, 'soubessem': 5363, 'paralização': 5364, 'pós': 5365, 'termino': 5366, 'insisto': 5367, 'resolvido': 5368, 'cobrando': 5369, 'certinho': 5370, 'continuo': 5371, 'mérito': 5372, 'audácia': 5373, 'reconsiderar': 5374, 'controla': 5375, 'papéis': 5376, 'enxugou': 5377, 'assustado': 5378, 'emergência': 5379, 'cancelado': 5380, 'sabadão': 5381, 'fichas': 5382, 'terei': 5383, 'ido': 5384, 'enxuga': 5385, 'conscientes': 5386, 'reatamos': 5387, 'lógica': 5388, 'chateada': 5389, 'descontado': 5390, 'criada': 5391, 'consente': 5392, 'parecemos': 5393, 'enfeite': 5394, 'estrelinha': 5395, 'casinha': 5396, 'pequenininha': 5397, 'lume': 5398, 'babaca': 5399, 'moças': 5400, 'imatura': 5401, 'chato': 5402, 'encheção': 5403, 'saco': 5404, 'atacar': 5405, 'cumpriu': 5406, 'patroa': 5407, 'conheceram': 5408, 'caídas': 5409, 'apresenta': 5410, 'fase': 5411, 'suportou': 5412, 'barbear': 5413, 'redes': 5414, 'sociais': 5415, 'claramente': 5416, 'maquiar': 5417, 'deitou': 5418, 'tempinho': 5419, 'esfriou': 5420, 'graveto': 5421, 'metros': 5422, 'quadrados': 5423, 'labirinto': 5424, 'viramos': 5425, 'chegamos': 5426, 'percebo': 5427, 'esquentar': 5428, 'bombeiro': 5429, 'negão': 5430, 'sacar': 5431, 'cafofo': 5432, 'arrisco': 5433, 'apresentar': 5434, 'agarrado': 5435, 'empurrando': 5436, 'frequentemente': 5437, 'saidinha': 5438, 'pausinha': 5439, 'rotineira': 5440, 'casaco': 5441, 'foice': 5442, 'trave': 5443, 'afinidade': 5444, 'pôs': 5445, 'combinar': 5446, 'filial': 5447, 'cordeiro': 5448, 'aceitava': 5449, 'traições': 5450, 'recordo': 5451, 'perfumada': 5452, 'verdejando': 5453, 'palpita': 5454, 'demitido': 5455, 'flecha': 5456, 'amador': 5457, 'encomendado': 5458, 'lixão': 5459, 'aquecem': 5460, 'bastam': 5461, 'conformar': 5462, 'prendi': 5463, 'cortei': 5464, 'próprias': 5465, 'sacanagem': 5466, 'malandragem': 5467, 'vish': 5468, 'grata': 5469, 'hit': 5470, 'irritado': 5471, 'coloco': 5472, 'cansativo': 5473, 'aposentar': 5474, 'relembrando': 5475, 'sacrifícios': 5476, 'comprou': 5477, 'geladeira': 5478, 'brilhava': 5479, 'arrancou': 5480, 'isolou': 5481, 'surpreendeu': 5482, 'confiando': 5483, 'durando': 5484, 'testo': 5485, 'testa': 5486, 'assanha': 5487, 'manha': 5488, 'imposto': 5489, 'merda': 5490, 'perambulando': 5491, 'bares': 5492, 'desacreditei': 5493, 'belisquei': 5494, 'exploda': 5495, 'convidados': 5496, 'vasos': 5497, 'teatro': 5498, 'orações': 5499, 'ilumine': 5500, 'compreendeu': 5501, 'contrariar': 5502, 'conhecia': 5503, 'resmungando': 5504, 'bengala': 5505, 'fielmente': 5506, 'achado': 5507, 'impôs': 5508, 'esbarra': 5509, 'guerras': 5510, 'fazê': 5511, 'usada': 5512, 'paralisar': 5513, 'desânimo': 5514, 'após': 5515, 'desgaste': 5516, 'baixe': 5517, 'profetiza': 5518, 'pranto': 5519, 'procuram': 5520, 'detém': 5521, 'boi': 5522, 'palpite': 5523, 'simone': 5524, 'simaria': 5525, 'premiado': 5526, 'aparentemente': 5527, 'traços': 5528, 'quebrei': 5529, 'recuperando': 5530, 'conseguiu': 5531, 'tampou': 5532, 'naufragou': 5533, 'próprios': 5534, 'iludo': 5535, 'guardando': 5536, 'fragmentos': 5537, 'prosseguir': 5538, 'companheiro': 5539, 'atreve': 5540, 'voltam': 5541, 'quantia': 5542, 'goiana': 5543, 'trindade': 5544, 'nascido': 5545, 'goiatuba': 5546, 'criado': 5547, 'pontalina': 5548, 'desengano': 5549, 'itajá': 5550, 'mineiros': 5551, 'caçu': 5552, 'iporá': 5553, 'jataí': 5554, 'doverlândia': 5555, 'caiapônia': 5556, 'saudoso': 5557, 'lopes': 5558, 'helena': 5559, 'quirinópolis': 5560, 'aragarças': 5561, 'britânia': 5562, 'aporé': 5563, 'itarumã': 5564, 'jussara': 5565, 'roteiro': 5566, 'tirano': 5567, 'apagado': 5568, 'print': 5569, '3067': 5570, 'desesperei': 5571, 'comandante': 5572, 'poltrona': 5573, 'órbita': 5574, 'tranco': 5575, 'torta': 5576, 'desaprendi': 5577, 'sensacional': 5578, 'desconfiava': 5579, 'derramou': 5580, 'prestava': 5581, 'escondia': 5582, 'agride': 5583, 'macho': 5584, 'controlando': 5585, 'cansar': 5586, 'baixa': 5587, 'reclamar': 5588, 'ana': 5589, 'móveis': 5590, 'usados': 5591, 'vendido': 5592, 'bazar': 5593, 'doar': 5594, 'apê': 5595, 'dividimos': 5596, 'reinvento': 5597, 'recrio': 5598, 'conceitos': 5599, 'amaria': 5600, 'enxergue': 5601, 'piscar': 5602, 'travesseiros': 5603, '180°': 5604, 'barcos': 5605, 'estratégia': 5606, 'deixaram': 5607, 'dificultando': 5608, 'meios': 5609, 'fantasiando': 5610, 'fingiria': 5611, 'desconcerto': 5612, 'tonta': 5613, 'lutei': 5614, 'evitei': 5615, 'adolescência': 5616, 'borrada': 5617, 'bagunçou': 5618, 'idioma': 5619, 'faculdade': 5620, 'virava': 5621, 'adiante': 5622, 'podendo': 5623, 'obrigação': 5624, 'suporta': 5625, 'inteligente': 5626, 'necessário': 5627, 'enterrado': 5628, 'atrapalha': 5629, 'produzir': 5630, 'vestir': 5631, \"'tá\": 5632, 'moletom': 5633, 'internet': 5634, 'corroendo': 5635, 'propôs': 5636, 'atrapalhado': 5637, \"docin'\": 5638, 'amarrada': 5639, 'enigma': 5640, 'confunde': 5641, 'garantir': 5642, 'reter': 5643, 'paraísos': 5644, 'descaminhos': 5645, 'precipícios': 5646, 'transmissão': 5647, 'vaze': 5648, 'represa': 5649, 'julgar': 5650, 'gela': 5651, 'levantei': 5652, 'mantém': 5653, 'voadora': 5654, 'tadin': 5655, 'lona': 5656, 'rancou': 5657, 'interessam': 5658, 'soprar': 5659, 'apertando': 5660, 'cultivar': 5661, 'somar': 5662, 'discretamente': 5663, 'pintou': 5664, 'repetido': 5665, 'devoro': 5666, 'trajetória': 5667, 'tatuou': 5668, 'insônia': 5669, 'valia': 5670, 'pianinho': 5671, 'anitta': 5672, 'lasco': 5673, 'caipirinha': 5674, 'campari': 5675, 'ipioca': 5676, 'caninha': 5677, 'suquinho': 5678, 'leitinho': 5679, 'aguinha': 5680, 'refrescante': 5681, 'skol': 5682, 'antártica': 5683, 'brahma': 5684, 'mió': 5685, 'pingão': 5686, 'chopinho': 5687, 'visitantes': 5688, 'sobrevivi': 5689, 'coleciona': 5690, 'tentativas': 5691, 'personalidade': 5692, 'terminamos': 5693, 'tração': 5694, 'fere': 5695, 'certeiro': 5696, 'bagaça': 5697, 'demonstra': 5698, 'frieza': 5699, 'congelar': 5700, 'partindo': 5701, 'convive': 5702, 'apega': 5703, 'tranquei': 5704, 'justifica': 5705, 'desconheço': 5706, 'desonrei': 5707, 'desmente': 5708, 'dirigiu': 5709, 'fone': 5710, 'aponte': 5711, 'julgue': 5712, 'duvida': 5713, 'dedicou': 5714, 'nojo': 5715, 'mini': 5716, 'terço': 5717, 'abraçava': 5718, 'apedrejava': 5719, 'dirá': 5720, 'troço': 5721, 'chapada': 5722, 'soltinha': 5723, 'precentimento': 5724, 'sextos': 5725, 'cinzento': 5726, 'imã': 5727, 'jaula': 5728, 'livra': 5729, 'pressentimentos': 5730, 'voltaremos': 5731, 'preparados': 5732, 'festinha': 5733, 'palmas': 5734, 'irei': 5735, 'gostaria': 5736, 'casalzinho': 5737, 'piadas': 5738, 'dedicando': 5739, 'retirando': 5740, 'incomodar': 5741, 'assisto': 5742, 'acabada': 5743, 'apostou': 5744, 'arrisquei': 5745, 'aproveita': 5746, 'aproveite': 5747, 'imaturo': 5748, 'tentava': 5749, 'contato': 5750, 'pesou': 5751, 'balança': 5752, 'estraguei': 5753, 'ciclo': 5754, '24': 5755, 'desmaio': 5756, 'suar': 5757, 'plástico': 5758, 'presentear': 5759, 'escolhas': 5760, 'saturno': 5761, 'furou': 5762, 'mete': 5763, 'saida': 5764, 'selva': 5765, 'salvando': 5766, 'angústia': 5767, 'leste': 5768, 'colocasse': 5769, 'enciumada': 5770, 'jasmim': 5771, 'agradava': 5772, 'compromissos': 5773, 'apegar': 5774, 'visto': 5775, 'curiosa': 5776, 'enciumado': 5777, 'iluminaria': 5778, 'estádio': 5779, 'queixo': 5780, 'arriscando': 5781, 'aventurei': 5782, 'pulsação': 5783, 'insistiu': 5784, 'convidei': 5785, 'grilada': 5786, 'acolher': 5787, 'consagrou': 5788, 'sermos': 5789, 'parecer': 5790, 'abençoe': 5791, 'mostre': 5792, 'preferi': 5793, 'levado': 5794, 'modernos': 5795, 'amadureci': 5796, 'comparando': 5797, 'oposições': 5798, 'sétima': 5799, 'plantado': 5800, 'semeado': 5801, 'oportunidade': 5802, 'passagem': 5803, 'feijão': 5804, 'mó': 5805, 'envergonhado': 5806, 'sotaques': 5807, 'voltinhas': 5808, 'suspira': 5809, 'esclarece': 5810, 'moras': 5811, 'éramos': 5812, 'meigo': 5813, 'ajudinha': 5814, 'expressei': 5815, 'loiro': 5816, 'cacheados': 5817, 'metro': 5818, 'sessenta': 5819, 'rasga': 5820, 'corrói': 5821, 'trai': 5822, 'prum': 5823, 'romantismo': 5824, 'careta': 5825, 'antiquado': 5826, 'nao': 5827, 'soubesses': 5828, 'encantadora': 5829, 'destreza': 5830, 'sentou': 5831, 'trono': 5832, 'rainha': 5833, 'gemendo': 5834, 'travessia': 5835, 'bilhetinho': 5836, 'emocionado': 5837, 'alimentar': 5838, 'entregarei': 5839, 'descrição': 5840, 'charmosa': 5841, 'roubado': 5842, 'absolvição': 5843, 'vividos': 5844, 'revividos': 5845, 'repetidos': 5846, 'sentidas': 5847, 'choradas': 5848, 'deixadas': 5849, 'fingimos': 5850, 'deitamos': 5851, 'ditas': 5852, 'desgastadas': 5853, 'dissemos': 5854, 'orgulhoso': 5855, 'ajoelhei': 5856, 'atormentar': 5857, 'desenho': 5858, 'alisava': 5859, 'incertezas': 5860, 'miro': 5861, 'respiración': 5862, 'cuando': 5863, 'sube': 5864, 'silencio': 5865, 'mirada': 5866, 'dice': 5867, 'palabras': 5868, 'suplico': 5869, 'salga': 5870, 'llevas': 5871, 'otra': 5872, 'dimensión': 5873, 'dimensão': 5874, 'tus': 5875, 'latidos': 5876, 'aceleran': 5877, 'ironia': 5878, 'abrazarte': 5879, 'olor': 5880, 'va': 5881, 'dolor': 5882, 'notou': 5883, 'balançou': 5884, 'disfarces': 5885, 'viajem': 5886, 'conheçam': 5887, 'causar': 5888, 'agonizando': 5889, 'clarão': 5890, 'aurora': 5891, 'integrantes': 5892, 'dama': 5893, 'fecharam': 5894, 'vagamente': 5895, 'arco': 5896, 'íris': 5897, 'parque': 5898, 'garupa': 5899, 'claridade': 5900, 'brotando': 5901, 'estrelar': 5902, 'flamboyant': 5903, 'girassóis': 5904, 'paia': 5905, 'grego': 5906, 'colher': 5907, 'contagiava': 5908, 'musica': 5909, 'bronzeada': 5910, 'sorrisão': 5911, '9': 5912, 'valorizar': 5913, 'judiei': 5914, 'cuidados': 5915, 'judiou': 5916, 'chegue': 5917, 'assinar': 5918, 'aposento': 5919, 'aqueço': 5920, 'perturbador': 5921, 'reclamação': 5922, 'multa': 5923, 'cavalgar': 5924, 'açoite': 5925, 'atrevida': 5926, 'galope': 5927, 'sufoque': 5928, 'cavalgada': 5929, 'domino': 5930, 'chegam': 5931, 'cavalga': 5932, 'ousado': 5933, 'desapega': 5934, 'segurando': 5935, 'chegava': 5936, 'insistem': 5937, 'topar': 5938, 'out': 5939, 'costela': 5940, 'adão': 5941, 'mignon': 5942, 'chocolate': 5943, 'gruda': 5944, 'doçura': 5945, 'valsa': 5946, 'prestígio': 5947, 'preciosa': 5948, 'talento': 5949, 'térmico': 5950, 'varia': 5951, 'morno': 5952, 'congela': 5953, 'europa': 5954, 'composição': 5955, 'elvis': 5956, 'pires': 5957, 'rodrigo': 5958, 'mell': 5959, 'richardson': 5960, 'maia': 5961, 'pirei': 5962, 'ventania': 5963, 'chovia': 5964, 'sutil': 5965, 'fugaz': 5966, 'fugitiva': 5967, 'relaxou': 5968, 'nervos': 5969, 'alado': 5970, 'minar': 5971, 'transpirar': 5972, 'poros': 5973, 'relâmpago': 5974, 'viril': 5975, 'rajada': 5976, 'turbulentos': 5977, 'seduziu': 5978, 'cigana': 5979, 'voltas': 5980, 'exotéricas': 5981, 'malucas': 5982, 'coladinha': 5983, 'embaraços': 5984, 'conduta': 5985, 'aprumar': 5986, 'bruta': 5987, 'reabilitar': 5988, 'fagueiro': 5989, 'trapaceiro': 5990, 'sopa': 5991, 'sapo': 5992, 'escapo': 5993, 'urubu': 5994, 'coberto': 5995, 'outrora': 5996, 'adamastor': 5997, 'portugal': 5998, 'estopa': 5999, 'olhava': 6000, 'encarava': 6001, 'devasso': 6002, 'magoar': 6003, 'recordes': 6004, 'barreiras': 6005, 'ultrapassar': 6006, 'resolvo': 6007, 'acionar': 6008, 'fura': 6009, 'desenrolar': 6010, 'sumiço': 6011, 'acionei': 6012, 'peroba': 6013, 'ixe': 6014, 'apostaria': 6015, 'conquistei': 6016, 'ira': 6017, 'contratempos': 6018, 'joguemos': 6019, 'concordo': 6020, 'desabrochar': 6021, 'desejada': 6022, 'cobiçada': 6023, 'troféus': 6024, 'guardião': 6025, 'carregava': 6026, 'convite': 6027, 'letras': 6028, 'douradas': 6029, 'rabiscado': 6030, 'fel': 6031, 'minado': 6032, 'trégua': 6033, 'reclame': 6034, 'conhecerás': 6035, 'preencha': 6036, 'flechar': 6037, 'abaixo': 6038, 'relaxo': 6039, 'comeu': 6040, 'satisfaça': 6041, 'ego': 6042, '82': 6043, 'exijo': 6044, 'incomodado': 6045, 'delírio': 6046, 'precise': 6047, 'colírio': 6048, 'impulso': 6049, 'pifou': 6050, 'mail': 6051, 'trânsito': 6052, 'furaram': 6053, 'pneu': 6054, 'roubaram': 6055, 'furado': 6056, 'disfarce': 6057, 'demorasse': 6058, 'discutido': 6059, 'embaraço': 6060, 'determinar': 6061, 'loucamente': 6062, 'namoradinha': 6063, 'disfarcei': 6064, 'gamado': 6065, 'souberem': 6066, 'donzela': 6067, 'cinderela': 6068, 'apela': 6069, 'porres': 6070, 'selecionar': 6071, 'deságua': 6072, 'varreu': 6073, 'parando': 6074, 'cerva': 6075, 'sopinha': 6076, 'canequinha': 6077, 'churrasco': 6078, 'descansar': 6079, 'efeitos': 6080, 'dominam': 6081, 'distanciam': 6082, 'cravada': 6083, 'devolvendo': 6084, 'efeito': 6085, 'diminua': 6086, 'antídoto': 6087, 'causam': 6088, 'tarado': 6089, 'opa': 6090, 'assanhado': 6091, 'rafa': 6092, 'cristã': 6093, 'enfermo': 6094, 'delicioso': 6095, 'serem': 6096, 'feitas': 6097, 'escolhia': 6098, 'vilão': 6099, 'acabava': 6100, 'lanche': 6101, 'ingenuidade': 6102, 'universos': 6103, 'proteção': 6104, 'joelho': 6105, 'ralado': 6106, 'erramos': 6107, 'ducha': 6108, 'desmonta': 6109, 'deixado': 6110, 'aflito': 6111, 'pulmões': 6112, 'presidiário': 6113, 'desviar': 6114, 'soltei': 6115, 'cancún': 6116, 'destroí': 6117, 'curativo': 6118, 'esqueceria': 6119, 'humor': 6120, 'respeitei': 6121, 'aguentou': 6122, 'omitir': 6123, 'filtro': 6124, 'transei': 6125, 'desumano': 6126, 'trate': 6127, 'enrola': 6128, 'gaguejando': 6129, 'esconda': 6130, 'romântico': 6131, 'imagino': 6132, 'nua': 6133, 'hollywood': 6134, 'sossego': 6135, 'everest': 6136, '120': 6137, 'lanço': 6138, 'décimo': 6139, 'quinto': 6140, 'aprendo': 6141, 'atreva': 6142, 'insistindo': 6143, 'correrás': 6144, 'abraçará': 6145, 'deitava': 6146, 'dormidas': 6147, 'anoitece': 6148, 'unilateral': 6149, 'agonia': 6150, 'compensou': 6151, 'gera': 6152, 'consequência': 6153, 'lição': 6154, 'tristes': 6155, 'acorrentado': 6156, 'esperado': 6157, 'riacho': 6158, 'barriga': 6159, 'ensinou': 6160, 'atravessa': 6161, 'fronte': 6162, 'artista': 6163, 'entanto': 6164, 'homens': 6165, 'brigando': 6166, 'encoberta': 6167, 'sinceridade': 6168, 'ouviram': 6169, 'ipiranga': 6170, 'margens': 6171, 'plácidas': 6172, 'heroico': 6173, 'brado': 6174, 'retumbante': 6175, 'fúlgidos': 6176, 'penhor': 6177, 'conseguimos': 6178, 'desafia': 6179, 'vívido': 6180, 'formoso': 6181, 'risonho': 6182, 'resplandece': 6183, 'impávido': 6184, 'colosso': 6185, 'espelha': 6186, 'adorada': 6187, 'gentil': 6188, 'berço': 6189, 'esplêndido': 6190, 'fulguras': 6191, 'florão': 6192, 'américa': 6193, 'iluminado': 6194, 'garrida': 6195, 'risonhos': 6196, 'campos': 6197, 'bosques': 6198, 'símbolo': 6199, 'lábaro': 6200, 'ostentas': 6201, 'flâmula': 6202, 'ergues': 6203, 'clava': 6204, 'teme': 6205, 'bolo': 6206, 'papa': 6207, 'sedução': 6208, 'causas': 6209, 'eeu': 6210, 'transo': 6211, 'miojo': 6212, 'bingo': 6213, 'restaurante': 6214, 'granfino': 6215, 'ventilador': 6216, 'esquecesse': 6217, 'bote': 6218, 'cole': 6219, 'metades': 6220, 'duro': 6221, 'salário': 6222, 'ahh': 6223, 'despejado': 6224, 'cumplicidade': 6225, 'besteirinhas': 6226, 'tirado': 6227, 'santinho': 6228, 'coitada': 6229, 'broto': 6230, 'rapazes': 6231, 'vivem': 6232, 'rodear': 6233, 'alucinado': 6234, 'santificar': 6235, 'trarei': 6236, 'preces': 6237, 'maycon': 6238, 'renato': 6239, 'aproximar': 6240, 'reprisa': 6241, 'sopro': 6242, 'guardados': 6243, 'inseguro': 6244, 'estará': 6245, 'durante': 6246, 'caçador': 6247, 'habilidade': 6248, 'auge': 6249, 'todinha': 6250, 'onze': 6251, 'classe': 6252, 'social': 6253, 'playlist': 6254, 'irritar': 6255, 'perfeitamente': 6256, 'sentados': 6257, 'sairia': 6258, 'deparo': 6259, 'puderam': 6260, 'tomamos': 6261, 'proveito': 6262, 'investimento': 6263, 'exagerar': 6264, 'identidade': 6265, 'preguntes': 6266, 'porqué': 6267, 'sé': 6268, 'sentí': 6269, 'así': 6270, 'enamorada': 6271, 'profissional': 6272, 'concuerdo': 6273, 'creo': 6274, 'eso': 6275, 'manera': 6276, 'sonrisa': 6277, 'apariencia': 6278, 'niño': 6279, 'agrada': 6280, 'avergonzada': 6281, 'al': 6282, 'disculparte': 6283, 'voy': 6284, 'confesar': 6285, 'deseo': 6286, 'llames': 6287, 'asusta': 6288, 'charme': 6289, 'constrangida': 6290, 'ânsia': 6291, 'assusta': 6292, 'extrapolou': 6293, 'prático': 6294, 'agente': 6295, 'coelho': 6296, 'roar': 6297, 'trouxer': 6298, 'extra': 6299, 'dormia': 6300, 'rachava': 6301, 'perguntarem': 6302, 'hesitar': 6303, 'boato': 6304, 'traio': 6305, 'confissão': 6306, 'descrevi': 6307, 'pirado': 6308, 'largando': 6309, 'exclusivo': 6310, 'descartar': 6311, 'decidida': 6312, 'tema': 6313, 'caprichado': 6314, 'pegado': 6315, 'cafeína': 6316, 'zerar': 6317, 'soltar': 6318, 'torcer': 6319, 'emocionar': 6320, 'hino': 6321, 'chuteira': 6322, 'garra': 6323, 'nação': 6324, 'badalado': 6325, 'desconhecido': 6326, 'incêndio': 6327, 'testemunha': 6328, 'ruína': 6329, 'vingança': 6330, 'isqueiro': 6331, 'arrego': 6332, 'aprenda': 6333, 'enganava': 6334, 'bilhões': 6335, 'tampa': 6336, 'panela': 6337, 'chinela': 6338, '14': 6339, 'facilita': 6340, 'calei': 6341, 'culminaram': 6342, 'fechei': 6343, 'tivemos': 6344, 'enrascada': 6345, 'folia': 6346, 'gurias': 6347, 'bão': 6348, 'enfeita': 6349, 'aquarela': 6350, 'laranja': 6351, 'dezembro': 6352, 'bonitos': 6353, 'humanas': 6354, 'entes': 6355, 'queridos': 6356, 'pernambucanas': 6357, 'lares': 6358, 'reunida': 6359, 'musical': 6360, 'planejou': 6361, 'procê': 6362, 'sossegar': 6363, 'modificar': 6364, 'encarregar': 6365, 'ciência': 6366, 'sabedoria': 6367, 'revelou': 6368, 'crente': 6369, 'ateu': 6370, 'pobrezinho': 6371, 'lapa': 6372, 'pastores': 6373, 'céus': 6374, 'chegada': 6375, 'deliciosa': 6376, 'parava': 6377, 'admiro': 6378, 'suspiro': 6379, 'interminável': 6380, 'coloriu': 6381, '30': 6382, 'aprendido': 6383, 'sentaremos': 6384, 'pisado': 6385, 'viaja': 6386, 'virão': 6387, 'conseguirão': 6388, 'renascerá': 6389, 'mulato': 6390, 'destemido': 6391, 'cabo': 6392, 'enxada': 6393, 'campeava': 6394, 'venda': 6395, 'tocava': 6396, 'zombava': 6397, 'moreno': 6398, 'resistia': 6399, 'avermelhou': 6400, 'instrumento': 6401, 'vossa': 6402, 'ódio': 6403, 'ofensas': 6404, 'discórdia': 6405, 'união': 6406, 'trevas': 6407, 'consolado': 6408, 'compreendido': 6409, 'recebe': 6410, 'perdoado': 6411, 'levasse': 6412, 'construí': 6413, 'palácios': 6414, 'castelos': 6415, 'reli': 6416, 'manual': 6417, 'desenhei': 6418, 'conheceu': 6419, 'adorava': 6420, 'festinhas': 6421, 'escurinho': 6422, 'aprendendo': 6423, 'intimidades': 6424, 'lã': 6425, 'sairmos': 6426, 'renasce': 6427, 'estações': 6428, 'inesperado': 6429, 'bamba': 6430, 'voltaria': 6431, 'lançou': 6432, 'luas': 6433, 'passaram': 6434, 'companheiros': 6435, 'llevaba': 6436, 'mismo': 6437, 'él': 6438, 'volviera': 6439, 'fuera': 6440, 'equivocar': 6441, 'cangrejos': 6442, 'mordían': 6443, 'ropaje': 6444, 'ilusión': 6445, 'escurrió': 6446, 'sus': 6447, 'ojos': 6448, 'llenaron': 6449, 'amaneceres': 6450, 'enamoró': 6451, 'cuerpo': 6452, 'enraizó': 6453, 'cabello': 6454, 'blanqueó': 6455, 'pero': 6456, 'ningún': 6457, 'devolvía': 6458, 'pueblo': 6459, 'cruzou': 6460, 'olvido': 6461, 'espíritu': 6462, 'fin': 6463, 'cumpri': 6464, 'aguardam': 6465, 'exato': 6466, 'chegasse': 6467, 'compositor': 6468, 'estupidez': 6469, 'afagos': 6470, 'rodinhas': 6471, 'banca': 6472, 'topasse': 6473, 'levaria': 6474, 'janta': 6475, '1001': 6476, 'decifrar': 6477, 'próximo': 6478, 'encantada': 6479, 'coladas': 6480, 'iluminam': 6481, 'maço': 6482, 'derby': 6483, 'amassado': 6484, 'disfarçada': 6485, 'antônio': 6486, 'breu': 6487, 'cauda': 6488, 'rezando': 6489, 'crises': 6490, 'concordar': 6491, 'caía': 6492, 'invadia': 6493, 'identifica': 6494, 'procedência': 6495, 'província': 6496, 'padroeiro': 6497, 'parreirais': 6498, 'bondade': 6499, 'espora': 6500, 'mango': 6501, 'maragato': 6502, 'chimango': 6503, 'misturar': 6504, 'combustão': 6505, 'musa': 6506, 'chove': 6507, 'pancadas': 6508, 'renova': 6509, 'incomum': 6510, 'jade': 6511, 'descia': 6512, 'escorregadio': 6513, 'cortando': 6514, 'celeste': 6515, 'começava': 6516, 'abril': 6517, 'pastoreando': 6518, 'aquelas': 6519, 'levantava': 6520, 'durval': 6521, 'preparada': 6522, 'desembrulhar': 6523, 'sofresse': 6524, 'soa': 6525, 'agradeço': 6526, 'lalaiá': 6527, 'manca': 6528, 'estresse': 6529, 'aborrece': 6530, 'bicão': 6531, 'compadre': 6532, 'acendo': 6533, 'pagode': 6534, 'atrasar': 6535, 'aturo': 6536, 'ja': 6537, 'cometo': 6538, 'gasto': 6539, 'suficiente': 6540, 'ficarmos': 6541, 'precisaria': 6542, 'encaixe': 6543, 'estampada': 6544, 'cessar': 6545, 'larguei': 6546, 'elogiar': 6547, 'escutei': 6548, 'obcecado': 6549, 'tocado': 6550, 'pertencia': 6551, 'mostraram': 6552, 'guiam': 6553, 'ajudaram': 6554, 'fresca': 6555, 'moldura': 6556, 'debruçada': 6557, 'escancarada': 6558, 'denunciando': 6559, 'minutinho': 6560, '00h': 6561, 'prestam': 6562, 'protesto': 6563, 'começamos': 6564, '00': 6565, 'brancas': 6566, 'encontrassem': 6567, 'elo': 6568, 'encontrava': 6569, 'fossem': 6570, 'flagra': 6571, 'envolvido': 6572, 'criminoso': 6573, 'brigados': 6574, 'enrolar': 6575, 'paquerar': 6576, 'arrastando': 6577, 'grilado': 6578, 'arsenal': 6579, 'derrapa': 6580, 'despede': 6581, 'censurado': 6582, 'trupé': 6583, 'caprichou': 6584, 'seduzindo': 6585, 'iludi': 6586, 'procurava': 6587, 'preferido': 6588, 'apavorado': 6589, 'retrovisor': 6590, 'note': 6591, 'navegando': 6592, 'correntes': 6593, 'reviveu': 6594, 'judia': 6595, 'súplicas': 6596, 'surreal': 6597, 'namoradinho': 6598, 'perfeitinho': 6599, 'fecharem': 6600, 'acharemos': 6601, 'fará': 6602, 'espada': 6603, 'escudo': 6604, 'filmes': 6605, 'próxima': 6606, 'persegue': 6607, 'febre': 6608, '40': 6609, 'graus': 6610, 'escrevo': 6611, 'acompanhado': 6612, 'cantada': 6613, 'conheça': 6614, 'casem': 6615, 'meses': 6616, 'suporte': 6617, 'gagá': 6618, 'noventa': 6619, 'viúva': 6620, 'maquiando': 6621, 'japonesa': 6622, 'paulistana': 6623, 'esquimó': 6624, 'óculos': 6625, 'rostinho': 6626, 'afogado': 6627, 'risque': 6628, 'fossa': 6629, 'discar': 6630, 'conexão': 6631, 'telepatia': 6632, 'cruza': 6633, 'faltam': 6634, 'carimbado': 6635, 'senhora': 6636, 'adotou': 6637, 'crianças': 6638, 'pará': 6639, 'gestante': 6640, 'trajeto': 6641, 'longo': 6642, 'turista': 6643, 'cansamos': 6644, 'má': 6645, 'professores': 6646, 'apuros': 6647, 'médicos': 6648, 'jogador': 6649, 'exemplos': 6650, 'politico': 6651, 'acordos': 6652, 'motorista': 6653, 'idoso': 6654, 'limpa': 6655, 'sujeira': 6656, 'aluno': 6657, 'estavam': 6658, 'caladas': 6659, 'derrubam': 6660, 'deixam': 6661, 'atinge': 6662, 'recomeça': 6663, 'galáxias': 6664, 'lutando': 6665, 'anima': 6666, 'marque': 6667, '“bem': 6668, 'implacável': 6669, '”': 6670, 'desafio': 6671, 'conduzia': 6672, 'mostrava': 6673, 'chover': 6674, 'melhores': 6675, 'fãs': 6676, 'impeçam': 6677, 'voe': 6678, 'boné': 6679, 'camiseta': 6680, 'voltinha': 6681, 'buzsão': 6682, 'investiga': 6683, 'friamente': 6684, 'decente': 6685, 'boiada': 6686, 'historia': 6687, 'dimensionais': 6688, 'memórias': 6689, 'quadro': 6690, 'inesperadamente': 6691, 'auto': 6692, 'estima': 6693, 'grudar': 6694, 'recebia': 6695, 'questões': 6696, 'analisadas': 6697, 'corretos': 6698, 'fração': 6699, 'abandonar': 6700, 'avelã': 6701, 'querubim': 6702, 'travei': 6703, 'gaguejar': 6704, 'vinda': 6705, 'embala': 6706, 'neon': 6707, 'desperta': 6708, 'excitação': 6709, 'anoiteceu': 6710, 'tranqüilo': 6711, 'sido': 6712, 'contemplar': 6713, 'grandioso': 6714, 'cristo': 6715, 'tranca': 6716, 'chope': 6717, 'desmarcado': 6718, 'comete': 6719, 'retrato': 6720, 'hipnotiza': 6721, 'correspondido': 6722, 'treme': 6723, 'permanece': 6724, 'provo': 6725, 'baunilha': 6726, 'quebrasse': 6727, 'emaranhar': 6728, 'seremos': 6729, 'importo': 6730, 'definitivamente': 6731, 'carregar': 6732, 'naiá': 6733, 'naié': 6734, 'violeiros': 6735, 'serena': 6736, 'suuuuua': 6737, 'humilde': 6738, 'progride': 6739, 'apreciada': 6740, 'juventude': 6741, 'folclore': 6742, 'soluço': 6743, 'caboclo': 6744, 'ponteado': 6745, 'proponho': 6746, 'corra': 6747, 'kekel': 6748, 'conflitos': 6749, 'fragilidade': 6750, 'dualidade': 6751, 'profundos': 6752, 'banda': 6753, 'star': 6754, 'cautela': 6755, 'dominou': 6756, 'entorpeceu': 6757, 'magnífica': 6758, 'engrandece': 6759}\n",
            "total tokens: 6760\n"
          ],
          "name": "stdout"
        }
      ]
    },
    {
      "cell_type": "code",
      "metadata": {
        "id": "1YZBgbfZ6cqf"
      },
      "source": [
        ""
      ],
      "execution_count": 19,
      "outputs": []
    },
    {
      "cell_type": "code",
      "metadata": {
        "id": "soPGVheskaQP",
        "colab": {
          "base_uri": "https://localhost:8080/"
        },
        "outputId": "7e7fa1a6-799a-44c3-9a4a-e86b287f3045"
      },
      "source": [
        "import tensorflow as tf\n",
        "from tensorflow.keras.preprocessing.sequence import pad_sequences\n",
        "import numpy as np \n",
        "#criando as sequencias e seus respectivos labels\n",
        "input_sequences = []\n",
        "for line in corpus:\n",
        "\ttoken_list = tokenizer.texts_to_sequences([line])[0]\n",
        "\tfor i in range(1, len(token_list)):\n",
        "\t\tn_gram_sequence = token_list[:i+1]\n",
        "\t\tinput_sequences.append(n_gram_sequence)\n",
        "\n",
        "# pad sequences \n",
        "max_sequence_len = max([len(x) for x in input_sequences])\n",
        "print('tamanho máximo de sequencia: ' , max_sequence_len)\n",
        "input_sequences = np.array(pad_sequences(input_sequences, maxlen=max_sequence_len, padding='pre'))\n",
        "\n",
        "# create predictors and label\n",
        "xs, labels = input_sequences[:,:-1],input_sequences[:,-1]\n",
        "\n",
        "ys = tf.keras.utils.to_categorical(labels, num_classes=total_words)\n",
        "print (xs[55], ys[55])\n",
        "print (len(xs))"
      ],
      "execution_count": 20,
      "outputs": [
        {
          "output_type": "stream",
          "text": [
            "tamanho máximo de sequencia:  152\n",
            "[   0    0    0    0    0    0    0    0    0    0    0    0    0    0\n",
            "    0    0    0    0    0    0    0    0    0    0    0    0    0    0\n",
            "    0    0    0    0    0    0    0    0    0    0    0    0    0    0\n",
            "    0    0    0    0    0    0    0    0    0    0    0    0    0    0\n",
            "    0    0    0    0    0    0    0    0    0    0    0    0    0    0\n",
            "    0    0    0    0    0    0    0    0    0    0    0    0    0    0\n",
            "    0    0    0    0    0    0    0    0    0    0    0    0    0    0\n",
            "    0    0    0    0    0    0    0    0    0    0    0    0    0    0\n",
            "    0    0    0    0    0    0  213    1  115    6  112   66  689    8\n",
            "   20  164   23  391    1  152    2  488    2 4131   62    5   15 1141\n",
            "  283    1  228  112   93   12  116   37   11   81   35] [0. 0. 0. ... 0. 0. 0.]\n",
            "125751\n"
          ],
          "name": "stdout"
        }
      ]
    },
    {
      "cell_type": "code",
      "metadata": {
        "colab": {
          "base_uri": "https://localhost:8080/"
        },
        "id": "CLOHa7Aq7Ybl",
        "outputId": "62d07edd-fdfd-4e90-cb4f-b1a58c3d2d86"
      },
      "source": [
        "ys"
      ],
      "execution_count": 21,
      "outputs": [
        {
          "output_type": "execute_result",
          "data": {
            "text/plain": [
              "array([[0., 1., 0., ..., 0., 0., 0.],\n",
              "       [0., 0., 0., ..., 0., 0., 0.],\n",
              "       [0., 0., 0., ..., 0., 0., 0.],\n",
              "       ...,\n",
              "       [0., 0., 0., ..., 0., 0., 0.],\n",
              "       [0., 0., 0., ..., 0., 0., 0.],\n",
              "       [0., 0., 0., ..., 0., 0., 0.]], dtype=float32)"
            ]
          },
          "metadata": {
            "tags": []
          },
          "execution_count": 21
        }
      ]
    },
    {
      "cell_type": "code",
      "metadata": {
        "colab": {
          "base_uri": "https://localhost:8080/"
        },
        "id": "xVqIwK3aKQiq",
        "outputId": "85298e11-4491-4f00-bd2e-a48c1f1d6f44"
      },
      "source": [
        "xs.shape"
      ],
      "execution_count": 22,
      "outputs": [
        {
          "output_type": "execute_result",
          "data": {
            "text/plain": [
              "(125751, 151)"
            ]
          },
          "metadata": {
            "tags": []
          },
          "execution_count": 22
        }
      ]
    },
    {
      "cell_type": "code",
      "metadata": {
        "colab": {
          "base_uri": "https://localhost:8080/"
        },
        "id": "yAXbqBjSL53u",
        "outputId": "961f7ec4-1d6a-46c7-d8d6-9355868527b5"
      },
      "source": [
        "ys.shape"
      ],
      "execution_count": 23,
      "outputs": [
        {
          "output_type": "execute_result",
          "data": {
            "text/plain": [
              "(125751, 6760)"
            ]
          },
          "metadata": {
            "tags": []
          },
          "execution_count": 23
        }
      ]
    },
    {
      "cell_type": "code",
      "metadata": {
        "colab": {
          "base_uri": "https://localhost:8080/"
        },
        "id": "-FLoeNFyOHNB",
        "outputId": "482d440b-6b49-4a09-c6b1-5f1e38a5ec44"
      },
      "source": [
        "total_words"
      ],
      "execution_count": 24,
      "outputs": [
        {
          "output_type": "execute_result",
          "data": {
            "text/plain": [
              "6760"
            ]
          },
          "metadata": {
            "tags": []
          },
          "execution_count": 24
        }
      ]
    },
    {
      "cell_type": "code",
      "metadata": {
        "id": "w9vH8Y59ajYL",
        "colab": {
          "base_uri": "https://localhost:8080/",
          "height": 86
        },
        "outputId": "d167153c-3fca-420f-9da5-6882d9c9ad4a"
      },
      "source": [
        "#Criando o modelo\n",
        "\"\"\"from tensorflow.keras.layers import Embedding, LSTM, Dense, Bidirectional\n",
        "from tensorflow.keras.models import Sequential\n",
        "from tensorflow.keras.optimizers import Adam\n",
        "#definindo parâmetros de treinamento\n",
        "EMBEDDING_SIZE = 300\n",
        "LSTM_UNITS = 256\n",
        "LEARNING_RATE = 0.01\n",
        "#construíndo modelo \n",
        "\n",
        "model = Sequential()\n",
        "model.add(Embedding(total_words, EMBEDDING_SIZE, input_length=max_sequence_len-1))\n",
        "model.add(Bidirectional(LSTM(LSTM_UNITS)))\n",
        "model.add(Dense(total_words, activation='softmax'))\n",
        "\n",
        "adam = Adam(lr=LEARNING_RATE)\n",
        "\n",
        "model.compile(loss='categorical_crossentropy', optimizer=adam, metrics=['accuracy'])\n",
        "print(model.summary())\"\"\""
      ],
      "execution_count": 25,
      "outputs": [
        {
          "output_type": "execute_result",
          "data": {
            "application/vnd.google.colaboratory.intrinsic+json": {
              "type": "string"
            },
            "text/plain": [
              "\"from tensorflow.keras.layers import Embedding, LSTM, Dense, Bidirectional\\nfrom tensorflow.keras.models import Sequential\\nfrom tensorflow.keras.optimizers import Adam\\n#definindo parâmetros de treinamento\\nEMBEDDING_SIZE = 300\\nLSTM_UNITS = 256\\nLEARNING_RATE = 0.01\\n#construíndo modelo \\n\\nmodel = Sequential()\\nmodel.add(Embedding(total_words, EMBEDDING_SIZE, input_length=max_sequence_len-1))\\nmodel.add(Bidirectional(LSTM(LSTM_UNITS)))\\nmodel.add(Dense(total_words, activation='softmax'))\\n\\nadam = Adam(lr=LEARNING_RATE)\\n\\nmodel.compile(loss='categorical_crossentropy', optimizer=adam, metrics=['accuracy'])\\nprint(model.summary())\""
            ]
          },
          "metadata": {
            "tags": []
          },
          "execution_count": 25
        }
      ]
    },
    {
      "cell_type": "code",
      "metadata": {
        "colab": {
          "base_uri": "https://localhost:8080/"
        },
        "id": "2tKhVBO0PLP3",
        "outputId": "e018aa88-dcde-487f-c85e-1dc4d6b90783"
      },
      "source": [
        "#Criando o modelo\n",
        "from tensorflow.keras.layers import Embedding, LSTM, Dense, Bidirectional, BatchNormalization, GlobalMaxPooling1D\n",
        "from tensorflow.keras.models import Sequential\n",
        "from tensorflow.keras.optimizers import Adam\n",
        "\n",
        "#definindo parâmetros de treinamento\n",
        "EMBEDDING_SIZE = 300\n",
        "LSTM_UNITS = 128\n",
        "LEARNING_RATE = 0.01\n",
        "\n",
        "\n",
        "model = Sequential()\n",
        "model.add(Embedding(total_words, EMBEDDING_SIZE, input_length=max_sequence_len-1, mask_zero=True))\n",
        "\n",
        "model.add(BatchNormalization())\n",
        "model.add(Bidirectional(LSTM(LSTM_UNITS, return_sequences=True)))\n",
        "model.add(SeqSelfAttention(attention_width=25,  attention_type=SeqSelfAttention.ATTENTION_TYPE_MUL, attention_activation='sigmoid'))\n",
        "model.add(GlobalMaxPooling1D())\n",
        "model.add(BatchNormalization())\n",
        "\n",
        "#model.add(Dense(int(total_words/2), activation='relu'))\n",
        "#model.add(LSTM(int(LSTM_UNITS/2)))\n",
        "\n",
        "model.add(Dense(total_words, activation='softmax'))\n",
        "\n",
        "adam = Adam()\n",
        "\n",
        "model.compile(loss='categorical_crossentropy', optimizer=adam, metrics=['accuracy'])\n",
        "print(model.summary())"
      ],
      "execution_count": 26,
      "outputs": [
        {
          "output_type": "stream",
          "text": [
            "Model: \"sequential\"\n",
            "_________________________________________________________________\n",
            "Layer (type)                 Output Shape              Param #   \n",
            "=================================================================\n",
            "embedding (Embedding)        (None, 151, 300)          2028000   \n",
            "_________________________________________________________________\n",
            "batch_normalization (BatchNo (None, 151, 300)          1200      \n",
            "_________________________________________________________________\n",
            "bidirectional (Bidirectional (None, 151, 256)          439296    \n",
            "_________________________________________________________________\n",
            "seq_self_attention (SeqSelfA (None, 151, 256)          65537     \n",
            "_________________________________________________________________\n",
            "global_max_pooling1d (Global (None, 256)               0         \n",
            "_________________________________________________________________\n",
            "batch_normalization_1 (Batch (None, 256)               1024      \n",
            "_________________________________________________________________\n",
            "dense (Dense)                (None, 6760)              1737320   \n",
            "=================================================================\n",
            "Total params: 4,272,377\n",
            "Trainable params: 4,271,265\n",
            "Non-trainable params: 1,112\n",
            "_________________________________________________________________\n",
            "None\n"
          ],
          "name": "stdout"
        }
      ]
    },
    {
      "cell_type": "code",
      "metadata": {
        "id": "FEp7rX18bxxC"
      },
      "source": [
        ""
      ],
      "execution_count": 26,
      "outputs": []
    },
    {
      "cell_type": "code",
      "metadata": {
        "id": "SOrMyIarK5VH",
        "colab": {
          "base_uri": "https://localhost:8080/",
          "height": 582
        },
        "outputId": "49fc5823-6212-4e9e-e5c0-3c691a771c89"
      },
      "source": [
        "tf.keras.utils.plot_model(model, show_shapes=True, dpi=64)"
      ],
      "execution_count": 28,
      "outputs": [
        {
          "output_type": "execute_result",
          "data": {
            "image/png": "[encoded data removed]",
            "text/plain": [
              "<IPython.core.display.Image object>"
            ]
          },
          "metadata": {
            "tags": []
          },
          "execution_count": 28
        }
      ]
    },
    {
      "cell_type": "code",
      "metadata": {
        "id": "rZ1dZ99yemKq",
        "colab": {
          "base_uri": "https://localhost:8080/"
        },
        "outputId": "dc89f116-1bc9-41c1-fabf-67e70927c751"
      },
      "source": [
        "model.summary()"
      ],
      "execution_count": 29,
      "outputs": [
        {
          "output_type": "stream",
          "text": [
            "Model: \"sequential\"\n",
            "_________________________________________________________________\n",
            "Layer (type)                 Output Shape              Param #   \n",
            "=================================================================\n",
            "embedding (Embedding)        (None, 151, 300)          2028000   \n",
            "_________________________________________________________________\n",
            "batch_normalization (BatchNo (None, 151, 300)          1200      \n",
            "_________________________________________________________________\n",
            "bidirectional (Bidirectional (None, 151, 256)          439296    \n",
            "_________________________________________________________________\n",
            "seq_self_attention (SeqSelfA (None, 151, 256)          65537     \n",
            "_________________________________________________________________\n",
            "global_max_pooling1d (Global (None, 256)               0         \n",
            "_________________________________________________________________\n",
            "batch_normalization_1 (Batch (None, 256)               1024      \n",
            "_________________________________________________________________\n",
            "dense (Dense)                (None, 6760)              1737320   \n",
            "=================================================================\n",
            "Total params: 4,272,377\n",
            "Trainable params: 4,271,265\n",
            "Non-trainable params: 1,112\n",
            "_________________________________________________________________\n"
          ],
          "name": "stdout"
        }
      ]
    },
    {
      "cell_type": "code",
      "metadata": {
        "id": "cKrEMcL5Oomr",
        "colab": {
          "base_uri": "https://localhost:8080/"
        },
        "outputId": "2d895743-b4ca-4757-b387-9f0310c52966"
      },
      "source": [
        "#limpando memória\n",
        "import gc\n",
        "gc.collect()"
      ],
      "execution_count": 30,
      "outputs": [
        {
          "output_type": "execute_result",
          "data": {
            "text/plain": [
              "32875"
            ]
          },
          "metadata": {
            "tags": []
          },
          "execution_count": 30
        }
      ]
    },
    {
      "cell_type": "code",
      "metadata": {
        "id": "3EWdKW1OOQKU",
        "colab": {
          "base_uri": "https://localhost:8080/"
        },
        "outputId": "13b29f2c-02fc-41dd-e069-889967508015"
      },
      "source": [
        "#Treinando o modelo\n",
        "#definindo parâmetros\n",
        "EPOCHS = 15\n",
        "STEPS_PER_EPOCH = 150\n",
        "history = model.fit(xs, ys, epochs=EPOCHS, verbose=1, steps_per_epoch=STEPS_PER_EPOCH)"
      ],
      "execution_count": 31,
      "outputs": [
        {
          "output_type": "stream",
          "text": [
            "Epoch 1/15\n",
            "150/150 [==============================] - 137s 849ms/step - loss: 7.2953 - accuracy: 0.1236\n",
            "Epoch 2/15\n",
            "150/150 [==============================] - 125s 836ms/step - loss: 4.8203 - accuracy: 0.2120\n",
            "Epoch 3/15\n",
            "150/150 [==============================] - 125s 832ms/step - loss: 3.8586 - accuracy: 0.2824\n",
            "Epoch 4/15\n",
            "150/150 [==============================] - 125s 832ms/step - loss: 3.1362 - accuracy: 0.3665\n",
            "Epoch 5/15\n",
            "150/150 [==============================] - 124s 829ms/step - loss: 2.5308 - accuracy: 0.4575\n",
            "Epoch 6/15\n",
            "150/150 [==============================] - 124s 829ms/step - loss: 2.0425 - accuracy: 0.5467\n",
            "Epoch 7/15\n",
            "150/150 [==============================] - 124s 826ms/step - loss: 1.6612 - accuracy: 0.6208\n",
            "Epoch 8/15\n",
            "150/150 [==============================] - 124s 827ms/step - loss: 1.3652 - accuracy: 0.6840\n",
            "Epoch 9/15\n",
            "150/150 [==============================] - 124s 824ms/step - loss: 1.1325 - accuracy: 0.7347\n",
            "Epoch 10/15\n",
            "150/150 [==============================] - 125s 831ms/step - loss: 0.9467 - accuracy: 0.7774\n",
            "Epoch 11/15\n",
            "150/150 [==============================] - 122s 813ms/step - loss: 0.8015 - accuracy: 0.8113\n",
            "Epoch 12/15\n",
            "150/150 [==============================] - 122s 813ms/step - loss: 0.6868 - accuracy: 0.8387\n",
            "Epoch 13/15\n",
            "150/150 [==============================] - 122s 816ms/step - loss: 0.5933 - accuracy: 0.8620\n",
            "Epoch 14/15\n",
            "150/150 [==============================] - 122s 812ms/step - loss: 0.5182 - accuracy: 0.8808\n",
            "Epoch 15/15\n",
            "150/150 [==============================] - 123s 820ms/step - loss: 0.4593 - accuracy: 0.8941\n"
          ],
          "name": "stdout"
        }
      ]
    },
    {
      "cell_type": "code",
      "metadata": {
        "colab": {
          "base_uri": "https://localhost:8080/"
        },
        "id": "njM_YE6mlBkE",
        "outputId": "543680c0-c1c1-43d8-ebf0-80263e6285f0"
      },
      "source": [
        "model.save('/model')\n",
        "!zip -r /content/model-09062021.zip /model\n",
        "model.save_weights('treino-09062021.h5')"
      ],
      "execution_count": 39,
      "outputs": [
        {
          "output_type": "stream",
          "text": [
            "WARNING:absl:Found untraced functions such as lstm_cell_1_layer_call_fn, lstm_cell_1_layer_call_and_return_conditional_losses, lstm_cell_2_layer_call_fn, lstm_cell_2_layer_call_and_return_conditional_losses, lstm_cell_1_layer_call_fn while saving (showing 5 of 10). These functions will not be directly callable after loading.\n"
          ],
          "name": "stderr"
        },
        {
          "output_type": "stream",
          "text": [
            "INFO:tensorflow:Assets written to: /model/assets\n"
          ],
          "name": "stdout"
        },
        {
          "output_type": "stream",
          "text": [
            "INFO:tensorflow:Assets written to: /model/assets\n"
          ],
          "name": "stderr"
        },
        {
          "output_type": "stream",
          "text": [
            "updating: model/ (stored 0%)\n",
            "updating: model/keras_metadata.pb (deflated 90%)\n",
            "updating: model/variables/ (stored 0%)\n",
            "updating: model/variables/variables.index (deflated 67%)\n",
            "updating: model/variables/variables.data-00000-of-00001 (deflated 8%)\n",
            "updating: model/saved_model.pb (deflated 90%)\n",
            "updating: model/assets/ (stored 0%)\n"
          ],
          "name": "stdout"
        }
      ]
    },
    {
      "cell_type": "code",
      "metadata": {
        "id": "9sblYbzgsDnW"
      },
      "source": [
        "### Restaurar o modelo:\n",
        "\n",
        "#keras.models.load_model(model_path, custom_objects=SeqSelfAttention.get_custom_objects())"
      ],
      "execution_count": null,
      "outputs": []
    },
    {
      "cell_type": "code",
      "metadata": {
        "id": "3YXGelKThoTT"
      },
      "source": [
        "import matplotlib.pyplot as plt\n",
        "\n",
        "def plot_graphs(history, string):\n",
        "  plt.plot(history.history[string])\n",
        "  plt.xlabel(\"Epochs\")\n",
        "  plt.ylabel(string)\n",
        "  plt.show()"
      ],
      "execution_count": 33,
      "outputs": []
    },
    {
      "cell_type": "code",
      "metadata": {
        "id": "poeprYK8h-c7",
        "colab": {
          "base_uri": "https://localhost:8080/",
          "height": 541
        },
        "outputId": "bcf96d54-eafc-448f-abfa-24ec1ea82660"
      },
      "source": [
        "plot_graphs(history, 'accuracy')\n",
        "plot_graphs(history, 'loss')"
      ],
      "execution_count": 34,
      "outputs": [
        {
          "output_type": "display_data",
          "data": {
            "image/png": "[encoded data removed]",
            "text/plain": [
              "<Figure size 432x288 with 1 Axes>"
            ]
          },
          "metadata": {
            "tags": [],
            "needs_background": "light"
          }
        },
        {
          "output_type": "display_data",
          "data": {
            "image/png": "[encoded data removed]",
            "text/plain": [
              "<Figure size 432x288 with 1 Axes>"
            ]
          },
          "metadata": {
            "tags": [],
            "needs_background": "light"
          }
        }
      ]
    },
    {
      "cell_type": "code",
      "metadata": {
        "id": "6Vc6PHgxa6Hm",
        "colab": {
          "base_uri": "https://localhost:8080/"
        },
        "outputId": "2df72a48-b5e1-4f37-c815-1dd7d9e57c6d"
      },
      "source": [
        "#forneça um texto de entrada e quantas palavras vãão ser preditas a partir dele\n",
        "#seed_text = \"Você é minha vida\"\n",
        "#seed_text = \"Amor da minha vida\"\n",
        "#seed_text = \"Já vi que você vai sair E a sequência eu já sei\"\n",
        "#seed_text = \"Barzinho outra vez\"\n",
        "#seed_text = \"Disk-recaída, bateu carência liga\"\n",
        "#seed_text = \"Agora não chega mais nenhuma notificação sua\"\n",
        "#seed_text = \"Você não é nada além de uma causa perdida\"\n",
        "#seed_text = \"Vou tentar te esquecer\"\n",
        "#seed_text = \"Seguir seus passos já não posso mais\"\n",
        "seed_text = \"Nunca me enxerguei em outra pessoa\"\n",
        "\n",
        "next_words = 180\n",
        "  \n",
        "for _ in range(next_words):\n",
        "\ttoken_list = tokenizer.texts_to_sequences([seed_text])[0]\n",
        "\ttoken_list = pad_sequences([token_list], maxlen=max_sequence_len-1, padding='pre')\n",
        "\tpredicted = model.predict_classes(token_list, verbose=0)\n",
        "\toutput_word = \"\"\n",
        "\tfor word, index in tokenizer.word_index.items():\n",
        "\t\tif index == predicted:\n",
        "\t\t\toutput_word = word\n",
        "\t\t\tbreak\n",
        "\tseed_text += \" \" + output_word\n",
        "#como o modelo prevê sequencias de versos em quartetos separados por <br> vamos substituir o token por newline e imprimir os versos gerados\n",
        "versos = seed_text.split(' <br> ')\n",
        "counter = -1\n",
        "value = 4\n",
        "print('\\n Musica: ',versos[0],'\\n')\n",
        "for v in versos[1:]:\n",
        "\tprint(v.capitalize())\n",
        "\tcounter = counter + 1\n",
        "\tif counter == value:\n",
        "\t\tprint('\\n')\n",
        "\t\tcounter = 0\n"
      ],
      "execution_count": 48,
      "outputs": [
        {
          "output_type": "stream",
          "text": [
            "/usr/local/lib/python3.7/dist-packages/tensorflow/python/keras/engine/sequential.py:455: UserWarning: `model.predict_classes()` is deprecated and will be removed after 2021-01-01. Please use instead:* `np.argmax(model.predict(x), axis=-1)`,   if your model does multi-class classification   (e.g. if it uses a `softmax` last-layer activation).* `(model.predict(x) > 0.5).astype(\"int32\")`,   if your model does binary classification   (e.g. if it uses a `sigmoid` last-layer activation).\n",
            "  warnings.warn('`model.predict_classes()` is deprecated and '\n"
          ],
          "name": "stderr"
        },
        {
          "output_type": "stream",
          "text": [
            "\n",
            " Musica:  Nunca me enxerguei em outra pessoa \n",
            "\n",
            "Eu ia me amar assim\n",
            "Você tá me ligando pra sofrer\n",
            "E agora eu já chorei por amar\n",
            "Amar outra vez assim eu não ia amar\n",
            "Amar assim ou me leva de uma vez\n",
            "\n",
            "\n",
            "Mas amar outra vez eu não sei amar\n",
            "Mas pra desistir de nada\n",
            "Mas é uma hora de me amar\n",
            "Só quer amar e assim voltar de mim\n",
            "\n",
            "\n",
            "Se me entregar agora assim\n",
            "É só um amor bandido e assim\n",
            "Amar você vai embora agora eu sei\n",
            "Se amar é hora vou voltar atrás\n",
            "\n",
            "\n",
            "Amor por que me dá um de amor\n",
            "Com outra vez vai dizer que já tem meu coração\n",
            "Então já não te mereço amor assim\n",
            "Sou só um amor assim eu vou embora\n",
            "\n",
            "\n",
            "Então diz que já me faz parte da paixão\n",
            "Com calma esse amor vou te amar\n",
            "Calma também vou deixar só sofrer\n",
            "Bem com calma que me faz sofrer\n",
            "\n",
            "\n",
            "Então gritando você com esse amor perigoso <br>\n"
          ],
          "name": "stdout"
        }
      ]
    },
    {
      "cell_type": "code",
      "metadata": {
        "id": "MnvSrNwFqCrA"
      },
      "source": [
        "### Textos Gerados Anteriormente:\n",
        "\n",
        "\"\"\" Musica:  Amor da minha vida por você \n",
        "\n",
        "Eu não quero nada\n",
        "Eu tô nem quero só você\n",
        "Tô nos olhos de te ver\n",
        "Tô nem aí eu quero só você\n",
        "Se for pra mim não quero assim\n",
        "\n",
        "\n",
        "Quero esse amor não quero é só você\n",
        "Eu quero é só você\n",
        "Que cê não sabe de mim\n",
        "E nos olhos de mim é que te ver\n",
        "\n",
        "\n",
        "Eu tô nem mudo pra não te ver\n",
        "Tô nem conto de fadas com esse cara é só você\n",
        "Vou te contar que raiva de te amar\n",
        "Que eu te amo tanto é demais é só você\n",
        "\n",
        "\n",
        "Vou te falar só agora eu vou te amar\n",
        "Mais vou te contar pois é tudo\n",
        "Tanto que mais é errado e não mais ter medo de te esquecer\n",
        "Agora você vai casar mim\n",
        "\n",
        "\n",
        "Se você não for insegurança nunca mais\n",
        "O amo você\n",
        "Você foi embora e levou minha vida\n",
        "Se você me amou nunca for insegurança\n",
        "\n",
        "\n",
        "Foi demais o\"\"\"\n",
        "\n",
        "#################################################\n",
        "\n",
        "\"\"\"Musica:  Você é minha vida o que eu sinto mais o seu \n",
        "\n",
        "É saber de tudo o que você me faz\n",
        "Agora é tão bom pra saber\n",
        "As estrelas como faz a moda\n",
        "São tantas coisas que eu nem sei o que nem queria\n",
        "Acho que agora deve ter depressa aqui é o mundo\n",
        "\n",
        "\n",
        "Como se eu escrevo é o que eu sinto\n",
        "Tô de você pra mim não é capaz de te esquecer\n",
        "Com outra vez eu vou sair os meus sonhos\n",
        "Acho que hoje você não é bom demais\n",
        "\n",
        "\n",
        "Vou ter você pra valer o bom voltar\n",
        "Vou ter você pra mim não vai mais voltar\n",
        "Tenho que hoje tenho asas\n",
        "De hoje vou voltar atrás de outra vez\n",
        "\n",
        "\n",
        "Hoje vou ter você pra voltar de volta\n",
        "Vou atrás de outra vez\n",
        "O que vou pedir pra você voltar de volta\n",
        "Vou voltar atrás de quem te machucar\n",
        "\n",
        "\n",
        "Pede pra alguém que me possa\n",
        "Solidão vou te pedir de novo\n",
        "Assim não vou\"\"\"\n",
        "\n",
        "##############################\n",
        "\n",
        "\"\"\" Musica:  Agora não chega mais nenhuma notificação sua \n",
        "\n",
        "Que arrasta pra conversar\n",
        "Tão vazia no final de fora\n",
        "Eu tô aqui pra você\n",
        "Eu tô morrendo de paixão\n",
        "Mas não quero mais saber\n",
        "\n",
        "\n",
        "Se você está tão perto\n",
        "Tô de mim\n",
        "Se foi embora se hoje está aqui\n",
        "Então não fique comigo\n",
        "\n",
        "\n",
        "Tô falando sério\n",
        "Não preciso de amor\n",
        "Foi demais a minha vida\n",
        "Já não tem nada\n",
        "\n",
        "\n",
        "Não quero dinheiro\n",
        "Se você não engana\n",
        "Fique aí sozinha\n",
        "Por amor não sou isso tudo\n",
        "\n",
        "\n",
        "Se você não quiser de mim\n",
        "Para mim não sou isso\n",
        "Não vai se enganar\n",
        "Não sou o amor é tudo isso que eu vivo\n",
        "\n",
        "\n",
        "A gente não se engana\n",
        "Não me engana\n",
        "Não fala que você me deixa falando amor\n",
        "Então você não se engana\n",
        "\n",
        "\n",
        "Não adianta voltar de novo o mesmo\n",
        "Se for tanto assim\n",
        "Se me engana\n",
        "Não adianta voltar de outra saída\n",
        "\n",
        "\n",
        "Se me deixa falando sério\n",
        "Saiba que\"\"\"\n",
        "\n",
        "###############################\n",
        "\n",
        "\"\"\"Musica:  Você não é nada além de uma causa perdida \n",
        "\n",
        "E não vale mais nada mais uma dor\n",
        "Agora não é mais uma dor que só quer um passado\n",
        "Mais uma briga mas não pode ir embora\n",
        "Um coração estou pagando a dois\n",
        "Um de uma dor da sua vida\n",
        "\n",
        "\n",
        "E dar um sentimento é passado\n",
        "Não é mais uma vez de amor\n",
        "Um erro é mais que um bom passado\n",
        "Agora estou com o cara de bobo a dois\n",
        "\n",
        "\n",
        "Fala que tá difícil de amar um coração\n",
        "Depois de tudo isso é um passado\n",
        "Com o nome é tudo é só um dono\n",
        "De tudo isso que a gente passou\n",
        "\n",
        "\n",
        "Não é covardia mais é um bom amor\n",
        "É covardia minha festa é um esqueço um sentimento sem ninho\n",
        "Não se liberta o amor nunca vou te ver\n",
        "São volta só vem e se tiver dor\n",
        "\n",
        "\n",
        "Se não for pecado quem é a culpa\n",
        "Se o amor é bom é fiel esse amor fiel\n",
        "Às vezes não sabe de\"\"\"\n",
        "\n",
        "#########################################\n",
        "\n",
        "\"\"\"Musica:  Vou tentar te esquecer \n",
        "\n",
        "Os meus sonhos não quero mais\n",
        "Posso me tirar dessa paixão\n",
        "Eu não quero mais não\n",
        "Se tiver seus paixão\n",
        "Vai ser o meu coração\n",
        "\n",
        "\n",
        "Não vai ser mais forte\n",
        "Ah eu quero só você\n",
        "Seu amor não quero paixão\n",
        "Não quero dinheiro não\n",
        "\n",
        "\n",
        "Se eu tiver um jeito de sofrer\n",
        "Ah porque não quero esse amor não vai ser melhor não\n",
        "Eu quero esse amor não vai ser o meu amor\n",
        "Não quero não tem nem dinheiro não\n",
        "\n",
        "\n",
        "Se você me quer do mundo\n",
        "Deixa mesmo de ser capaz de você\n",
        "Do amor que\n",
        "Deixa eu viver paixão\n",
        "\n",
        "\n",
        "Não dá prazer\n",
        "Mas você não dá mais\n",
        "Eu tô de paixão\n",
        "Então você não dá tempo\n",
        "\n",
        "\n",
        "Você quis ficar do meu coração\n",
        "Você nem fica tudo triste\n",
        "Você se acha que me quis\n",
        "Esse amor não pode ter de paixão\n",
        "\n",
        "\n",
        "Mas se acha que me deixa dessa vida\n",
        "Se você me jogou fora\"\"\"\n",
        "\n",
        "#####################\n",
        "\n",
        "\"\"\"Musica:  Seguir seus passos já não posso mais \n",
        "\n",
        "Que ele foi em vão e ele foi\n",
        "E ele que me vi assim\n",
        "Foi que ele me fez de amor\n",
        "E percebi que era só um dia ele não vai mais\n",
        "Que foi só um mês que já não te quis\n",
        "\n",
        "\n",
        "Eu percebi que te vi\n",
        "Te vi meu coração não te encontrei normal\n",
        "Volta de tão sem ele não quis me ouvir\n",
        "Foi só um dia ele não quis me percebi\n",
        "\n",
        "\n",
        "Não sabia só de um mal que te vi\n",
        "Te encontrei um de volta agora foi me tão mal\n",
        "Não vi esse amor não foi em volta\n",
        "Te amo nem adeus e percebi\n",
        "\n",
        "\n",
        "Agora percebi que eu vou te chegando\n",
        "Agora não sabia nem de um amor\n",
        "Passou isso era minha amizade\n",
        "E passou pra mim não morreu\n",
        "\n",
        "\n",
        "Não consigo te esquecer\n",
        "O amor amo você nunca teve fim\n",
        "Foi somente pra mim\n",
        "Linda desse amor nunca se esqueça\n",
        "\n",
        "\n",
        "Amor nunca se for insegurança demais\"\"\"\n",
        "\n"
      ],
      "execution_count": 36,
      "outputs": []
    },
    {
      "cell_type": "code",
      "metadata": {
        "id": "45vze9TZqMun"
      },
      "source": [
        ""
      ],
      "execution_count": 36,
      "outputs": []
    }
  ]
}