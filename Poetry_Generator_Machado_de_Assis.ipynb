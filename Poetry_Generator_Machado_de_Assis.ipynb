{
  "nbformat": 4,
  "nbformat_minor": 0,
  "metadata": {
    "colab": {
      "name": "Poetry Generator - Machado de Assis.ipynb",
      "provenance": [],
      "collapsed_sections": [],
      "authorship_tag": "ABX9TyNHM5WlFqy1mWBbVMQkoOBh",
      "include_colab_link": true
    },
    "kernelspec": {
      "name": "python3",
      "display_name": "Python 3"
    },
    "language_info": {
      "name": "python"
    },
    "accelerator": "GPU"
  },
  "cells": [
    {
      "cell_type": "markdown",
      "metadata": {
        "id": "view-in-github",
        "colab_type": "text"
      },
      "source": [
        "<a href=\"https://colab.research.google.com/github/pedrohortencio/text-generator/blob/main/Poetry_Generator_Machado_de_Assis.ipynb\" target=\"_parent\"><img src=\"https://colab.research.google.com/assets/colab-badge.svg\" alt=\"Open In Colab\"/></a>"
      ]
    },
    {
      "cell_type": "code",
      "metadata": {
        "id": "3iDACBl4jC__"
      },
      "source": [
        "import numpy as np                  \n",
        "import pandas as pd\n",
        "import matplotlib.pyplot as plt\n",
        "import seaborn as sns\n",
        "sns.set_theme()\n",
        "import pickle\n",
        "import regex as re"
      ],
      "execution_count": null,
      "outputs": []
    },
    {
      "cell_type": "code",
      "metadata": {
        "id": "eZ51OcnS5FFr"
      },
      "source": [
        "from tensorflow.keras.preprocessing.sequence import pad_sequences\n",
        "from tensorflow.keras.layers import Embedding, LSTM, Dense, Dropout, Bidirectional\n",
        "from tensorflow.keras.preprocessing.text import Tokenizer\n",
        "from tensorflow.keras.models import Sequential\n",
        "from tensorflow.keras.optimizers import Adam\n",
        "from tensorflow.keras import regularizers\n",
        "import tensorflow.keras.utils as ku \n",
        "from tensorflow.keras.callbacks import EarlyStopping"
      ],
      "execution_count": null,
      "outputs": []
    },
    {
      "cell_type": "code",
      "metadata": {
        "id": "mJw6W49Oi_Mf"
      },
      "source": [
        "!pip install -q kaggle\n",
        "\n",
        "!mkdir -p ~/.kaggle\n",
        "!cp kaggle.json ~/.kaggle/\n",
        "!ls ~/.kaggle\n",
        "\n",
        "!kaggle datasets download -d luxedo/machado-de-assis\n",
        "\n",
        "!unzip /content/machado-de-assis.zip"
      ],
      "execution_count": null,
      "outputs": []
    },
    {
      "cell_type": "code",
      "metadata": {
        "id": "SQg678Vo1m0l"
      },
      "source": [
        "data = open('/content/raw/txt/poesia/ocidentais.txt').read()\n",
        "corpus1 = data.lower().split(\"\\n\")\n",
        "corpus1 = corpus1[28:]    # Sem o índice\n",
        "\n",
        "data = open('/content/raw/txt/poesia/crisalidas.txt').read()\n",
        "corpus2 = data.lower().split(\"\\n\")\n",
        "corpus2 = corpus2[34:2089]\n",
        "\n",
        "data = open('/content/raw/txt/poesia/almada.txt').read()\n",
        "corpus3 = data.lower().split(\"\\n\")\n",
        "corpus3 = corpus3[100:2518]\n",
        "\n",
        "\n",
        "corpus = corpus1 + corpus2 + corpus3"
      ],
      "execution_count": null,
      "outputs": []
    },
    {
      "cell_type": "code",
      "metadata": {
        "id": "d9obUC8554sw"
      },
      "source": [
        "#tokenizer = Tokenizer()\n",
        "#tokenizer.fit_on_texts(corpus)\n",
        "#total_words = len(tokenizer.word_index) + 1\n",
        "#total_words"
      ],
      "execution_count": null,
      "outputs": []
    },
    {
      "cell_type": "code",
      "metadata": {
        "colab": {
          "base_uri": "https://localhost:8080/"
        },
        "id": "vEi_7C_iBXNM",
        "outputId": "b5c800f2-967f-4385-9a18-d94f14c3b7a4"
      },
      "source": [
        "#filters='!\"#$%&()*+,-./:;<=>?@[\\\\]^_`{|}~\\t\\n'\n",
        "\n",
        "to_exclude = '\"#$%&()*+,-./:;<=>@[\\\\]^_`{|}~\\t'\n",
        "to_tokenize = '!?'\n",
        "\n",
        "corpus = [text.replace(\"-\", \"\") for text in corpus]\n",
        "\n",
        "corpus = [re.sub(r'(['+to_tokenize+'])', r' \\1 ', i) for i in corpus]\n",
        "\n",
        "tokenizer = Tokenizer(filters=to_exclude)\n",
        "tokenizer.fit_on_texts(corpus)\n",
        "\n",
        "total_words = len(tokenizer.word_index) + 1\n",
        "\n",
        "print(len(tokenizer.word_index))"
      ],
      "execution_count": null,
      "outputs": [
        {
          "output_type": "stream",
          "text": [
            "7580\n"
          ],
          "name": "stdout"
        }
      ]
    },
    {
      "cell_type": "code",
      "metadata": {
        "id": "qgReOka053rJ"
      },
      "source": [
        "with open('tokenizer.pickle', 'wb') as handle:\n",
        "    pickle.dump(tokenizer, handle, protocol=pickle.HIGHEST_PROTOCOL)"
      ],
      "execution_count": null,
      "outputs": []
    },
    {
      "cell_type": "code",
      "metadata": {
        "id": "cD0cXFXm3jGe"
      },
      "source": [
        "# create input sequences using list of tokens\n",
        "input_sequences = []\n",
        "for line in corpus:\n",
        "\ttoken_list = tokenizer.texts_to_sequences([line])[0]\n",
        "\tfor i in range(1, len(token_list)):\n",
        "\t\tn_gram_sequence = token_list[:i+1]\n",
        "\t\tinput_sequences.append(n_gram_sequence)\n",
        "\n",
        "# pad sequences \n",
        "max_sequence_len = max([len(x) for x in input_sequences])\n",
        "input_sequences = np.array(pad_sequences(input_sequences, maxlen=max_sequence_len, padding='pre'))\n",
        "\n",
        "# create predictors and label\n",
        "predictors, label = input_sequences[:,:-1],input_sequences[:,-1]\n",
        "\n",
        "label = ku.to_categorical(label, num_classes=total_words)"
      ],
      "execution_count": null,
      "outputs": []
    },
    {
      "cell_type": "code",
      "metadata": {
        "colab": {
          "base_uri": "https://localhost:8080/"
        },
        "id": "2o_8PVsZ5O17",
        "outputId": "5fc8c14a-dae4-4e90-98ef-c0783a29d3aa"
      },
      "source": [
        "model = Sequential()\n",
        "model.add(Embedding(total_words, 100, input_length=max_sequence_len-1))\n",
        "\n",
        "model.add(Bidirectional(LSTM(150, return_sequences = True)))\n",
        "#model.add(LSTM(200, return_sequences=True))\n",
        "model.add(Dropout(0.2))\n",
        "\n",
        "#model.add(Bidirectional(LSTM(150, return_sequences = True)))\n",
        "model.add(LSTM(150, return_sequences=True))\n",
        "model.add(Dropout(0.2))\n",
        "\n",
        "model.add(LSTM(100))\n",
        "\n",
        "model.add(Dense(total_words/2, activation='relu'))#, kernel_regularizer=regularizers.l2(0.01)))\n",
        "model.add(Dense(total_words, activation='softmax'))\n",
        "\n",
        "model.compile(loss='categorical_crossentropy', optimizer='adam', metrics=['accuracy'])\n",
        "print(model.summary())"
      ],
      "execution_count": null,
      "outputs": [
        {
          "output_type": "stream",
          "text": [
            "Model: \"sequential_16\"\n",
            "_________________________________________________________________\n",
            "Layer (type)                 Output Shape              Param #   \n",
            "=================================================================\n",
            "embedding_16 (Embedding)     (None, 15, 100)           758100    \n",
            "_________________________________________________________________\n",
            "bidirectional_14 (Bidirectio (None, 15, 300)           301200    \n",
            "_________________________________________________________________\n",
            "dropout_25 (Dropout)         (None, 15, 300)           0         \n",
            "_________________________________________________________________\n",
            "lstm_45 (LSTM)               (None, 15, 150)           270600    \n",
            "_________________________________________________________________\n",
            "dropout_26 (Dropout)         (None, 15, 150)           0         \n",
            "_________________________________________________________________\n",
            "lstm_46 (LSTM)               (None, 100)               100400    \n",
            "_________________________________________________________________\n",
            "dense_28 (Dense)             (None, 3790)              382790    \n",
            "_________________________________________________________________\n",
            "dense_29 (Dense)             (None, 7581)              28739571  \n",
            "=================================================================\n",
            "Total params: 30,552,661\n",
            "Trainable params: 30,552,661\n",
            "Non-trainable params: 0\n",
            "_________________________________________________________________\n",
            "None\n"
          ],
          "name": "stdout"
        }
      ]
    },
    {
      "cell_type": "code",
      "metadata": {
        "colab": {
          "base_uri": "https://localhost:8080/"
        },
        "id": "3m5LEgKI5Ql4",
        "outputId": "411f244b-da44-4802-8092-87fa778dd4a3"
      },
      "source": [
        "history = model.fit(predictors, label, batch_size=128,epochs=200) "
      ],
      "execution_count": null,
      "outputs": [
        {
          "output_type": "stream",
          "text": [
            "Epoch 1/200\n",
            "220/220 [==============================] - 11s 28ms/step - loss: 7.7797 - accuracy: 0.0311\n",
            "Epoch 2/200\n",
            "220/220 [==============================] - 6s 28ms/step - loss: 7.0986 - accuracy: 0.0364\n",
            "Epoch 3/200\n",
            "220/220 [==============================] - 6s 28ms/step - loss: 6.8812 - accuracy: 0.0430\n",
            "Epoch 4/200\n",
            "220/220 [==============================] - 6s 28ms/step - loss: 6.7241 - accuracy: 0.0458\n",
            "Epoch 5/200\n",
            "220/220 [==============================] - 6s 28ms/step - loss: 6.5968 - accuracy: 0.0497\n",
            "Epoch 6/200\n",
            "220/220 [==============================] - 6s 28ms/step - loss: 6.4714 - accuracy: 0.0524\n",
            "Epoch 7/200\n",
            "220/220 [==============================] - 6s 28ms/step - loss: 6.3574 - accuracy: 0.0517\n",
            "Epoch 8/200\n",
            "220/220 [==============================] - 6s 28ms/step - loss: 6.2187 - accuracy: 0.0525\n",
            "Epoch 9/200\n",
            "220/220 [==============================] - 6s 28ms/step - loss: 6.1342 - accuracy: 0.0559\n",
            "Epoch 10/200\n",
            "220/220 [==============================] - 6s 28ms/step - loss: 5.9992 - accuracy: 0.0608\n",
            "Epoch 11/200\n",
            "220/220 [==============================] - 6s 28ms/step - loss: 5.9104 - accuracy: 0.0660\n",
            "Epoch 12/200\n",
            "220/220 [==============================] - 6s 28ms/step - loss: 5.7843 - accuracy: 0.0710\n",
            "Epoch 13/200\n",
            "220/220 [==============================] - 6s 28ms/step - loss: 5.6521 - accuracy: 0.0810\n",
            "Epoch 14/200\n",
            "220/220 [==============================] - 6s 28ms/step - loss: 5.5255 - accuracy: 0.0930\n",
            "Epoch 15/200\n",
            "220/220 [==============================] - 6s 28ms/step - loss: 5.4451 - accuracy: 0.0896\n",
            "Epoch 16/200\n",
            "220/220 [==============================] - 6s 28ms/step - loss: 5.3188 - accuracy: 0.1018\n",
            "Epoch 17/200\n",
            "220/220 [==============================] - 6s 28ms/step - loss: 5.2021 - accuracy: 0.1101\n",
            "Epoch 18/200\n",
            "220/220 [==============================] - 6s 28ms/step - loss: 5.0597 - accuracy: 0.1190\n",
            "Epoch 19/200\n",
            "220/220 [==============================] - 6s 28ms/step - loss: 4.9543 - accuracy: 0.1245\n",
            "Epoch 20/200\n",
            "220/220 [==============================] - 6s 28ms/step - loss: 4.8189 - accuracy: 0.1328\n",
            "Epoch 21/200\n",
            "220/220 [==============================] - 6s 28ms/step - loss: 4.7072 - accuracy: 0.1393\n",
            "Epoch 22/200\n",
            "220/220 [==============================] - 6s 28ms/step - loss: 4.5900 - accuracy: 0.1458\n",
            "Epoch 23/200\n",
            "220/220 [==============================] - 6s 28ms/step - loss: 4.4810 - accuracy: 0.1517\n",
            "Epoch 24/200\n",
            "220/220 [==============================] - 6s 28ms/step - loss: 4.3505 - accuracy: 0.1646\n",
            "Epoch 25/200\n",
            "220/220 [==============================] - 6s 28ms/step - loss: 4.2482 - accuracy: 0.1746\n",
            "Epoch 26/200\n",
            "220/220 [==============================] - 6s 28ms/step - loss: 4.1294 - accuracy: 0.1912\n",
            "Epoch 27/200\n",
            "220/220 [==============================] - 6s 28ms/step - loss: 4.0585 - accuracy: 0.1929\n",
            "Epoch 28/200\n",
            "220/220 [==============================] - 6s 28ms/step - loss: 3.9372 - accuracy: 0.2086\n",
            "Epoch 29/200\n",
            "220/220 [==============================] - 6s 28ms/step - loss: 3.8400 - accuracy: 0.2213\n",
            "Epoch 30/200\n",
            "220/220 [==============================] - 6s 28ms/step - loss: 3.7441 - accuracy: 0.2266\n",
            "Epoch 31/200\n",
            "220/220 [==============================] - 6s 28ms/step - loss: 3.6714 - accuracy: 0.2407\n",
            "Epoch 32/200\n",
            "220/220 [==============================] - 6s 28ms/step - loss: 3.5680 - accuracy: 0.2518\n",
            "Epoch 33/200\n",
            "220/220 [==============================] - 6s 28ms/step - loss: 3.4744 - accuracy: 0.2649\n",
            "Epoch 34/200\n",
            "220/220 [==============================] - 6s 28ms/step - loss: 3.4101 - accuracy: 0.2669\n",
            "Epoch 35/200\n",
            "220/220 [==============================] - 6s 28ms/step - loss: 3.3071 - accuracy: 0.2874\n",
            "Epoch 36/200\n",
            "220/220 [==============================] - 6s 28ms/step - loss: 3.2485 - accuracy: 0.2962\n",
            "Epoch 37/200\n",
            "220/220 [==============================] - 6s 28ms/step - loss: 3.1655 - accuracy: 0.3050\n",
            "Epoch 38/200\n",
            "220/220 [==============================] - 6s 28ms/step - loss: 3.0767 - accuracy: 0.3219\n",
            "Epoch 39/200\n",
            "220/220 [==============================] - 6s 28ms/step - loss: 3.0198 - accuracy: 0.3308\n",
            "Epoch 40/200\n",
            "220/220 [==============================] - 6s 28ms/step - loss: 2.9316 - accuracy: 0.3472\n",
            "Epoch 41/200\n",
            "220/220 [==============================] - 6s 28ms/step - loss: 2.8884 - accuracy: 0.3540\n",
            "Epoch 42/200\n",
            "220/220 [==============================] - 6s 28ms/step - loss: 2.8062 - accuracy: 0.3713\n",
            "Epoch 43/200\n",
            "220/220 [==============================] - 6s 28ms/step - loss: 2.7211 - accuracy: 0.3831\n",
            "Epoch 44/200\n",
            "220/220 [==============================] - 6s 28ms/step - loss: 2.7000 - accuracy: 0.3865\n",
            "Epoch 45/200\n",
            "220/220 [==============================] - 6s 28ms/step - loss: 2.6241 - accuracy: 0.4008\n",
            "Epoch 46/200\n",
            "220/220 [==============================] - 6s 29ms/step - loss: 2.5995 - accuracy: 0.4069\n",
            "Epoch 47/200\n",
            "220/220 [==============================] - 6s 29ms/step - loss: 2.5515 - accuracy: 0.4121\n",
            "Epoch 48/200\n",
            "220/220 [==============================] - 6s 29ms/step - loss: 2.4848 - accuracy: 0.4241\n",
            "Epoch 49/200\n",
            "220/220 [==============================] - 6s 28ms/step - loss: 2.4274 - accuracy: 0.4365\n",
            "Epoch 50/200\n",
            "220/220 [==============================] - 6s 28ms/step - loss: 2.3788 - accuracy: 0.4455\n",
            "Epoch 51/200\n",
            "220/220 [==============================] - 6s 28ms/step - loss: 2.3393 - accuracy: 0.4524\n",
            "Epoch 52/200\n",
            "220/220 [==============================] - 6s 28ms/step - loss: 2.2855 - accuracy: 0.4644\n",
            "Epoch 53/200\n",
            "220/220 [==============================] - 6s 29ms/step - loss: 2.2526 - accuracy: 0.4718\n",
            "Epoch 54/200\n",
            "220/220 [==============================] - 6s 28ms/step - loss: 2.2121 - accuracy: 0.4786\n",
            "Epoch 55/200\n",
            "220/220 [==============================] - 6s 28ms/step - loss: 2.1764 - accuracy: 0.4879\n",
            "Epoch 56/200\n",
            "220/220 [==============================] - 6s 28ms/step - loss: 2.1048 - accuracy: 0.5044\n",
            "Epoch 57/200\n",
            "220/220 [==============================] - 6s 28ms/step - loss: 2.0647 - accuracy: 0.5099\n",
            "Epoch 58/200\n",
            "220/220 [==============================] - 6s 28ms/step - loss: 2.0115 - accuracy: 0.5175\n",
            "Epoch 59/200\n",
            "220/220 [==============================] - 6s 28ms/step - loss: 2.0026 - accuracy: 0.5239\n",
            "Epoch 60/200\n",
            "220/220 [==============================] - 6s 28ms/step - loss: 1.9638 - accuracy: 0.5342\n",
            "Epoch 61/200\n",
            "220/220 [==============================] - 6s 28ms/step - loss: 1.9338 - accuracy: 0.5380\n",
            "Epoch 62/200\n",
            "220/220 [==============================] - 6s 28ms/step - loss: 1.9231 - accuracy: 0.5406\n",
            "Epoch 63/200\n",
            "220/220 [==============================] - 6s 28ms/step - loss: 1.8847 - accuracy: 0.5483\n",
            "Epoch 64/200\n",
            "220/220 [==============================] - 6s 28ms/step - loss: 1.8395 - accuracy: 0.5564\n",
            "Epoch 65/200\n",
            "220/220 [==============================] - 6s 28ms/step - loss: 1.8390 - accuracy: 0.5592\n",
            "Epoch 66/200\n",
            "220/220 [==============================] - 6s 28ms/step - loss: 1.7852 - accuracy: 0.5689\n",
            "Epoch 67/200\n",
            "220/220 [==============================] - 6s 28ms/step - loss: 1.7641 - accuracy: 0.5719\n",
            "Epoch 68/200\n",
            "220/220 [==============================] - 6s 28ms/step - loss: 1.7423 - accuracy: 0.5760\n",
            "Epoch 69/200\n",
            "220/220 [==============================] - 6s 28ms/step - loss: 1.7244 - accuracy: 0.5818\n",
            "Epoch 70/200\n",
            "220/220 [==============================] - 6s 28ms/step - loss: 1.6765 - accuracy: 0.5918\n",
            "Epoch 71/200\n",
            "220/220 [==============================] - 6s 28ms/step - loss: 1.6446 - accuracy: 0.6016\n",
            "Epoch 72/200\n",
            "220/220 [==============================] - 6s 28ms/step - loss: 1.6193 - accuracy: 0.6064\n",
            "Epoch 73/200\n",
            "220/220 [==============================] - 6s 28ms/step - loss: 1.5869 - accuracy: 0.6144\n",
            "Epoch 74/200\n",
            "220/220 [==============================] - 6s 28ms/step - loss: 1.5976 - accuracy: 0.6105\n",
            "Epoch 75/200\n",
            "220/220 [==============================] - 6s 28ms/step - loss: 1.5658 - accuracy: 0.6160\n",
            "Epoch 76/200\n",
            "220/220 [==============================] - 6s 28ms/step - loss: 1.5381 - accuracy: 0.6210\n",
            "Epoch 77/200\n",
            "220/220 [==============================] - 6s 28ms/step - loss: 1.4983 - accuracy: 0.6336\n",
            "Epoch 78/200\n",
            "220/220 [==============================] - 6s 29ms/step - loss: 1.5055 - accuracy: 0.6277\n",
            "Epoch 79/200\n",
            "220/220 [==============================] - 6s 29ms/step - loss: 1.4507 - accuracy: 0.6410\n",
            "Epoch 80/200\n",
            "220/220 [==============================] - 6s 28ms/step - loss: 1.4527 - accuracy: 0.6450\n",
            "Epoch 81/200\n",
            "220/220 [==============================] - 6s 29ms/step - loss: 1.4321 - accuracy: 0.6447\n",
            "Epoch 82/200\n",
            "220/220 [==============================] - 6s 28ms/step - loss: 1.4206 - accuracy: 0.6455\n",
            "Epoch 83/200\n",
            "220/220 [==============================] - 6s 28ms/step - loss: 1.3859 - accuracy: 0.6559\n",
            "Epoch 84/200\n",
            "220/220 [==============================] - 6s 28ms/step - loss: 1.3648 - accuracy: 0.6615\n",
            "Epoch 85/200\n",
            "220/220 [==============================] - 6s 29ms/step - loss: 1.3845 - accuracy: 0.6589\n",
            "Epoch 86/200\n",
            "220/220 [==============================] - 6s 28ms/step - loss: 1.3480 - accuracy: 0.6646\n",
            "Epoch 87/200\n",
            "220/220 [==============================] - 6s 28ms/step - loss: 1.3453 - accuracy: 0.6692\n",
            "Epoch 88/200\n",
            "220/220 [==============================] - 6s 28ms/step - loss: 1.3144 - accuracy: 0.6742\n",
            "Epoch 89/200\n",
            "220/220 [==============================] - 6s 28ms/step - loss: 1.3323 - accuracy: 0.6669\n",
            "Epoch 90/200\n",
            "220/220 [==============================] - 6s 28ms/step - loss: 1.2797 - accuracy: 0.6805\n",
            "Epoch 91/200\n",
            "220/220 [==============================] - 6s 29ms/step - loss: 1.2910 - accuracy: 0.6784\n",
            "Epoch 92/200\n",
            "220/220 [==============================] - 6s 29ms/step - loss: 1.2520 - accuracy: 0.6852\n",
            "Epoch 93/200\n",
            "220/220 [==============================] - 6s 28ms/step - loss: 1.2413 - accuracy: 0.6903\n",
            "Epoch 94/200\n",
            "220/220 [==============================] - 6s 28ms/step - loss: 1.2205 - accuracy: 0.6945\n",
            "Epoch 95/200\n",
            "220/220 [==============================] - 6s 29ms/step - loss: 1.2251 - accuracy: 0.6959\n",
            "Epoch 96/200\n",
            "220/220 [==============================] - 6s 28ms/step - loss: 1.2131 - accuracy: 0.7004\n",
            "Epoch 97/200\n",
            "220/220 [==============================] - 6s 28ms/step - loss: 1.2203 - accuracy: 0.6952\n",
            "Epoch 98/200\n",
            "220/220 [==============================] - 6s 28ms/step - loss: 1.2051 - accuracy: 0.7008\n",
            "Epoch 99/200\n",
            "220/220 [==============================] - 6s 28ms/step - loss: 1.1729 - accuracy: 0.7050\n",
            "Epoch 100/200\n",
            "220/220 [==============================] - 6s 28ms/step - loss: 1.1815 - accuracy: 0.7036\n",
            "Epoch 101/200\n",
            "220/220 [==============================] - 6s 29ms/step - loss: 1.1525 - accuracy: 0.7110\n",
            "Epoch 102/200\n",
            "220/220 [==============================] - 6s 29ms/step - loss: 1.1451 - accuracy: 0.7127\n",
            "Epoch 103/200\n",
            "220/220 [==============================] - 6s 29ms/step - loss: 1.1413 - accuracy: 0.7198\n",
            "Epoch 104/200\n",
            "220/220 [==============================] - 6s 29ms/step - loss: 1.1250 - accuracy: 0.7190\n",
            "Epoch 105/200\n",
            "220/220 [==============================] - 6s 29ms/step - loss: 1.1237 - accuracy: 0.7185\n",
            "Epoch 106/200\n",
            "220/220 [==============================] - 6s 29ms/step - loss: 1.1022 - accuracy: 0.7253\n",
            "Epoch 107/200\n",
            "220/220 [==============================] - 6s 28ms/step - loss: 1.0832 - accuracy: 0.7268\n",
            "Epoch 108/200\n",
            "220/220 [==============================] - 6s 28ms/step - loss: 1.0817 - accuracy: 0.7289\n",
            "Epoch 109/200\n",
            "220/220 [==============================] - 6s 29ms/step - loss: 1.0640 - accuracy: 0.7341\n",
            "Epoch 110/200\n",
            "220/220 [==============================] - 6s 28ms/step - loss: 1.0789 - accuracy: 0.7257\n",
            "Epoch 111/200\n",
            "220/220 [==============================] - 6s 29ms/step - loss: 1.0680 - accuracy: 0.7298\n",
            "Epoch 112/200\n",
            "220/220 [==============================] - 6s 28ms/step - loss: 1.0267 - accuracy: 0.7392\n",
            "Epoch 113/200\n",
            "220/220 [==============================] - 6s 28ms/step - loss: 1.0534 - accuracy: 0.7359\n",
            "Epoch 114/200\n",
            "220/220 [==============================] - 6s 29ms/step - loss: 1.0325 - accuracy: 0.7361\n",
            "Epoch 115/200\n",
            "220/220 [==============================] - 6s 28ms/step - loss: 1.0175 - accuracy: 0.7447\n",
            "Epoch 116/200\n",
            "220/220 [==============================] - 6s 29ms/step - loss: 1.0310 - accuracy: 0.7382\n",
            "Epoch 117/200\n",
            "220/220 [==============================] - 6s 29ms/step - loss: 1.0306 - accuracy: 0.7380\n",
            "Epoch 118/200\n",
            "220/220 [==============================] - 6s 28ms/step - loss: 1.0273 - accuracy: 0.7385\n",
            "Epoch 119/200\n",
            "220/220 [==============================] - 6s 28ms/step - loss: 1.0061 - accuracy: 0.7455\n",
            "Epoch 120/200\n",
            "220/220 [==============================] - 6s 29ms/step - loss: 1.0130 - accuracy: 0.7428\n",
            "Epoch 121/200\n",
            "220/220 [==============================] - 6s 29ms/step - loss: 1.0122 - accuracy: 0.7415\n",
            "Epoch 122/200\n",
            "220/220 [==============================] - 6s 29ms/step - loss: 0.9898 - accuracy: 0.7484\n",
            "Epoch 123/200\n",
            "220/220 [==============================] - 6s 28ms/step - loss: 0.9798 - accuracy: 0.7528\n",
            "Epoch 124/200\n",
            "220/220 [==============================] - 6s 29ms/step - loss: 0.9714 - accuracy: 0.7523\n",
            "Epoch 125/200\n",
            "220/220 [==============================] - 6s 29ms/step - loss: 0.9553 - accuracy: 0.7613\n",
            "Epoch 126/200\n",
            "220/220 [==============================] - 6s 29ms/step - loss: 0.9558 - accuracy: 0.7574\n",
            "Epoch 127/200\n",
            "220/220 [==============================] - 6s 29ms/step - loss: 0.9494 - accuracy: 0.7624\n",
            "Epoch 128/200\n",
            "220/220 [==============================] - 6s 28ms/step - loss: 0.9551 - accuracy: 0.7559\n",
            "Epoch 129/200\n",
            "220/220 [==============================] - 6s 29ms/step - loss: 0.9432 - accuracy: 0.7585\n",
            "Epoch 130/200\n",
            "220/220 [==============================] - 6s 29ms/step - loss: 0.9608 - accuracy: 0.7547\n",
            "Epoch 131/200\n",
            "220/220 [==============================] - 6s 28ms/step - loss: 0.9505 - accuracy: 0.7570\n",
            "Epoch 132/200\n",
            "220/220 [==============================] - 6s 29ms/step - loss: 0.9235 - accuracy: 0.7651\n",
            "Epoch 133/200\n",
            "220/220 [==============================] - 6s 29ms/step - loss: 0.9200 - accuracy: 0.7674\n",
            "Epoch 134/200\n",
            "220/220 [==============================] - 6s 28ms/step - loss: 0.9376 - accuracy: 0.7610\n",
            "Epoch 135/200\n",
            "220/220 [==============================] - 6s 29ms/step - loss: 0.9154 - accuracy: 0.7639\n",
            "Epoch 136/200\n",
            "220/220 [==============================] - 6s 29ms/step - loss: 0.9186 - accuracy: 0.7651\n",
            "Epoch 137/200\n",
            "220/220 [==============================] - 6s 29ms/step - loss: 0.9007 - accuracy: 0.7683\n",
            "Epoch 138/200\n",
            "220/220 [==============================] - 6s 28ms/step - loss: 0.9016 - accuracy: 0.7695\n",
            "Epoch 139/200\n",
            "220/220 [==============================] - 6s 28ms/step - loss: 0.8958 - accuracy: 0.7673\n",
            "Epoch 140/200\n",
            "220/220 [==============================] - 6s 29ms/step - loss: 0.9132 - accuracy: 0.7665\n",
            "Epoch 141/200\n",
            "220/220 [==============================] - 6s 29ms/step - loss: 0.8992 - accuracy: 0.7681\n",
            "Epoch 142/200\n",
            "220/220 [==============================] - 6s 29ms/step - loss: 0.8901 - accuracy: 0.7699\n",
            "Epoch 143/200\n",
            "220/220 [==============================] - 6s 29ms/step - loss: 0.8883 - accuracy: 0.7720\n",
            "Epoch 144/200\n",
            "220/220 [==============================] - 6s 29ms/step - loss: 0.8754 - accuracy: 0.7771\n",
            "Epoch 145/200\n",
            "220/220 [==============================] - 6s 29ms/step - loss: 0.8852 - accuracy: 0.7748\n",
            "Epoch 146/200\n",
            "220/220 [==============================] - 6s 29ms/step - loss: 0.8708 - accuracy: 0.7747\n",
            "Epoch 147/200\n",
            "220/220 [==============================] - 6s 29ms/step - loss: 0.8662 - accuracy: 0.7775\n",
            "Epoch 148/200\n",
            "220/220 [==============================] - 6s 29ms/step - loss: 0.8713 - accuracy: 0.7739\n",
            "Epoch 149/200\n",
            "220/220 [==============================] - 6s 29ms/step - loss: 0.8799 - accuracy: 0.7714\n",
            "Epoch 150/200\n",
            "220/220 [==============================] - 6s 28ms/step - loss: 0.8600 - accuracy: 0.7773\n",
            "Epoch 151/200\n",
            "220/220 [==============================] - 6s 29ms/step - loss: 0.8323 - accuracy: 0.7810\n",
            "Epoch 152/200\n",
            "220/220 [==============================] - 6s 29ms/step - loss: 0.8599 - accuracy: 0.7820\n",
            "Epoch 153/200\n",
            "220/220 [==============================] - 6s 29ms/step - loss: 0.8504 - accuracy: 0.7795\n",
            "Epoch 154/200\n",
            "220/220 [==============================] - 6s 29ms/step - loss: 0.8604 - accuracy: 0.7746\n",
            "Epoch 155/200\n",
            "220/220 [==============================] - 7s 30ms/step - loss: 0.8452 - accuracy: 0.7811\n",
            "Epoch 156/200\n",
            "220/220 [==============================] - 6s 29ms/step - loss: 0.8399 - accuracy: 0.7837\n",
            "Epoch 157/200\n",
            "220/220 [==============================] - 6s 29ms/step - loss: 0.8468 - accuracy: 0.7814\n",
            "Epoch 158/200\n",
            "220/220 [==============================] - 6s 29ms/step - loss: 0.8210 - accuracy: 0.7866\n",
            "Epoch 159/200\n",
            "220/220 [==============================] - 6s 29ms/step - loss: 0.8207 - accuracy: 0.7867\n",
            "Epoch 160/200\n",
            "220/220 [==============================] - 6s 30ms/step - loss: 0.8496 - accuracy: 0.7817\n",
            "Epoch 161/200\n",
            "220/220 [==============================] - 6s 29ms/step - loss: 0.8277 - accuracy: 0.7868\n",
            "Epoch 162/200\n",
            "220/220 [==============================] - 6s 29ms/step - loss: 0.8183 - accuracy: 0.7865\n",
            "Epoch 163/200\n",
            "220/220 [==============================] - 6s 29ms/step - loss: 0.8120 - accuracy: 0.7901\n",
            "Epoch 164/200\n",
            "220/220 [==============================] - 7s 30ms/step - loss: 0.8387 - accuracy: 0.7823\n",
            "Epoch 165/200\n",
            "220/220 [==============================] - 6s 29ms/step - loss: 0.8136 - accuracy: 0.7889\n",
            "Epoch 166/200\n",
            "220/220 [==============================] - 6s 30ms/step - loss: 0.8329 - accuracy: 0.7858\n",
            "Epoch 167/200\n",
            "220/220 [==============================] - 6s 29ms/step - loss: 0.8194 - accuracy: 0.7888\n",
            "Epoch 168/200\n",
            "220/220 [==============================] - 6s 29ms/step - loss: 0.8138 - accuracy: 0.7914\n",
            "Epoch 169/200\n",
            "220/220 [==============================] - 6s 29ms/step - loss: 0.8224 - accuracy: 0.7861\n",
            "Epoch 170/200\n",
            "220/220 [==============================] - 6s 29ms/step - loss: 0.8088 - accuracy: 0.7895\n",
            "Epoch 171/200\n",
            "220/220 [==============================] - 7s 30ms/step - loss: 0.7999 - accuracy: 0.7930\n",
            "Epoch 172/200\n",
            "220/220 [==============================] - 6s 29ms/step - loss: 0.7940 - accuracy: 0.7927\n",
            "Epoch 173/200\n",
            "220/220 [==============================] - 7s 30ms/step - loss: 0.7956 - accuracy: 0.7930\n",
            "Epoch 174/200\n",
            "220/220 [==============================] - 6s 29ms/step - loss: 0.8004 - accuracy: 0.7920\n",
            "Epoch 175/200\n",
            "220/220 [==============================] - 6s 29ms/step - loss: 0.7890 - accuracy: 0.7948\n",
            "Epoch 176/200\n",
            "220/220 [==============================] - 6s 29ms/step - loss: 0.7654 - accuracy: 0.7985\n",
            "Epoch 177/200\n",
            "220/220 [==============================] - 6s 29ms/step - loss: 0.7797 - accuracy: 0.7990\n",
            "Epoch 178/200\n",
            "220/220 [==============================] - 6s 29ms/step - loss: 0.7970 - accuracy: 0.7923\n",
            "Epoch 179/200\n",
            "220/220 [==============================] - 6s 29ms/step - loss: 0.7912 - accuracy: 0.7954\n",
            "Epoch 180/200\n",
            "220/220 [==============================] - 6s 29ms/step - loss: 0.8155 - accuracy: 0.7877\n",
            "Epoch 181/200\n",
            "220/220 [==============================] - 6s 29ms/step - loss: 0.7825 - accuracy: 0.7966\n",
            "Epoch 182/200\n",
            "220/220 [==============================] - 6s 29ms/step - loss: 0.7831 - accuracy: 0.7933\n",
            "Epoch 183/200\n",
            "220/220 [==============================] - 6s 29ms/step - loss: 0.7844 - accuracy: 0.7956\n",
            "Epoch 184/200\n",
            "220/220 [==============================] - 7s 30ms/step - loss: 0.7693 - accuracy: 0.7978\n",
            "Epoch 185/200\n",
            "220/220 [==============================] - 7s 30ms/step - loss: 0.8012 - accuracy: 0.7898\n",
            "Epoch 186/200\n",
            "220/220 [==============================] - 6s 29ms/step - loss: 0.7794 - accuracy: 0.7976\n",
            "Epoch 187/200\n",
            "220/220 [==============================] - 6s 29ms/step - loss: 0.7840 - accuracy: 0.7964\n",
            "Epoch 188/200\n",
            "220/220 [==============================] - 6s 30ms/step - loss: 0.7520 - accuracy: 0.8031\n",
            "Epoch 189/200\n",
            "220/220 [==============================] - 7s 30ms/step - loss: 0.7660 - accuracy: 0.8004\n",
            "Epoch 190/200\n",
            "220/220 [==============================] - 6s 29ms/step - loss: 0.7807 - accuracy: 0.7964\n",
            "Epoch 191/200\n",
            "220/220 [==============================] - 6s 29ms/step - loss: 0.7893 - accuracy: 0.7915\n",
            "Epoch 192/200\n",
            "220/220 [==============================] - 6s 29ms/step - loss: 0.7751 - accuracy: 0.7968\n",
            "Epoch 193/200\n",
            "220/220 [==============================] - 6s 29ms/step - loss: 0.7676 - accuracy: 0.7966\n",
            "Epoch 194/200\n",
            "220/220 [==============================] - 6s 29ms/step - loss: 0.7948 - accuracy: 0.7933\n",
            "Epoch 195/200\n",
            "220/220 [==============================] - 6s 29ms/step - loss: 0.7713 - accuracy: 0.7970\n",
            "Epoch 196/200\n",
            "220/220 [==============================] - 6s 29ms/step - loss: 0.7575 - accuracy: 0.8005\n",
            "Epoch 197/200\n",
            "220/220 [==============================] - 6s 29ms/step - loss: 0.7719 - accuracy: 0.7965\n",
            "Epoch 198/200\n",
            "220/220 [==============================] - 6s 29ms/step - loss: 0.7513 - accuracy: 0.8007\n",
            "Epoch 199/200\n",
            "220/220 [==============================] - 6s 29ms/step - loss: 0.7611 - accuracy: 0.8025\n",
            "Epoch 200/200\n",
            "220/220 [==============================] - 6s 29ms/step - loss: 0.7613 - accuracy: 0.8029\n"
          ],
          "name": "stdout"
        }
      ]
    },
    {
      "cell_type": "code",
      "metadata": {
        "colab": {
          "base_uri": "https://localhost:8080/",
          "height": 551
        },
        "id": "Hr-WfS1-5STQ",
        "outputId": "1f979858-8e75-4d72-ba8c-44eafe3381e1"
      },
      "source": [
        "acc = history.history['accuracy']\n",
        "loss = history.history['loss']\n",
        "\n",
        "epochs = range(len(acc))\n",
        "\n",
        "plt.plot(epochs, acc, 'b', label='Training accuracy')\n",
        "plt.title('Training accuracy')\n",
        "\n",
        "plt.figure()\n",
        "\n",
        "plt.plot(epochs, loss, 'b', label='Training Loss')\n",
        "plt.title('Training loss')\n",
        "plt.legend()\n",
        "\n",
        "plt.show()"
      ],
      "execution_count": null,
      "outputs": [
        {
          "output_type": "display_data",
          "data": {
            "image/png": "[encoded data removed]",
            "text/plain": [
              "<Figure size 432x288 with 1 Axes>"
            ]
          },
          "metadata": {
            "tags": []
          }
        },
        {
          "output_type": "display_data",
          "data": {
            "image/png": "[encoded data removed]",
            "text/plain": [
              "<Figure size 432x288 with 1 Axes>"
            ]
          },
          "metadata": {
            "tags": []
          }
        }
      ]
    },
    {
      "cell_type": "code",
      "metadata": {
        "id": "SruG36Wn5-GX",
        "colab": {
          "base_uri": "https://localhost:8080/"
        },
        "outputId": "f8e5c594-bb1d-4e8d-b44a-8c150d7f1c4d"
      },
      "source": [
        "model.save('/content/model')"
      ],
      "execution_count": null,
      "outputs": [
        {
          "output_type": "stream",
          "text": [
            "WARNING:absl:Found untraced functions such as lstm_cell_75_layer_call_fn, lstm_cell_75_layer_call_and_return_conditional_losses, lstm_cell_76_layer_call_fn, lstm_cell_76_layer_call_and_return_conditional_losses, lstm_cell_73_layer_call_fn while saving (showing 5 of 20). These functions will not be directly callable after loading.\n",
            "WARNING:absl:Found untraced functions such as lstm_cell_75_layer_call_fn, lstm_cell_75_layer_call_and_return_conditional_losses, lstm_cell_76_layer_call_fn, lstm_cell_76_layer_call_and_return_conditional_losses, lstm_cell_73_layer_call_fn while saving (showing 5 of 20). These functions will not be directly callable after loading.\n"
          ],
          "name": "stderr"
        },
        {
          "output_type": "stream",
          "text": [
            "INFO:tensorflow:Assets written to: /content/model/assets\n"
          ],
          "name": "stdout"
        },
        {
          "output_type": "stream",
          "text": [
            "INFO:tensorflow:Assets written to: /content/model/assets\n"
          ],
          "name": "stderr"
        }
      ]
    },
    {
      "cell_type": "code",
      "metadata": {
        "colab": {
          "base_uri": "https://localhost:8080/"
        },
        "id": "NvQh88Jwiky2",
        "outputId": "84ba29b7-6a48-46be-ff5b-16f7d9222310"
      },
      "source": [
        "!zip -r /content/model-poetry-generator-ptbrV1.zip /content/model"
      ],
      "execution_count": null,
      "outputs": [
        {
          "output_type": "stream",
          "text": [
            "  adding: content/model/ (stored 0%)\n",
            "  adding: content/model/variables/ (stored 0%)\n",
            "  adding: content/model/variables/variables.index (deflated 68%)\n",
            "  adding: content/model/variables/variables.data-00000-of-00001 (deflated 31%)\n",
            "  adding: content/model/saved_model.pb (deflated 90%)\n",
            "  adding: content/model/assets/ (stored 0%)\n"
          ],
          "name": "stdout"
        }
      ]
    },
    {
      "cell_type": "code",
      "metadata": {
        "id": "BDB_vUiciU1N"
      },
      "source": [
        "model.save_weights('poetry-generator-ptbrV1.h5')"
      ],
      "execution_count": null,
      "outputs": []
    },
    {
      "cell_type": "code",
      "metadata": {
        "colab": {
          "base_uri": "https://localhost:8080/"
        },
        "id": "58gEXQ_x5YqI",
        "outputId": "0117f536-0e8b-4e40-92cc-e9ddc4162c72"
      },
      "source": [
        "#seed_text = \"Minha alma\"\n",
        "#seed_text = 'Nenhuma quantidade de liberdade'\n",
        "seed_text = 'Água mole em pedra dura'\n",
        "#seed_text = 'Os olhos dela brilhavam como o sol'\n",
        "\n",
        "next_words = 40\n",
        "  \n",
        "for _ in range(next_words):\n",
        "    token_list = tokenizer.texts_to_sequences([seed_text])[0]\n",
        "    token_list = pad_sequences([token_list], maxlen=max_sequence_len-1, padding='pre')\n",
        "    predicted = np.argmax(model.predict(token_list), axis=-1)\n",
        "    #predicted = model.predict_classes(token_list, verbose=0)\n",
        "    output_word = \"\"\n",
        "    for word, index in tokenizer.word_index.items():\n",
        "        if index == predicted:\n",
        "            output_word = word\n",
        "            break\n",
        "    seed_text += \" \" + output_word\n",
        "\n",
        "seed_text = seed_text.replace(\" .\", \".\").replace(\" ,\", \",\").replace(\" !\", \"!\").replace(\" ?\", \"?\").replace(\" :\", \":\")\n",
        "\n",
        "print(seed_text)"
      ],
      "execution_count": null,
      "outputs": [
        {
          "output_type": "stream",
          "text": [
            "Água mole em pedra dura que tão bafejados o teu nome é como o arvoredo puro que sejas! avara sabe da china ou do indostão bem cabe a vaga humano? lhe ouriçava tão males que desastres vimos que lhe sentimento para devia sobe\n"
          ],
          "name": "stdout"
        }
      ]
    }
  ]
}