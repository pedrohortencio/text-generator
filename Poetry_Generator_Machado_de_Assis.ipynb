{
  "nbformat": 4,
  "nbformat_minor": 0,
  "metadata": {
    "colab": {
      "name": "Poetry Generator - Machado de Assis.ipynb",
      "provenance": [],
      "collapsed_sections": [],
      "authorship_tag": "ABX9TyPqLYU1W4deDhJrQMECZ9cL",
      "include_colab_link": true
    },
    "kernelspec": {
      "name": "python3",
      "display_name": "Python 3"
    },
    "language_info": {
      "name": "python"
    },
    "accelerator": "GPU"
  },
  "cells": [
    {
      "cell_type": "markdown",
      "metadata": {
        "id": "view-in-github",
        "colab_type": "text"
      },
      "source": [
        "<a href=\"https://colab.research.google.com/github/pedrohortencio/text-generator/blob/main/Poetry_Generator_Machado_de_Assis.ipynb\" target=\"_parent\"><img src=\"https://colab.research.google.com/assets/colab-badge.svg\" alt=\"Open In Colab\"/></a>"
      ]
    },
    {
      "cell_type": "code",
      "metadata": {
        "id": "3iDACBl4jC__"
      },
      "source": [
        "import numpy as np                  \n",
        "import pandas as pd\n",
        "import matplotlib.pyplot as plt\n",
        "import pickle\n",
        "import regex as re\n",
        "\n",
        "from tensorflow.keras.preprocessing.sequence import pad_sequences\n",
        "from tensorflow.keras.layers import Embedding, LSTM, Dense, Dropout, Bidirectional\n",
        "from tensorflow.keras.preprocessing.text import Tokenizer\n",
        "from tensorflow.keras.models import Sequential\n",
        "from tensorflow.keras.optimizers import Adam\n",
        "from tensorflow.keras import regularizers\n",
        "import tensorflow.keras.utils as ku"
      ],
      "execution_count": null,
      "outputs": []
    },
    {
      "cell_type": "code",
      "metadata": {
        "id": "mJw6W49Oi_Mf"
      },
      "source": [
        "!pip install -q kaggle\n",
        "\n",
        "!mkdir -p ~/.kaggle\n",
        "!cp kaggle.json ~/.kaggle/\n",
        "!ls ~/.kaggle\n",
        "\n",
        "!kaggle datasets download -d luxedo/machado-de-assis\n",
        "\n",
        "!unzip /content/machado-de-assis.zip"
      ],
      "execution_count": null,
      "outputs": []
    },
    {
      "cell_type": "code",
      "metadata": {
        "id": "SQg678Vo1m0l"
      },
      "source": [
        "data = open('/content/raw/txt/poesia/ocidentais.txt').read()\n",
        "corpus1 = data.lower().split(\"\\n\")\n",
        "corpus1 = corpus1[28:]    # Sem o índice\n",
        "\n",
        "data = open('/content/raw/txt/poesia/crisalidas.txt').read()\n",
        "corpus2 = data.lower().split(\"\\n\")\n",
        "corpus2 = corpus2[34:2089]\n",
        "\n",
        "data = open('/content/raw/txt/poesia/almada.txt').read()\n",
        "corpus3 = data.lower().split(\"\\n\")\n",
        "corpus3 = corpus3[100:2518]\n",
        "\n",
        "data = open('/content/raw/txt/poesia/gazeta.txt').read()\n",
        "corpus4 = data.lower().split(\"\\n\")\n",
        "corpus4 = corpus4[4:4455]\n",
        "\n",
        "\n",
        "corpus = corpus1 + corpus2 + corpus3 + corpus4"
      ],
      "execution_count": null,
      "outputs": []
    },
    {
      "cell_type": "code",
      "metadata": {
        "colab": {
          "base_uri": "https://localhost:8080/"
        },
        "id": "vEi_7C_iBXNM",
        "outputId": "1984017a-471b-40aa-b227-334f068e8026"
      },
      "source": [
        "#filters='!\"#$%&()*+,-./:;<=>?@[\\\\]^_`{|}~\\t\\n'\n",
        "\n",
        "to_exclude = '\"#$%&()*+,-./:;<=>@[\\\\]^_`{|}~\\t\\n'\n",
        "to_tokenize = '!?'\n",
        "\n",
        "corpus = [text.replace(\"-\", \"\") for text in corpus]\n",
        "\n",
        "corpus = [re.sub(r'(['+to_tokenize+'])', r' \\1 ', i) for i in corpus]\n",
        "\n",
        "tokenizer = Tokenizer(filters=to_exclude)\n",
        "tokenizer.fit_on_texts(corpus)\n",
        "\n",
        "total_words = len(tokenizer.word_index) + 1\n",
        "\n",
        "print(len(tokenizer.word_index))"
      ],
      "execution_count": null,
      "outputs": [
        {
          "output_type": "stream",
          "text": [
            "10922\n"
          ],
          "name": "stdout"
        }
      ]
    },
    {
      "cell_type": "code",
      "metadata": {
        "id": "qgReOka053rJ"
      },
      "source": [
        "with open('tokenizer.pickle', 'wb') as handle:\n",
        "    pickle.dump(tokenizer, handle, protocol=pickle.HIGHEST_PROTOCOL)"
      ],
      "execution_count": null,
      "outputs": []
    },
    {
      "cell_type": "code",
      "metadata": {
        "id": "cD0cXFXm3jGe"
      },
      "source": [
        "# create input sequences using list of tokens\n",
        "input_sequences = []\n",
        "for line in corpus:\n",
        "\ttoken_list = tokenizer.texts_to_sequences([line])[0]\n",
        "\tfor i in range(1, len(token_list)):\n",
        "\t\tn_gram_sequence = token_list[:i+1]\n",
        "\t\tinput_sequences.append(n_gram_sequence)\n",
        "\n",
        "# pad sequences \n",
        "max_sequence_len = max([len(x) for x in input_sequences])\n",
        "input_sequences = np.array(pad_sequences(input_sequences, maxlen=max_sequence_len, padding='pre'))\n",
        "\n",
        "# create predictors and label\n",
        "predictors, label = input_sequences[:,:-1],input_sequences[:,-1]\n",
        "\n",
        "label = ku.to_categorical(label, num_classes=total_words)"
      ],
      "execution_count": null,
      "outputs": []
    },
    {
      "cell_type": "code",
      "metadata": {
        "id": "2o_8PVsZ5O17"
      },
      "source": [
        "model = Sequential()\n",
        "model.add(Embedding(total_words, 100, input_length=max_sequence_len-1))\n",
        "\n",
        "model.add(Bidirectional(LSTM(256, return_sequences = True)))\n",
        "#model.add(LSTM(200, return_sequences=True))\n",
        "#model.add(Dropout(0.2))\n",
        "\n",
        "#model.add(Bidirectional(LSTM(100, return_sequences = True)))\n",
        "model.add(LSTM(256, return_sequences=True))\n",
        "#model.add(Dropout(0.2))\n",
        "model.add(LSTM(128))\n",
        "\n",
        "#model.add(Dense(total_words/6, activation='relu'))\n",
        "model.add(Dense(total_words, activation='softmax'))\n",
        "\n",
        "model.compile(loss='categorical_crossentropy', optimizer='adam', metrics=['accuracy'])\n",
        "print(model.summary())"
      ],
      "execution_count": null,
      "outputs": []
    },
    {
      "cell_type": "code",
      "metadata": {
        "colab": {
          "base_uri": "https://localhost:8080/"
        },
        "id": "3m5LEgKI5Ql4",
        "outputId": "e1c7c718-2603-42e9-b84b-5504b7c8049e"
      },
      "source": [
        "history = model.fit(predictors, label, batch_size=256,epochs=200) "
      ],
      "execution_count": null,
      "outputs": [
        {
          "output_type": "stream",
          "text": [
            "Epoch 1/200\n",
            "174/174 [==============================] - 6s 35ms/step - loss: 7.3421 - accuracy: 0.0353\n",
            "Epoch 2/200\n",
            "174/174 [==============================] - 6s 34ms/step - loss: 7.3338 - accuracy: 0.0357\n",
            "Epoch 3/200\n",
            "174/174 [==============================] - 6s 34ms/step - loss: 7.3303 - accuracy: 0.0349\n",
            "Epoch 4/200\n",
            "174/174 [==============================] - 6s 34ms/step - loss: 7.2804 - accuracy: 0.0347\n",
            "Epoch 5/200\n",
            "174/174 [==============================] - 6s 34ms/step - loss: 7.1622 - accuracy: 0.0407\n",
            "Epoch 6/200\n",
            "174/174 [==============================] - 6s 34ms/step - loss: 7.0101 - accuracy: 0.0469\n",
            "Epoch 7/200\n",
            "174/174 [==============================] - 6s 34ms/step - loss: 6.8880 - accuracy: 0.0504\n",
            "Epoch 8/200\n",
            "174/174 [==============================] - 6s 34ms/step - loss: 6.7849 - accuracy: 0.0529\n",
            "Epoch 9/200\n",
            "174/174 [==============================] - 6s 35ms/step - loss: 6.6897 - accuracy: 0.0599\n",
            "Epoch 10/200\n",
            "174/174 [==============================] - 6s 35ms/step - loss: 6.5945 - accuracy: 0.0679\n",
            "Epoch 11/200\n",
            "174/174 [==============================] - 6s 35ms/step - loss: 6.5011 - accuracy: 0.0750\n",
            "Epoch 12/200\n",
            "174/174 [==============================] - 6s 35ms/step - loss: 6.4179 - accuracy: 0.0800\n",
            "Epoch 13/200\n",
            "174/174 [==============================] - 6s 35ms/step - loss: 6.3421 - accuracy: 0.0862\n",
            "Epoch 14/200\n",
            "174/174 [==============================] - 6s 35ms/step - loss: 6.2619 - accuracy: 0.0913\n",
            "Epoch 15/200\n",
            "174/174 [==============================] - 6s 35ms/step - loss: 6.1892 - accuracy: 0.0960\n",
            "Epoch 16/200\n",
            "174/174 [==============================] - 6s 35ms/step - loss: 6.1211 - accuracy: 0.1024\n",
            "Epoch 17/200\n",
            "174/174 [==============================] - 6s 35ms/step - loss: 6.0577 - accuracy: 0.1053\n",
            "Epoch 18/200\n",
            "174/174 [==============================] - 6s 34ms/step - loss: 5.9975 - accuracy: 0.1101\n",
            "Epoch 19/200\n",
            "174/174 [==============================] - 6s 34ms/step - loss: 5.9366 - accuracy: 0.1140\n",
            "Epoch 20/200\n",
            "174/174 [==============================] - 6s 35ms/step - loss: 5.8781 - accuracy: 0.1177\n",
            "Epoch 21/200\n",
            "174/174 [==============================] - 6s 35ms/step - loss: 5.8230 - accuracy: 0.1209\n",
            "Epoch 22/200\n",
            "174/174 [==============================] - 6s 35ms/step - loss: 5.7678 - accuracy: 0.1233\n",
            "Epoch 23/200\n",
            "174/174 [==============================] - 6s 35ms/step - loss: 5.7110 - accuracy: 0.1256\n",
            "Epoch 24/200\n",
            "174/174 [==============================] - 6s 35ms/step - loss: 5.6602 - accuracy: 0.1274\n",
            "Epoch 25/200\n",
            "174/174 [==============================] - 6s 35ms/step - loss: 5.6069 - accuracy: 0.1313\n",
            "Epoch 26/200\n",
            "174/174 [==============================] - 6s 34ms/step - loss: 5.5539 - accuracy: 0.1355\n",
            "Epoch 27/200\n",
            "174/174 [==============================] - 6s 35ms/step - loss: 5.5046 - accuracy: 0.1367\n",
            "Epoch 28/200\n",
            "174/174 [==============================] - 6s 35ms/step - loss: 5.4545 - accuracy: 0.1402\n",
            "Epoch 29/200\n",
            "174/174 [==============================] - 6s 35ms/step - loss: 5.4043 - accuracy: 0.1432\n",
            "Epoch 30/200\n",
            "174/174 [==============================] - 6s 35ms/step - loss: 5.3578 - accuracy: 0.1446\n",
            "Epoch 31/200\n",
            "174/174 [==============================] - 6s 35ms/step - loss: 5.3128 - accuracy: 0.1469\n",
            "Epoch 32/200\n",
            "174/174 [==============================] - 6s 35ms/step - loss: 5.2612 - accuracy: 0.1501\n",
            "Epoch 33/200\n",
            "174/174 [==============================] - 6s 35ms/step - loss: 5.2180 - accuracy: 0.1531\n",
            "Epoch 34/200\n",
            "174/174 [==============================] - 6s 35ms/step - loss: 5.1727 - accuracy: 0.1545\n",
            "Epoch 35/200\n",
            "174/174 [==============================] - 6s 35ms/step - loss: 5.1299 - accuracy: 0.1553\n",
            "Epoch 36/200\n",
            "174/174 [==============================] - 6s 35ms/step - loss: 5.0857 - accuracy: 0.1594\n",
            "Epoch 37/200\n",
            "174/174 [==============================] - 6s 35ms/step - loss: 5.0394 - accuracy: 0.1601\n",
            "Epoch 38/200\n",
            "174/174 [==============================] - 6s 35ms/step - loss: 4.9982 - accuracy: 0.1636\n",
            "Epoch 39/200\n",
            "174/174 [==============================] - 6s 35ms/step - loss: 4.9536 - accuracy: 0.1670\n",
            "Epoch 40/200\n",
            "174/174 [==============================] - 6s 35ms/step - loss: 4.9099 - accuracy: 0.1676\n",
            "Epoch 41/200\n",
            "174/174 [==============================] - 6s 35ms/step - loss: 4.8688 - accuracy: 0.1704\n",
            "Epoch 42/200\n",
            "174/174 [==============================] - 6s 35ms/step - loss: 4.8297 - accuracy: 0.1728\n",
            "Epoch 43/200\n",
            "174/174 [==============================] - 6s 35ms/step - loss: 4.7875 - accuracy: 0.1738\n",
            "Epoch 44/200\n",
            "174/174 [==============================] - 6s 35ms/step - loss: 4.7449 - accuracy: 0.1779\n",
            "Epoch 45/200\n",
            "174/174 [==============================] - 6s 35ms/step - loss: 4.7029 - accuracy: 0.1798\n",
            "Epoch 46/200\n",
            "174/174 [==============================] - 6s 35ms/step - loss: 4.6588 - accuracy: 0.1821\n",
            "Epoch 47/200\n",
            "174/174 [==============================] - 6s 35ms/step - loss: 4.6140 - accuracy: 0.1862\n",
            "Epoch 48/200\n",
            "174/174 [==============================] - 6s 35ms/step - loss: 4.5749 - accuracy: 0.1872\n",
            "Epoch 49/200\n",
            "174/174 [==============================] - 6s 35ms/step - loss: 4.5340 - accuracy: 0.1899\n",
            "Epoch 50/200\n",
            "174/174 [==============================] - 6s 34ms/step - loss: 4.4864 - accuracy: 0.1931\n",
            "Epoch 51/200\n",
            "174/174 [==============================] - 6s 34ms/step - loss: 4.4426 - accuracy: 0.1969\n",
            "Epoch 52/200\n",
            "174/174 [==============================] - 6s 35ms/step - loss: 4.4016 - accuracy: 0.1986\n",
            "Epoch 53/200\n",
            "174/174 [==============================] - 6s 35ms/step - loss: 4.3655 - accuracy: 0.2023\n",
            "Epoch 54/200\n",
            "174/174 [==============================] - 6s 35ms/step - loss: 4.3212 - accuracy: 0.2070\n",
            "Epoch 55/200\n",
            "174/174 [==============================] - 6s 36ms/step - loss: 4.2791 - accuracy: 0.2103\n",
            "Epoch 56/200\n",
            "174/174 [==============================] - 6s 35ms/step - loss: 4.2395 - accuracy: 0.2146\n",
            "Epoch 57/200\n",
            "174/174 [==============================] - 6s 35ms/step - loss: 4.2014 - accuracy: 0.2172\n",
            "Epoch 58/200\n",
            "174/174 [==============================] - 6s 35ms/step - loss: 4.1608 - accuracy: 0.2232\n",
            "Epoch 59/200\n",
            "174/174 [==============================] - 6s 35ms/step - loss: 4.1200 - accuracy: 0.2270\n",
            "Epoch 60/200\n",
            "174/174 [==============================] - 6s 36ms/step - loss: 4.0772 - accuracy: 0.2316\n",
            "Epoch 61/200\n",
            "174/174 [==============================] - 6s 35ms/step - loss: 4.0381 - accuracy: 0.2352\n",
            "Epoch 62/200\n",
            "174/174 [==============================] - 6s 36ms/step - loss: 4.0020 - accuracy: 0.2414\n",
            "Epoch 63/200\n",
            "174/174 [==============================] - 6s 35ms/step - loss: 3.9667 - accuracy: 0.2432\n",
            "Epoch 64/200\n",
            "174/174 [==============================] - 6s 36ms/step - loss: 3.9310 - accuracy: 0.2490\n",
            "Epoch 65/200\n",
            "174/174 [==============================] - 6s 35ms/step - loss: 3.8953 - accuracy: 0.2543\n",
            "Epoch 66/200\n",
            "174/174 [==============================] - 6s 35ms/step - loss: 3.8577 - accuracy: 0.2571\n",
            "Epoch 67/200\n",
            "174/174 [==============================] - 6s 35ms/step - loss: 3.8198 - accuracy: 0.2650\n",
            "Epoch 68/200\n",
            "174/174 [==============================] - 6s 35ms/step - loss: 3.7834 - accuracy: 0.2699\n",
            "Epoch 69/200\n",
            "174/174 [==============================] - 6s 35ms/step - loss: 3.7509 - accuracy: 0.2743\n",
            "Epoch 70/200\n",
            "174/174 [==============================] - 6s 35ms/step - loss: 3.7194 - accuracy: 0.2773\n",
            "Epoch 71/200\n",
            "174/174 [==============================] - 6s 35ms/step - loss: 3.6824 - accuracy: 0.2835\n",
            "Epoch 72/200\n",
            "174/174 [==============================] - 6s 35ms/step - loss: 3.6563 - accuracy: 0.2871\n",
            "Epoch 73/200\n",
            "174/174 [==============================] - 6s 35ms/step - loss: 3.6233 - accuracy: 0.2913\n",
            "Epoch 74/200\n",
            "174/174 [==============================] - 6s 35ms/step - loss: 3.5845 - accuracy: 0.2991\n",
            "Epoch 75/200\n",
            "174/174 [==============================] - 6s 35ms/step - loss: 3.5613 - accuracy: 0.3023\n",
            "Epoch 76/200\n",
            "174/174 [==============================] - 6s 35ms/step - loss: 3.5263 - accuracy: 0.3073\n",
            "Epoch 77/200\n",
            "174/174 [==============================] - 6s 35ms/step - loss: 3.4928 - accuracy: 0.3130\n",
            "Epoch 78/200\n",
            "174/174 [==============================] - 6s 35ms/step - loss: 3.4632 - accuracy: 0.3188\n",
            "Epoch 79/200\n",
            "174/174 [==============================] - 6s 35ms/step - loss: 3.4327 - accuracy: 0.3241\n",
            "Epoch 80/200\n",
            "174/174 [==============================] - 6s 35ms/step - loss: 3.4044 - accuracy: 0.3284\n",
            "Epoch 81/200\n",
            "174/174 [==============================] - 6s 35ms/step - loss: 3.3709 - accuracy: 0.3359\n",
            "Epoch 82/200\n",
            "174/174 [==============================] - 6s 35ms/step - loss: 3.3422 - accuracy: 0.3372\n",
            "Epoch 83/200\n",
            "174/174 [==============================] - 6s 35ms/step - loss: 3.3166 - accuracy: 0.3427\n",
            "Epoch 84/200\n",
            "174/174 [==============================] - 6s 35ms/step - loss: 3.2923 - accuracy: 0.3468\n",
            "Epoch 85/200\n",
            "174/174 [==============================] - 6s 35ms/step - loss: 3.2633 - accuracy: 0.3505\n",
            "Epoch 86/200\n",
            "174/174 [==============================] - 6s 35ms/step - loss: 3.2342 - accuracy: 0.3580\n",
            "Epoch 87/200\n",
            "174/174 [==============================] - 6s 35ms/step - loss: 3.2041 - accuracy: 0.3616\n",
            "Epoch 88/200\n",
            "174/174 [==============================] - 6s 35ms/step - loss: 3.1716 - accuracy: 0.3678\n",
            "Epoch 89/200\n",
            "174/174 [==============================] - 6s 35ms/step - loss: 3.1477 - accuracy: 0.3729\n",
            "Epoch 90/200\n",
            "174/174 [==============================] - 6s 35ms/step - loss: 3.1279 - accuracy: 0.3754\n",
            "Epoch 91/200\n",
            "174/174 [==============================] - 6s 36ms/step - loss: 3.0944 - accuracy: 0.3827\n",
            "Epoch 92/200\n",
            "174/174 [==============================] - 6s 36ms/step - loss: 3.0682 - accuracy: 0.3864\n",
            "Epoch 93/200\n",
            "174/174 [==============================] - 6s 35ms/step - loss: 3.0381 - accuracy: 0.3918\n",
            "Epoch 94/200\n",
            "174/174 [==============================] - 6s 36ms/step - loss: 3.0097 - accuracy: 0.3961\n",
            "Epoch 95/200\n",
            "174/174 [==============================] - 6s 35ms/step - loss: 2.9839 - accuracy: 0.4027\n",
            "Epoch 96/200\n",
            "174/174 [==============================] - 6s 35ms/step - loss: 2.9644 - accuracy: 0.4044\n",
            "Epoch 97/200\n",
            "174/174 [==============================] - 6s 35ms/step - loss: 2.9419 - accuracy: 0.4101\n",
            "Epoch 98/200\n",
            "174/174 [==============================] - 6s 35ms/step - loss: 2.9240 - accuracy: 0.4144\n",
            "Epoch 99/200\n",
            "174/174 [==============================] - 6s 36ms/step - loss: 2.8941 - accuracy: 0.4191\n",
            "Epoch 100/200\n",
            "174/174 [==============================] - 6s 35ms/step - loss: 2.8709 - accuracy: 0.4202\n",
            "Epoch 101/200\n",
            "174/174 [==============================] - 6s 35ms/step - loss: 2.8419 - accuracy: 0.4284\n",
            "Epoch 102/200\n",
            "174/174 [==============================] - 6s 36ms/step - loss: 2.8124 - accuracy: 0.4344\n",
            "Epoch 103/200\n",
            "174/174 [==============================] - 6s 36ms/step - loss: 2.7907 - accuracy: 0.4379\n",
            "Epoch 104/200\n",
            "174/174 [==============================] - 6s 35ms/step - loss: 2.7697 - accuracy: 0.4423\n",
            "Epoch 105/200\n",
            "174/174 [==============================] - 6s 35ms/step - loss: 2.7474 - accuracy: 0.4456\n",
            "Epoch 106/200\n",
            "174/174 [==============================] - 6s 35ms/step - loss: 2.7223 - accuracy: 0.4511\n",
            "Epoch 107/200\n",
            "174/174 [==============================] - 6s 35ms/step - loss: 2.6970 - accuracy: 0.4561\n",
            "Epoch 108/200\n",
            "174/174 [==============================] - 6s 36ms/step - loss: 2.6745 - accuracy: 0.4604\n",
            "Epoch 109/200\n",
            "174/174 [==============================] - 6s 36ms/step - loss: 2.6577 - accuracy: 0.4636\n",
            "Epoch 110/200\n",
            "174/174 [==============================] - 6s 35ms/step - loss: 2.6338 - accuracy: 0.4681\n",
            "Epoch 111/200\n",
            "174/174 [==============================] - 6s 35ms/step - loss: 2.6091 - accuracy: 0.4735\n",
            "Epoch 112/200\n",
            "174/174 [==============================] - 6s 35ms/step - loss: 2.5857 - accuracy: 0.4786\n",
            "Epoch 113/200\n",
            "174/174 [==============================] - 6s 36ms/step - loss: 2.5685 - accuracy: 0.4811\n",
            "Epoch 114/200\n",
            "174/174 [==============================] - 6s 35ms/step - loss: 2.5511 - accuracy: 0.4832\n",
            "Epoch 115/200\n",
            "174/174 [==============================] - 6s 35ms/step - loss: 2.5328 - accuracy: 0.4880\n",
            "Epoch 116/200\n",
            "174/174 [==============================] - 6s 35ms/step - loss: 2.5075 - accuracy: 0.4915\n",
            "Epoch 117/200\n",
            "174/174 [==============================] - 6s 35ms/step - loss: 2.4840 - accuracy: 0.4973\n",
            "Epoch 118/200\n",
            "174/174 [==============================] - 6s 35ms/step - loss: 2.4598 - accuracy: 0.5028\n",
            "Epoch 119/200\n",
            "174/174 [==============================] - 6s 36ms/step - loss: 2.4416 - accuracy: 0.5065\n",
            "Epoch 120/200\n",
            "174/174 [==============================] - 6s 35ms/step - loss: 2.4179 - accuracy: 0.5103\n",
            "Epoch 121/200\n",
            "174/174 [==============================] - 6s 36ms/step - loss: 2.3962 - accuracy: 0.5156\n",
            "Epoch 122/200\n",
            "174/174 [==============================] - 6s 36ms/step - loss: 2.3779 - accuracy: 0.5204\n",
            "Epoch 123/200\n",
            "174/174 [==============================] - 6s 36ms/step - loss: 2.3672 - accuracy: 0.5194\n",
            "Epoch 124/200\n",
            "174/174 [==============================] - 6s 36ms/step - loss: 2.3459 - accuracy: 0.5252\n",
            "Epoch 125/200\n",
            "174/174 [==============================] - 6s 36ms/step - loss: 2.3236 - accuracy: 0.5285\n",
            "Epoch 126/200\n",
            "174/174 [==============================] - 6s 35ms/step - loss: 2.3085 - accuracy: 0.5310\n",
            "Epoch 127/200\n",
            "174/174 [==============================] - 6s 36ms/step - loss: 2.2909 - accuracy: 0.5354\n",
            "Epoch 128/200\n",
            "174/174 [==============================] - 6s 35ms/step - loss: 2.2688 - accuracy: 0.5403\n",
            "Epoch 129/200\n",
            "174/174 [==============================] - 6s 36ms/step - loss: 2.2490 - accuracy: 0.5432\n",
            "Epoch 130/200\n",
            "174/174 [==============================] - 6s 35ms/step - loss: 2.2321 - accuracy: 0.5465\n",
            "Epoch 131/200\n",
            "174/174 [==============================] - 6s 35ms/step - loss: 2.2110 - accuracy: 0.5512\n",
            "Epoch 132/200\n",
            "174/174 [==============================] - 6s 36ms/step - loss: 2.1913 - accuracy: 0.5543\n",
            "Epoch 133/200\n",
            "174/174 [==============================] - 6s 36ms/step - loss: 2.1717 - accuracy: 0.5599\n",
            "Epoch 134/200\n",
            "174/174 [==============================] - 6s 36ms/step - loss: 2.1488 - accuracy: 0.5657\n",
            "Epoch 135/200\n",
            "174/174 [==============================] - 6s 36ms/step - loss: 2.1348 - accuracy: 0.5683\n",
            "Epoch 136/200\n",
            "174/174 [==============================] - 6s 36ms/step - loss: 2.1173 - accuracy: 0.5710\n",
            "Epoch 137/200\n",
            "174/174 [==============================] - 6s 35ms/step - loss: 2.1018 - accuracy: 0.5733\n",
            "Epoch 138/200\n",
            "174/174 [==============================] - 6s 35ms/step - loss: 2.0957 - accuracy: 0.5741\n",
            "Epoch 139/200\n",
            "174/174 [==============================] - 6s 36ms/step - loss: 2.0792 - accuracy: 0.5772\n",
            "Epoch 140/200\n",
            "174/174 [==============================] - 6s 35ms/step - loss: 2.0611 - accuracy: 0.5824\n",
            "Epoch 141/200\n",
            "174/174 [==============================] - 6s 36ms/step - loss: 2.0424 - accuracy: 0.5861\n",
            "Epoch 142/200\n",
            "174/174 [==============================] - 6s 36ms/step - loss: 2.0167 - accuracy: 0.5902\n",
            "Epoch 143/200\n",
            "174/174 [==============================] - 6s 36ms/step - loss: 2.0008 - accuracy: 0.5941\n",
            "Epoch 144/200\n",
            "174/174 [==============================] - 6s 35ms/step - loss: 1.9906 - accuracy: 0.5967\n",
            "Epoch 145/200\n",
            "174/174 [==============================] - 6s 36ms/step - loss: 1.9774 - accuracy: 0.5986\n",
            "Epoch 146/200\n",
            "174/174 [==============================] - 6s 36ms/step - loss: 1.9553 - accuracy: 0.6047\n",
            "Epoch 147/200\n",
            "174/174 [==============================] - 6s 36ms/step - loss: 1.9506 - accuracy: 0.6039\n",
            "Epoch 148/200\n",
            "174/174 [==============================] - 6s 35ms/step - loss: 1.9382 - accuracy: 0.6052\n",
            "Epoch 149/200\n",
            "174/174 [==============================] - 6s 35ms/step - loss: 1.9128 - accuracy: 0.6128\n",
            "Epoch 150/200\n",
            "174/174 [==============================] - 6s 36ms/step - loss: 1.8923 - accuracy: 0.6169\n",
            "Epoch 151/200\n",
            "174/174 [==============================] - 6s 35ms/step - loss: 1.8776 - accuracy: 0.6199\n",
            "Epoch 152/200\n",
            "174/174 [==============================] - 6s 36ms/step - loss: 1.8698 - accuracy: 0.6205\n",
            "Epoch 153/200\n",
            "174/174 [==============================] - 6s 36ms/step - loss: 1.8491 - accuracy: 0.6250\n",
            "Epoch 154/200\n",
            "174/174 [==============================] - 6s 35ms/step - loss: 1.8356 - accuracy: 0.6265\n",
            "Epoch 155/200\n",
            "174/174 [==============================] - 6s 36ms/step - loss: 1.8249 - accuracy: 0.6287\n",
            "Epoch 156/200\n",
            "174/174 [==============================] - 6s 36ms/step - loss: 1.8104 - accuracy: 0.6331\n",
            "Epoch 157/200\n",
            "174/174 [==============================] - 6s 35ms/step - loss: 1.7957 - accuracy: 0.6342\n",
            "Epoch 158/200\n",
            "174/174 [==============================] - 6s 35ms/step - loss: 1.7877 - accuracy: 0.6365\n",
            "Epoch 159/200\n",
            "174/174 [==============================] - 6s 36ms/step - loss: 1.7827 - accuracy: 0.6381\n",
            "Epoch 160/200\n",
            "174/174 [==============================] - 6s 36ms/step - loss: 1.7749 - accuracy: 0.6382\n",
            "Epoch 161/200\n",
            "174/174 [==============================] - 6s 36ms/step - loss: 1.7659 - accuracy: 0.6403\n",
            "Epoch 162/200\n",
            "174/174 [==============================] - 6s 36ms/step - loss: 1.7381 - accuracy: 0.6478\n",
            "Epoch 163/200\n",
            "174/174 [==============================] - 6s 35ms/step - loss: 1.7144 - accuracy: 0.6520\n",
            "Epoch 164/200\n",
            "174/174 [==============================] - 6s 36ms/step - loss: 1.7040 - accuracy: 0.6537\n",
            "Epoch 165/200\n",
            "174/174 [==============================] - 6s 35ms/step - loss: 1.6820 - accuracy: 0.6591\n",
            "Epoch 166/200\n",
            "174/174 [==============================] - 6s 36ms/step - loss: 1.6969 - accuracy: 0.6556\n",
            "Epoch 167/200\n",
            "174/174 [==============================] - 6s 36ms/step - loss: 1.6816 - accuracy: 0.6585\n",
            "Epoch 168/200\n",
            "174/174 [==============================] - 6s 36ms/step - loss: 1.6664 - accuracy: 0.6605\n",
            "Epoch 169/200\n",
            "174/174 [==============================] - 6s 36ms/step - loss: 1.6765 - accuracy: 0.6581\n",
            "Epoch 170/200\n",
            "174/174 [==============================] - 6s 36ms/step - loss: 1.6433 - accuracy: 0.6639\n",
            "Epoch 171/200\n",
            "174/174 [==============================] - 6s 36ms/step - loss: 1.6212 - accuracy: 0.6704\n",
            "Epoch 172/200\n",
            "174/174 [==============================] - 6s 36ms/step - loss: 1.6085 - accuracy: 0.6748\n",
            "Epoch 173/200\n",
            "174/174 [==============================] - 6s 36ms/step - loss: 1.5950 - accuracy: 0.6758\n",
            "Epoch 174/200\n",
            "174/174 [==============================] - 6s 36ms/step - loss: 1.5891 - accuracy: 0.6785\n",
            "Epoch 175/200\n",
            "174/174 [==============================] - 6s 36ms/step - loss: 1.5687 - accuracy: 0.6816\n",
            "Epoch 176/200\n",
            "174/174 [==============================] - 6s 36ms/step - loss: 1.5594 - accuracy: 0.6834\n",
            "Epoch 177/200\n",
            "174/174 [==============================] - 6s 36ms/step - loss: 1.5542 - accuracy: 0.6837\n",
            "Epoch 178/200\n",
            "174/174 [==============================] - 6s 36ms/step - loss: 1.5422 - accuracy: 0.6851\n",
            "Epoch 179/200\n",
            "174/174 [==============================] - 6s 36ms/step - loss: 1.5319 - accuracy: 0.6886\n",
            "Epoch 180/200\n",
            "174/174 [==============================] - 6s 36ms/step - loss: 1.5246 - accuracy: 0.6898\n",
            "Epoch 181/200\n",
            "174/174 [==============================] - 6s 36ms/step - loss: 1.5171 - accuracy: 0.6923\n",
            "Epoch 182/200\n",
            "174/174 [==============================] - 6s 36ms/step - loss: 1.5128 - accuracy: 0.6909\n",
            "Epoch 183/200\n",
            "174/174 [==============================] - 6s 36ms/step - loss: 1.5250 - accuracy: 0.6874\n",
            "Epoch 184/200\n",
            "174/174 [==============================] - 6s 36ms/step - loss: 1.5054 - accuracy: 0.6931\n",
            "Epoch 185/200\n",
            "174/174 [==============================] - 6s 36ms/step - loss: 1.4859 - accuracy: 0.6971\n",
            "Epoch 186/200\n",
            "174/174 [==============================] - 6s 36ms/step - loss: 1.4645 - accuracy: 0.7018\n",
            "Epoch 187/200\n",
            "174/174 [==============================] - 6s 36ms/step - loss: 1.4502 - accuracy: 0.7038\n",
            "Epoch 188/200\n",
            "174/174 [==============================] - 6s 36ms/step - loss: 1.4391 - accuracy: 0.7063\n",
            "Epoch 189/200\n",
            "174/174 [==============================] - 6s 36ms/step - loss: 1.4284 - accuracy: 0.7085\n",
            "Epoch 190/200\n",
            "174/174 [==============================] - 6s 36ms/step - loss: 1.4215 - accuracy: 0.7091\n",
            "Epoch 191/200\n",
            "174/174 [==============================] - 6s 36ms/step - loss: 1.4160 - accuracy: 0.7104\n",
            "Epoch 192/200\n",
            "174/174 [==============================] - 6s 36ms/step - loss: 1.4090 - accuracy: 0.7128\n",
            "Epoch 193/200\n",
            "174/174 [==============================] - 6s 36ms/step - loss: 1.4051 - accuracy: 0.7127\n",
            "Epoch 194/200\n",
            "174/174 [==============================] - 6s 36ms/step - loss: 1.4087 - accuracy: 0.7114\n",
            "Epoch 195/200\n",
            "174/174 [==============================] - 6s 36ms/step - loss: 1.4193 - accuracy: 0.7084\n",
            "Epoch 196/200\n",
            "174/174 [==============================] - 6s 36ms/step - loss: 1.3924 - accuracy: 0.7160\n",
            "Epoch 197/200\n",
            "174/174 [==============================] - 6s 36ms/step - loss: 1.3782 - accuracy: 0.7180\n",
            "Epoch 198/200\n",
            "174/174 [==============================] - 6s 36ms/step - loss: 1.3574 - accuracy: 0.7215\n",
            "Epoch 199/200\n",
            "174/174 [==============================] - 6s 36ms/step - loss: 1.3444 - accuracy: 0.7242\n",
            "Epoch 200/200\n",
            "174/174 [==============================] - 6s 36ms/step - loss: 1.3363 - accuracy: 0.7253\n"
          ],
          "name": "stdout"
        }
      ]
    },
    {
      "cell_type": "code",
      "metadata": {
        "colab": {
          "base_uri": "https://localhost:8080/",
          "height": 544
        },
        "id": "Hr-WfS1-5STQ",
        "outputId": "1d339f5c-48c7-4477-f18c-c7b21223769f"
      },
      "source": [
        "acc = history.history['accuracy']\n",
        "loss = history.history['loss']\n",
        "\n",
        "epochs = range(len(acc))\n",
        "\n",
        "plt.plot(epochs, acc, 'b', label='Training accuracy')\n",
        "plt.title('Training accuracy')\n",
        "\n",
        "plt.figure()\n",
        "\n",
        "plt.plot(epochs, loss, 'b', label='Training Loss')\n",
        "plt.title('Training loss')\n",
        "plt.legend()\n",
        "\n",
        "plt.show()"
      ],
      "execution_count": null,
      "outputs": [
        {
          "output_type": "display_data",
          "data": {
            "image/png": "[encoded data removed]",
            "text/plain": [
              "<Figure size 432x288 with 1 Axes>"
            ]
          },
          "metadata": {
            "tags": [],
            "needs_background": "light"
          }
        },
        {
          "output_type": "display_data",
          "data": {
            "image/png": "[encoded data removed]",
            "text/plain": [
              "<Figure size 432x288 with 1 Axes>"
            ]
          },
          "metadata": {
            "tags": [],
            "needs_background": "light"
          }
        }
      ]
    },
    {
      "cell_type": "code",
      "metadata": {
        "id": "SruG36Wn5-GX",
        "colab": {
          "base_uri": "https://localhost:8080/"
        },
        "outputId": "ee533188-17bc-4f1d-b32f-ecb71839718a"
      },
      "source": [
        "model.save('/content/model')"
      ],
      "execution_count": null,
      "outputs": [
        {
          "output_type": "stream",
          "text": [
            "WARNING:absl:Found untraced functions such as lstm_cell_34_layer_call_fn, lstm_cell_34_layer_call_and_return_conditional_losses, lstm_cell_35_layer_call_fn, lstm_cell_35_layer_call_and_return_conditional_losses, lstm_cell_32_layer_call_fn while saving (showing 5 of 20). These functions will not be directly callable after loading.\n",
            "WARNING:absl:Found untraced functions such as lstm_cell_34_layer_call_fn, lstm_cell_34_layer_call_and_return_conditional_losses, lstm_cell_35_layer_call_fn, lstm_cell_35_layer_call_and_return_conditional_losses, lstm_cell_32_layer_call_fn while saving (showing 5 of 20). These functions will not be directly callable after loading.\n"
          ],
          "name": "stderr"
        },
        {
          "output_type": "stream",
          "text": [
            "INFO:tensorflow:Assets written to: /content/model/assets\n"
          ],
          "name": "stdout"
        },
        {
          "output_type": "stream",
          "text": [
            "INFO:tensorflow:Assets written to: /content/model/assets\n"
          ],
          "name": "stderr"
        }
      ]
    },
    {
      "cell_type": "code",
      "metadata": {
        "colab": {
          "base_uri": "https://localhost:8080/"
        },
        "id": "NvQh88Jwiky2",
        "outputId": "4d5c7e85-2892-4cc9-9b48-f3b47f0f5a68"
      },
      "source": [
        "!zip -r /content/model-poetry-generator-ptbrV1.01.06041716.zip /content/model"
      ],
      "execution_count": null,
      "outputs": [
        {
          "output_type": "stream",
          "text": [
            "  adding: content/model/ (stored 0%)\n",
            "  adding: content/model/assets/ (stored 0%)\n",
            "  adding: content/model/saved_model.pb (deflated 90%)\n",
            "  adding: content/model/variables/ (stored 0%)\n",
            "  adding: content/model/variables/variables.index (deflated 68%)\n",
            "  adding: content/model/variables/variables.data-00000-of-00001 (deflated 9%)\n"
          ],
          "name": "stdout"
        }
      ]
    },
    {
      "cell_type": "code",
      "metadata": {
        "id": "BDB_vUiciU1N"
      },
      "source": [
        "model.save_weights('poetry-generator-ptbrV1.01.06041716.h5')"
      ],
      "execution_count": null,
      "outputs": []
    },
    {
      "cell_type": "code",
      "metadata": {
        "colab": {
          "base_uri": "https://localhost:8080/"
        },
        "id": "58gEXQ_x5YqI",
        "outputId": "9ccbf3b3-bc27-43d2-8472-bdec623f6558"
      },
      "source": [
        "#seed_text = \"Minha alma\"\n",
        "#seed_text = 'Nenhuma quantidade de liberdade'\n",
        "#seed_text = 'Água mole em pedra dura'\n",
        "seed_text = 'Os olhos dela brilhavam como o sol'\n",
        "\n",
        "next_words = 40\n",
        "  \n",
        "for _ in range(next_words):\n",
        "    token_list = tokenizer.texts_to_sequences([seed_text])[0]\n",
        "    token_list = pad_sequences([token_list], maxlen=max_sequence_len-1, padding='pre')\n",
        "    predicted = np.argmax(model.predict(token_list), axis=-1)\n",
        "    #predicted = model.predict_classes(token_list, verbose=0)\n",
        "    output_word = \"\"\n",
        "    for word, index in tokenizer.word_index.items():\n",
        "        if index == predicted:\n",
        "            output_word = word\n",
        "            break\n",
        "    seed_text += \" \" + output_word\n",
        "\n",
        "seed_text = seed_text.replace(\" .\", \".\").replace(\" ,\", \",\").replace(\" !\", \"!\").replace(\" ?\", \"?\").replace(\" :\", \":\")\n",
        "\n",
        "print(seed_text)"
      ],
      "execution_count": null,
      "outputs": [
        {
          "output_type": "stream",
          "text": [
            "Os olhos dela brilhavam como o sol dos pássaros feios e bela o cardoso mas quero?? as suas lindas novelas dos séculos rompendo e quero o pernas que que mil que blasfêmias e raios dos dedos o filho vivaz da horas minhas vivos versos ver\n"
          ],
          "name": "stdout"
        }
      ]
    }
  ]
}